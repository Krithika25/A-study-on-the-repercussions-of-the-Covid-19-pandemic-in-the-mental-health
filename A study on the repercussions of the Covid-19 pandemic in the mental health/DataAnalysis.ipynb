{
 "cells": [
  {
   "cell_type": "code",
   "execution_count": 1,
   "metadata": {},
   "outputs": [],
   "source": [
    "import pandas as pd\n",
    "import matplotlib.pyplot as plt\n",
    "import numpy as np\n",
    "import seaborn as sns"
   ]
  },
  {
   "cell_type": "code",
   "execution_count": 2,
   "metadata": {},
   "outputs": [
    {
     "data": {
      "text/html": [
       "<div>\n",
       "<style scoped>\n",
       "    .dataframe tbody tr th:only-of-type {\n",
       "        vertical-align: middle;\n",
       "    }\n",
       "\n",
       "    .dataframe tbody tr th {\n",
       "        vertical-align: top;\n",
       "    }\n",
       "\n",
       "    .dataframe thead th {\n",
       "        text-align: right;\n",
       "    }\n",
       "</style>\n",
       "<table border=\"1\" class=\"dataframe\">\n",
       "  <thead>\n",
       "    <tr style=\"text-align: right;\">\n",
       "      <th></th>\n",
       "      <th>Timestamp</th>\n",
       "      <th>Which age group you belong to?</th>\n",
       "      <th>Location(From which state you are?)</th>\n",
       "      <th>Is it difficult to get essentials(food/medicine)?</th>\n",
       "      <th>What is your gender?</th>\n",
       "      <th>How you ever felt symptoms of COVID?</th>\n",
       "      <th>Do you have any of the following conditions?</th>\n",
       "      <th>During the lockdown have you been doing more household work?</th>\n",
       "      <th>Have you or anyone you know have corona virus/recovered from COVID/been tested for COVID?</th>\n",
       "      <th>How often do you use masks/hand sanitizers(per day)?</th>\n",
       "      <th>...</th>\n",
       "      <th>Economy</th>\n",
       "      <th>Career</th>\n",
       "      <th>Restlessness</th>\n",
       "      <th>Lockdown</th>\n",
       "      <th>Precautious</th>\n",
       "      <th>Frustration</th>\n",
       "      <th>Anxiety Numerical</th>\n",
       "      <th>Anxiety Level</th>\n",
       "      <th>Level Of Anxiety</th>\n",
       "      <th>Cluster</th>\n",
       "    </tr>\n",
       "  </thead>\n",
       "  <tbody>\n",
       "    <tr>\n",
       "      <th>0</th>\n",
       "      <td>6/19/2020 13:39:56</td>\n",
       "      <td>18-25</td>\n",
       "      <td>Tamilnadu</td>\n",
       "      <td>0</td>\n",
       "      <td>1</td>\n",
       "      <td>0</td>\n",
       "      <td>0</td>\n",
       "      <td>1</td>\n",
       "      <td>1</td>\n",
       "      <td>0</td>\n",
       "      <td>...</td>\n",
       "      <td>0</td>\n",
       "      <td>0</td>\n",
       "      <td>2</td>\n",
       "      <td>1</td>\n",
       "      <td>3</td>\n",
       "      <td>1</td>\n",
       "      <td>8</td>\n",
       "      <td>1</td>\n",
       "      <td>0 anxiety</td>\n",
       "      <td>1</td>\n",
       "    </tr>\n",
       "    <tr>\n",
       "      <th>1</th>\n",
       "      <td>6/19/2020 13:40:56</td>\n",
       "      <td>18-25</td>\n",
       "      <td>Tamilnadu</td>\n",
       "      <td>0</td>\n",
       "      <td>1</td>\n",
       "      <td>0</td>\n",
       "      <td>0</td>\n",
       "      <td>0</td>\n",
       "      <td>0</td>\n",
       "      <td>0</td>\n",
       "      <td>...</td>\n",
       "      <td>0</td>\n",
       "      <td>0</td>\n",
       "      <td>2</td>\n",
       "      <td>1</td>\n",
       "      <td>2</td>\n",
       "      <td>1</td>\n",
       "      <td>7</td>\n",
       "      <td>1</td>\n",
       "      <td>mild anxiety</td>\n",
       "      <td>0</td>\n",
       "    </tr>\n",
       "    <tr>\n",
       "      <th>2</th>\n",
       "      <td>6/19/2020 13:42:23</td>\n",
       "      <td>18-25</td>\n",
       "      <td>Tamilnadu</td>\n",
       "      <td>0</td>\n",
       "      <td>1</td>\n",
       "      <td>0</td>\n",
       "      <td>0</td>\n",
       "      <td>1</td>\n",
       "      <td>0</td>\n",
       "      <td>0</td>\n",
       "      <td>...</td>\n",
       "      <td>0</td>\n",
       "      <td>1</td>\n",
       "      <td>3</td>\n",
       "      <td>2</td>\n",
       "      <td>2</td>\n",
       "      <td>2</td>\n",
       "      <td>12</td>\n",
       "      <td>2</td>\n",
       "      <td>moderate anxiety</td>\n",
       "      <td>0</td>\n",
       "    </tr>\n",
       "    <tr>\n",
       "      <th>3</th>\n",
       "      <td>6/19/2020 13:51:36</td>\n",
       "      <td>18-25</td>\n",
       "      <td>Tamilnadu</td>\n",
       "      <td>0</td>\n",
       "      <td>0</td>\n",
       "      <td>0</td>\n",
       "      <td>0</td>\n",
       "      <td>0</td>\n",
       "      <td>1</td>\n",
       "      <td>1</td>\n",
       "      <td>...</td>\n",
       "      <td>2</td>\n",
       "      <td>1</td>\n",
       "      <td>1</td>\n",
       "      <td>1</td>\n",
       "      <td>2</td>\n",
       "      <td>1</td>\n",
       "      <td>9</td>\n",
       "      <td>1</td>\n",
       "      <td>0 anxiety</td>\n",
       "      <td>3</td>\n",
       "    </tr>\n",
       "    <tr>\n",
       "      <th>4</th>\n",
       "      <td>6/19/2020 13:51:45</td>\n",
       "      <td>18-25</td>\n",
       "      <td>Tamilnadu</td>\n",
       "      <td>0</td>\n",
       "      <td>1</td>\n",
       "      <td>0</td>\n",
       "      <td>0</td>\n",
       "      <td>0</td>\n",
       "      <td>1</td>\n",
       "      <td>1</td>\n",
       "      <td>...</td>\n",
       "      <td>0</td>\n",
       "      <td>1</td>\n",
       "      <td>1</td>\n",
       "      <td>1</td>\n",
       "      <td>3</td>\n",
       "      <td>2</td>\n",
       "      <td>9</td>\n",
       "      <td>1</td>\n",
       "      <td>0 anxiety</td>\n",
       "      <td>0</td>\n",
       "    </tr>\n",
       "  </tbody>\n",
       "</table>\n",
       "<p>5 rows × 38 columns</p>\n",
       "</div>"
      ],
      "text/plain": [
       "            Timestamp Which age group you belong to?  \\\n",
       "0  6/19/2020 13:39:56                          18-25   \n",
       "1  6/19/2020 13:40:56                          18-25   \n",
       "2  6/19/2020 13:42:23                          18-25   \n",
       "3  6/19/2020 13:51:36                          18-25   \n",
       "4  6/19/2020 13:51:45                          18-25   \n",
       "\n",
       "  Location(From which state you are?)  \\\n",
       "0                           Tamilnadu   \n",
       "1                           Tamilnadu   \n",
       "2                           Tamilnadu   \n",
       "3                           Tamilnadu   \n",
       "4                           Tamilnadu   \n",
       "\n",
       "   Is it difficult to get essentials(food/medicine)?  What is your gender?  \\\n",
       "0                                                  0                     1   \n",
       "1                                                  0                     1   \n",
       "2                                                  0                     1   \n",
       "3                                                  0                     0   \n",
       "4                                                  0                     1   \n",
       "\n",
       "   How you ever felt symptoms of COVID?  \\\n",
       "0                                     0   \n",
       "1                                     0   \n",
       "2                                     0   \n",
       "3                                     0   \n",
       "4                                     0   \n",
       "\n",
       "   Do you have any of the following conditions?  \\\n",
       "0                                             0   \n",
       "1                                             0   \n",
       "2                                             0   \n",
       "3                                             0   \n",
       "4                                             0   \n",
       "\n",
       "   During the lockdown have you been doing more household work?  \\\n",
       "0                                                  1              \n",
       "1                                                  0              \n",
       "2                                                  1              \n",
       "3                                                  0              \n",
       "4                                                  0              \n",
       "\n",
       "   Have you or anyone you know have corona virus/recovered from COVID/been tested for COVID?  \\\n",
       "0                                                  1                                           \n",
       "1                                                  0                                           \n",
       "2                                                  0                                           \n",
       "3                                                  1                                           \n",
       "4                                                  1                                           \n",
       "\n",
       "   How often do you use masks/hand sanitizers(per day)?  ...  Economy  Career  \\\n",
       "0                                                  0     ...        0       0   \n",
       "1                                                  0     ...        0       0   \n",
       "2                                                  0     ...        0       1   \n",
       "3                                                  1     ...        2       1   \n",
       "4                                                  1     ...        0       1   \n",
       "\n",
       "   Restlessness  Lockdown  Precautious  Frustration  Anxiety Numerical  \\\n",
       "0             2         1            3            1                  8   \n",
       "1             2         1            2            1                  7   \n",
       "2             3         2            2            2                 12   \n",
       "3             1         1            2            1                  9   \n",
       "4             1         1            3            2                  9   \n",
       "\n",
       "   Anxiety Level  Level Of Anxiety  Cluster  \n",
       "0              1         0 anxiety        1  \n",
       "1              1      mild anxiety        0  \n",
       "2              2  moderate anxiety        0  \n",
       "3              1         0 anxiety        3  \n",
       "4              1         0 anxiety        0  \n",
       "\n",
       "[5 rows x 38 columns]"
      ]
     },
     "execution_count": 2,
     "metadata": {},
     "output_type": "execute_result"
    }
   ],
   "source": [
    "df=pd.read_excel('./../myproj/Survey_final_1.xlsx',nrows=830)\n",
    "df.head()"
   ]
  },
  {
   "cell_type": "code",
   "execution_count": 3,
   "metadata": {},
   "outputs": [],
   "source": [
    "X=df"
   ]
  },
  {
   "cell_type": "code",
   "execution_count": 4,
   "metadata": {},
   "outputs": [
    {
     "data": {
      "text/plain": [
       "What is your gender?\n",
       "0    207\n",
       "1    232\n",
       "dtype: int64"
      ]
     },
     "execution_count": 4,
     "metadata": {},
     "output_type": "execute_result"
    },
    {
     "data": {
      "image/png": "[encoded data removed]",
      "text/plain": [
       "<Figure size 432x288 with 1 Axes>"
      ]
     },
     "metadata": {
      "needs_background": "light"
     },
     "output_type": "display_data"
    }
   ],
   "source": [
    "X['What is your gender?'].plot.hist()\n",
    "X.groupby('What is your gender?').size()"
   ]
  },
  {
   "cell_type": "code",
   "execution_count": 4,
   "metadata": {},
   "outputs": [
    {
     "data": {
      "text/html": [
       "<div>\n",
       "<style scoped>\n",
       "    .dataframe tbody tr th:only-of-type {\n",
       "        vertical-align: middle;\n",
       "    }\n",
       "\n",
       "    .dataframe tbody tr th {\n",
       "        vertical-align: top;\n",
       "    }\n",
       "\n",
       "    .dataframe thead th {\n",
       "        text-align: right;\n",
       "    }\n",
       "</style>\n",
       "<table border=\"1\" class=\"dataframe\">\n",
       "  <thead>\n",
       "    <tr style=\"text-align: right;\">\n",
       "      <th></th>\n",
       "      <th>Timestamp</th>\n",
       "      <th>Which age group you belong to?</th>\n",
       "      <th>Location(From which state you are?)</th>\n",
       "      <th>Is it difficult to get essentials(food/medicine)?</th>\n",
       "      <th>What is your gender?</th>\n",
       "      <th>How you ever felt symptoms of COVID?</th>\n",
       "      <th>Do you have any of the following conditions?</th>\n",
       "      <th>During the lockdown have you been doing more household work?</th>\n",
       "      <th>Have you or anyone you know have corona virus/recovered from COVID/been tested for COVID?</th>\n",
       "      <th>How often do you use masks/hand sanitizers(per day)?</th>\n",
       "      <th>...</th>\n",
       "      <th>Economy</th>\n",
       "      <th>Career</th>\n",
       "      <th>Restlessness</th>\n",
       "      <th>Lockdown</th>\n",
       "      <th>Precautious</th>\n",
       "      <th>Frustration</th>\n",
       "      <th>Anxiety Numerical</th>\n",
       "      <th>Anxiety Level</th>\n",
       "      <th>Level Of Anxiety</th>\n",
       "      <th>Cluster</th>\n",
       "    </tr>\n",
       "  </thead>\n",
       "  <tbody>\n",
       "    <tr>\n",
       "      <th>0</th>\n",
       "      <td>6/19/2020 13:39:56</td>\n",
       "      <td>18-25</td>\n",
       "      <td>Tamilnadu</td>\n",
       "      <td>0</td>\n",
       "      <td>1</td>\n",
       "      <td>0</td>\n",
       "      <td>0</td>\n",
       "      <td>1</td>\n",
       "      <td>1</td>\n",
       "      <td>0</td>\n",
       "      <td>...</td>\n",
       "      <td>0</td>\n",
       "      <td>0</td>\n",
       "      <td>2</td>\n",
       "      <td>1</td>\n",
       "      <td>3</td>\n",
       "      <td>1</td>\n",
       "      <td>8</td>\n",
       "      <td>1</td>\n",
       "      <td>0 anxiety</td>\n",
       "      <td>1</td>\n",
       "    </tr>\n",
       "    <tr>\n",
       "      <th>1</th>\n",
       "      <td>6/19/2020 13:40:56</td>\n",
       "      <td>18-25</td>\n",
       "      <td>Tamilnadu</td>\n",
       "      <td>0</td>\n",
       "      <td>1</td>\n",
       "      <td>0</td>\n",
       "      <td>0</td>\n",
       "      <td>0</td>\n",
       "      <td>0</td>\n",
       "      <td>0</td>\n",
       "      <td>...</td>\n",
       "      <td>0</td>\n",
       "      <td>0</td>\n",
       "      <td>2</td>\n",
       "      <td>1</td>\n",
       "      <td>2</td>\n",
       "      <td>1</td>\n",
       "      <td>7</td>\n",
       "      <td>1</td>\n",
       "      <td>mild anxiety</td>\n",
       "      <td>0</td>\n",
       "    </tr>\n",
       "    <tr>\n",
       "      <th>2</th>\n",
       "      <td>6/19/2020 13:42:23</td>\n",
       "      <td>18-25</td>\n",
       "      <td>Tamilnadu</td>\n",
       "      <td>0</td>\n",
       "      <td>1</td>\n",
       "      <td>0</td>\n",
       "      <td>0</td>\n",
       "      <td>1</td>\n",
       "      <td>0</td>\n",
       "      <td>0</td>\n",
       "      <td>...</td>\n",
       "      <td>0</td>\n",
       "      <td>1</td>\n",
       "      <td>3</td>\n",
       "      <td>2</td>\n",
       "      <td>2</td>\n",
       "      <td>2</td>\n",
       "      <td>12</td>\n",
       "      <td>2</td>\n",
       "      <td>moderate anxiety</td>\n",
       "      <td>0</td>\n",
       "    </tr>\n",
       "    <tr>\n",
       "      <th>3</th>\n",
       "      <td>6/19/2020 13:51:36</td>\n",
       "      <td>18-25</td>\n",
       "      <td>Tamilnadu</td>\n",
       "      <td>0</td>\n",
       "      <td>0</td>\n",
       "      <td>0</td>\n",
       "      <td>0</td>\n",
       "      <td>0</td>\n",
       "      <td>1</td>\n",
       "      <td>1</td>\n",
       "      <td>...</td>\n",
       "      <td>2</td>\n",
       "      <td>1</td>\n",
       "      <td>1</td>\n",
       "      <td>1</td>\n",
       "      <td>2</td>\n",
       "      <td>1</td>\n",
       "      <td>9</td>\n",
       "      <td>1</td>\n",
       "      <td>0 anxiety</td>\n",
       "      <td>3</td>\n",
       "    </tr>\n",
       "    <tr>\n",
       "      <th>4</th>\n",
       "      <td>6/19/2020 13:51:45</td>\n",
       "      <td>18-25</td>\n",
       "      <td>Tamilnadu</td>\n",
       "      <td>0</td>\n",
       "      <td>1</td>\n",
       "      <td>0</td>\n",
       "      <td>0</td>\n",
       "      <td>0</td>\n",
       "      <td>1</td>\n",
       "      <td>1</td>\n",
       "      <td>...</td>\n",
       "      <td>0</td>\n",
       "      <td>1</td>\n",
       "      <td>1</td>\n",
       "      <td>1</td>\n",
       "      <td>3</td>\n",
       "      <td>2</td>\n",
       "      <td>9</td>\n",
       "      <td>1</td>\n",
       "      <td>0 anxiety</td>\n",
       "      <td>0</td>\n",
       "    </tr>\n",
       "  </tbody>\n",
       "</table>\n",
       "<p>5 rows × 38 columns</p>\n",
       "</div>"
      ],
      "text/plain": [
       "            Timestamp Which age group you belong to?  \\\n",
       "0  6/19/2020 13:39:56                          18-25   \n",
       "1  6/19/2020 13:40:56                          18-25   \n",
       "2  6/19/2020 13:42:23                          18-25   \n",
       "3  6/19/2020 13:51:36                          18-25   \n",
       "4  6/19/2020 13:51:45                          18-25   \n",
       "\n",
       "  Location(From which state you are?)  \\\n",
       "0                           Tamilnadu   \n",
       "1                           Tamilnadu   \n",
       "2                           Tamilnadu   \n",
       "3                           Tamilnadu   \n",
       "4                           Tamilnadu   \n",
       "\n",
       "   Is it difficult to get essentials(food/medicine)?  What is your gender?  \\\n",
       "0                                                  0                     1   \n",
       "1                                                  0                     1   \n",
       "2                                                  0                     1   \n",
       "3                                                  0                     0   \n",
       "4                                                  0                     1   \n",
       "\n",
       "   How you ever felt symptoms of COVID?  \\\n",
       "0                                     0   \n",
       "1                                     0   \n",
       "2                                     0   \n",
       "3                                     0   \n",
       "4                                     0   \n",
       "\n",
       "   Do you have any of the following conditions?  \\\n",
       "0                                             0   \n",
       "1                                             0   \n",
       "2                                             0   \n",
       "3                                             0   \n",
       "4                                             0   \n",
       "\n",
       "   During the lockdown have you been doing more household work?  \\\n",
       "0                                                  1              \n",
       "1                                                  0              \n",
       "2                                                  1              \n",
       "3                                                  0              \n",
       "4                                                  0              \n",
       "\n",
       "   Have you or anyone you know have corona virus/recovered from COVID/been tested for COVID?  \\\n",
       "0                                                  1                                           \n",
       "1                                                  0                                           \n",
       "2                                                  0                                           \n",
       "3                                                  1                                           \n",
       "4                                                  1                                           \n",
       "\n",
       "   How often do you use masks/hand sanitizers(per day)?  ...  Economy  Career  \\\n",
       "0                                                  0     ...        0       0   \n",
       "1                                                  0     ...        0       0   \n",
       "2                                                  0     ...        0       1   \n",
       "3                                                  1     ...        2       1   \n",
       "4                                                  1     ...        0       1   \n",
       "\n",
       "   Restlessness  Lockdown  Precautious  Frustration  Anxiety Numerical  \\\n",
       "0             2         1            3            1                  8   \n",
       "1             2         1            2            1                  7   \n",
       "2             3         2            2            2                 12   \n",
       "3             1         1            2            1                  9   \n",
       "4             1         1            3            2                  9   \n",
       "\n",
       "   Anxiety Level  Level Of Anxiety  Cluster  \n",
       "0              1         0 anxiety        1  \n",
       "1              1      mild anxiety        0  \n",
       "2              2  moderate anxiety        0  \n",
       "3              1         0 anxiety        3  \n",
       "4              1         0 anxiety        0  \n",
       "\n",
       "[5 rows x 38 columns]"
      ]
     },
     "execution_count": 4,
     "metadata": {},
     "output_type": "execute_result"
    }
   ],
   "source": [
    "X.head()"
   ]
  },
  {
   "cell_type": "code",
   "execution_count": 70,
   "metadata": {},
   "outputs": [
    {
     "data": {
      "text/plain": [
       "Is it difficult to get essentials(food/medicine)?\n",
       "0    403\n",
       "1     36\n",
       "dtype: int64"
      ]
     },
     "execution_count": 70,
     "metadata": {},
     "output_type": "execute_result"
    },
    {
     "data": {
      "image/png": "[encoded data removed]",
      "text/plain": [
       "<Figure size 432x288 with 1 Axes>"
      ]
     },
     "metadata": {
      "needs_background": "light"
     },
     "output_type": "display_data"
    }
   ],
   "source": [
    "X['Is it difficult to get essentials(food/medicine)?'].plot.hist()\n",
    "X.groupby('Is it difficult to get essentials(food/medicine)?').size()"
   ]
  },
  {
   "cell_type": "code",
   "execution_count": 51,
   "metadata": {},
   "outputs": [
    {
     "data": {
      "text/plain": [
       "How you ever felt symptoms of COVID?\n",
       "0    420\n",
       "1     19\n",
       "dtype: int64"
      ]
     },
     "execution_count": 51,
     "metadata": {},
     "output_type": "execute_result"
    },
    {
     "data": {
      "image/png": "[encoded data removed]",
      "text/plain": [
       "<Figure size 432x288 with 1 Axes>"
      ]
     },
     "metadata": {
      "needs_background": "light"
     },
     "output_type": "display_data"
    }
   ],
   "source": [
    "X['How you ever felt symptoms of COVID?'].plot.hist()\n",
    "X.groupby('How you ever felt symptoms of COVID?').size()"
   ]
  },
  {
   "cell_type": "code",
   "execution_count": 52,
   "metadata": {},
   "outputs": [
    {
     "data": {
      "text/plain": [
       "During the lockdown have you been doing more household work?\n",
       "0    158\n",
       "1    281\n",
       "dtype: int64"
      ]
     },
     "execution_count": 52,
     "metadata": {},
     "output_type": "execute_result"
    },
    {
     "data": {
      "image/png": "[encoded data removed]",
      "text/plain": [
       "<Figure size 432x288 with 1 Axes>"
      ]
     },
     "metadata": {
      "needs_background": "light"
     },
     "output_type": "display_data"
    }
   ],
   "source": [
    "X['During the lockdown have you been doing more household work?'].plot.hist()\n",
    "X.groupby('During the lockdown have you been doing more household work?').size()"
   ]
  },
  {
   "cell_type": "code",
   "execution_count": 53,
   "metadata": {},
   "outputs": [
    {
     "data": {
      "text/plain": [
       "Do you feel like you have wasted your time during the lock down or have you ever felt pressurized by your peer’s accomplishments during the lock down?\n",
       "0    252\n",
       "1    187\n",
       "dtype: int64"
      ]
     },
     "execution_count": 53,
     "metadata": {},
     "output_type": "execute_result"
    },
    {
     "data": {
      "image/png": "[encoded data removed]",
      "text/plain": [
       "<Figure size 432x288 with 1 Axes>"
      ]
     },
     "metadata": {
      "needs_background": "light"
     },
     "output_type": "display_data"
    }
   ],
   "source": [
    "X['Do you feel like you have wasted your time during the lock down or have you ever felt pressurized by your peer’s accomplishments during the lock down?'].plot.hist()\n",
    "X.groupby('Do you feel like you have wasted your time during the lock down or have you ever felt pressurized by your peer’s accomplishments during the lock down?').size()"
   ]
  },
  {
   "cell_type": "code",
   "execution_count": 54,
   "metadata": {},
   "outputs": [
    {
     "data": {
      "text/plain": [
       "How often do you eat outside food? (per week)\n",
       "0    405\n",
       "1     34\n",
       "dtype: int64"
      ]
     },
     "execution_count": 54,
     "metadata": {},
     "output_type": "execute_result"
    },
    {
     "data": {
      "image/png": "[encoded data removed]",
      "text/plain": [
       "<Figure size 432x288 with 1 Axes>"
      ]
     },
     "metadata": {
      "needs_background": "light"
     },
     "output_type": "display_data"
    }
   ],
   "source": [
    "X['How often do you eat outside food? (per week)'].plot.hist()\n",
    "X.groupby('How often do you eat outside food? (per week)').size()"
   ]
  },
  {
   "cell_type": "code",
   "execution_count": 55,
   "metadata": {},
   "outputs": [
    {
     "data": {
      "text/plain": [
       "Are you in a containment zone?\n",
       "0    321\n",
       "1    118\n",
       "dtype: int64"
      ]
     },
     "execution_count": 55,
     "metadata": {},
     "output_type": "execute_result"
    },
    {
     "data": {
      "image/png": "[encoded data removed]",
      "text/plain": [
       "<Figure size 432x288 with 1 Axes>"
      ]
     },
     "metadata": {
      "needs_background": "light"
     },
     "output_type": "display_data"
    }
   ],
   "source": [
    "X['Are you in a containment zone?'].plot.hist()\n",
    "X.groupby('Are you in a containment zone?').size()"
   ]
  },
  {
   "cell_type": "code",
   "execution_count": 56,
   "metadata": {},
   "outputs": [
    {
     "data": {
      "text/plain": [
       "Are you stuck somewhere alone without support from friends or family?\n",
       "0    419\n",
       "1     20\n",
       "dtype: int64"
      ]
     },
     "execution_count": 56,
     "metadata": {},
     "output_type": "execute_result"
    },
    {
     "data": {
      "image/png": "[encoded data removed]",
      "text/plain": [
       "<Figure size 432x288 with 1 Axes>"
      ]
     },
     "metadata": {
      "needs_background": "light"
     },
     "output_type": "display_data"
    }
   ],
   "source": [
    "X['Are you stuck somewhere alone without support from friends or family?'].plot.hist()\n",
    "X.groupby('Are you stuck somewhere alone without support from friends or family?').size()"
   ]
  },
  {
   "cell_type": "code",
   "execution_count": 57,
   "metadata": {},
   "outputs": [
    {
     "data": {
      "text/plain": [
       "Do you have children less than 3 yrs, or elders 65+ at your house?\n",
       "0    295\n",
       "1    144\n",
       "dtype: int64"
      ]
     },
     "execution_count": 57,
     "metadata": {},
     "output_type": "execute_result"
    },
    {
     "data": {
      "image/png": "[encoded data removed]",
      "text/plain": [
       "<Figure size 432x288 with 1 Axes>"
      ]
     },
     "metadata": {
      "needs_background": "light"
     },
     "output_type": "display_data"
    }
   ],
   "source": [
    "X['Do you have children less than 3 yrs, or elders 65+ at your house?'].plot.hist()\n",
    "X.groupby('Do you have children less than 3 yrs, or elders 65+ at your house?').size()"
   ]
  },
  {
   "cell_type": "code",
   "execution_count": 58,
   "metadata": {},
   "outputs": [
    {
     "data": {
      "text/plain": [
       "Have you ever felt afraid or anxious to go to hospital during this pandemic?\n",
       "0    229\n",
       "1    210\n",
       "dtype: int64"
      ]
     },
     "execution_count": 58,
     "metadata": {},
     "output_type": "execute_result"
    },
    {
     "data": {
      "image/png": "[encoded data removed]",
      "text/plain": [
       "<Figure size 432x288 with 1 Axes>"
      ]
     },
     "metadata": {
      "needs_background": "light"
     },
     "output_type": "display_data"
    }
   ],
   "source": [
    "X['Have you ever felt afraid or anxious to go to hospital during this pandemic?'].plot.hist()\n",
    "X.groupby('Have you ever felt afraid or anxious to go to hospital during this pandemic?').size()"
   ]
  },
  {
   "cell_type": "code",
   "execution_count": 59,
   "metadata": {},
   "outputs": [
    {
     "data": {
      "text/plain": [
       "Has your sleep cycle changed drastically?\n",
       "0    161\n",
       "1    278\n",
       "dtype: int64"
      ]
     },
     "execution_count": 59,
     "metadata": {},
     "output_type": "execute_result"
    },
    {
     "data": {
      "image/png": "[encoded data removed]",
      "text/plain": [
       "<Figure size 432x288 with 1 Axes>"
      ]
     },
     "metadata": {
      "needs_background": "light"
     },
     "output_type": "display_data"
    }
   ],
   "source": [
    "X['Has your sleep cycle changed drastically?'].plot.hist()\n",
    "X.groupby('Has your sleep cycle changed drastically?').size()"
   ]
  },
  {
   "cell_type": "code",
   "execution_count": 60,
   "metadata": {},
   "outputs": [
    {
     "data": {
      "text/plain": [
       "Have you felt frustrated by having your activities, major life events or opportunities affected by the virus?\n",
       "0    161\n",
       "1    278\n",
       "dtype: int64"
      ]
     },
     "execution_count": 60,
     "metadata": {},
     "output_type": "execute_result"
    },
    {
     "data": {
      "image/png": "[encoded data removed]",
      "text/plain": [
       "<Figure size 432x288 with 1 Axes>"
      ]
     },
     "metadata": {
      "needs_background": "light"
     },
     "output_type": "display_data"
    }
   ],
   "source": [
    "X['Have you felt frustrated by having your activities, major life events or opportunities affected by the virus?'].plot.hist()\n",
    "X.groupby('Have you felt frustrated by having your activities, major life events or opportunities affected by the virus?').size()"
   ]
  },
  {
   "cell_type": "code",
   "execution_count": 61,
   "metadata": {},
   "outputs": [
    {
     "data": {
      "text/plain": [
       "Is someone from your family in the medical field everyday?\n",
       "0    362\n",
       "1     77\n",
       "dtype: int64"
      ]
     },
     "execution_count": 61,
     "metadata": {},
     "output_type": "execute_result"
    },
    {
     "data": {
      "image/png": "[encoded data removed]",
      "text/plain": [
       "<Figure size 432x288 with 1 Axes>"
      ]
     },
     "metadata": {
      "needs_background": "light"
     },
     "output_type": "display_data"
    }
   ],
   "source": [
    "X['Is someone from your family in the medical field everyday?'].plot.hist()\n",
    "X.groupby('Is someone from your family in the medical field everyday?').size()"
   ]
  },
  {
   "cell_type": "code",
   "execution_count": 62,
   "metadata": {},
   "outputs": [
    {
     "data": {
      "text/plain": [
       "Do you have online classes/assignments/assessments/tests?\n",
       "0    143\n",
       "1    296\n",
       "dtype: int64"
      ]
     },
     "execution_count": 62,
     "metadata": {},
     "output_type": "execute_result"
    },
    {
     "data": {
      "image/png": "[encoded data removed]",
      "text/plain": [
       "<Figure size 432x288 with 1 Axes>"
      ]
     },
     "metadata": {
      "needs_background": "light"
     },
     "output_type": "display_data"
    }
   ],
   "source": [
    "X['Do you have online classes/assignments/assessments/tests?'].plot.hist()\n",
    "X.groupby('Do you have online classes/assignments/assessments/tests?').size()"
   ]
  },
  {
   "cell_type": "code",
   "execution_count": 63,
   "metadata": {},
   "outputs": [
    {
     "data": {
      "text/plain": [
       "Did you face a pay cut/job loss/take another job to cover expenses?\n",
       "0    384\n",
       "1     55\n",
       "dtype: int64"
      ]
     },
     "execution_count": 63,
     "metadata": {},
     "output_type": "execute_result"
    },
    {
     "data": {
      "image/png": "[encoded data removed]",
      "text/plain": [
       "<Figure size 432x288 with 1 Axes>"
      ]
     },
     "metadata": {
      "needs_background": "light"
     },
     "output_type": "display_data"
    }
   ],
   "source": [
    "X['Did you face a pay cut/job loss/take another job to cover expenses?'].plot.hist()\n",
    "X.groupby('Did you face a pay cut/job loss/take another job to cover expenses?').size()"
   ]
  },
  {
   "cell_type": "code",
   "execution_count": 64,
   "metadata": {},
   "outputs": [
    {
     "data": {
      "text/plain": [
       "How often do you leave your house?(per week)\n",
       "0    389\n",
       "1     50\n",
       "dtype: int64"
      ]
     },
     "execution_count": 64,
     "metadata": {},
     "output_type": "execute_result"
    },
    {
     "data": {
      "image/png": "[encoded data removed]",
      "text/plain": [
       "<Figure size 432x288 with 1 Axes>"
      ]
     },
     "metadata": {
      "needs_background": "light"
     },
     "output_type": "display_data"
    }
   ],
   "source": [
    "X['How often do you leave your house?(per week)'].plot.hist()\n",
    "X.groupby('How often do you leave your house?(per week)').size()"
   ]
  },
  {
   "cell_type": "code",
   "execution_count": 65,
   "metadata": {},
   "outputs": [
    {
     "data": {
      "text/plain": [
       "How often do you interact with people outside your house(friends,neighbors etc.,)?\n",
       "0    322\n",
       "1    117\n",
       "dtype: int64"
      ]
     },
     "execution_count": 65,
     "metadata": {},
     "output_type": "execute_result"
    },
    {
     "data": {
      "image/png": "[encoded data removed]",
      "text/plain": [
       "<Figure size 432x288 with 1 Axes>"
      ]
     },
     "metadata": {
      "needs_background": "light"
     },
     "output_type": "display_data"
    }
   ],
   "source": [
    "X['How often do you interact with people outside your house(friends,neighbors etc.,)?'].plot.hist()\n",
    "X.groupby('How often do you interact with people outside your house(friends,neighbors etc.,)?').size()"
   ]
  },
  {
   "cell_type": "code",
   "execution_count": 66,
   "metadata": {},
   "outputs": [
    {
     "data": {
      "text/plain": [
       "Have you taken any medication to prevent corona(Chloroquine or kabasura kudineer) or any medication to increase your immunity?\n",
       "0    240\n",
       "1    199\n",
       "dtype: int64"
      ]
     },
     "execution_count": 66,
     "metadata": {},
     "output_type": "execute_result"
    },
    {
     "data": {
      "image/png": "[encoded data removed]",
      "text/plain": [
       "<Figure size 432x288 with 1 Axes>"
      ]
     },
     "metadata": {
      "needs_background": "light"
     },
     "output_type": "display_data"
    }
   ],
   "source": [
    "X['Have you taken any medication to prevent corona(Chloroquine or kabasura kudineer) or any medication to increase your immunity?'].plot.hist()\n",
    "X.groupby('Have you taken any medication to prevent corona(Chloroquine or kabasura kudineer) or any medication to increase your immunity?').size()"
   ]
  },
  {
   "cell_type": "code",
   "execution_count": 67,
   "metadata": {},
   "outputs": [
    {
     "data": {
      "text/plain": [
       "Do you miss hanging out with people outside of your house?\n",
       "0    107\n",
       "1    332\n",
       "dtype: int64"
      ]
     },
     "execution_count": 67,
     "metadata": {},
     "output_type": "execute_result"
    },
    {
     "data": {
      "image/png": "[encoded data removed]",
      "text/plain": [
       "<Figure size 432x288 with 1 Axes>"
      ]
     },
     "metadata": {
      "needs_background": "light"
     },
     "output_type": "display_data"
    }
   ],
   "source": [
    "X['Do you miss hanging out with people outside of your house?'].plot.hist()\n",
    "X.groupby('Do you miss hanging out with people outside of your house?').size()"
   ]
  },
  {
   "cell_type": "code",
   "execution_count": 68,
   "metadata": {},
   "outputs": [
    {
     "data": {
      "text/plain": [
       "Have you been affected by not being able to visit religious places?\n",
       "0    326\n",
       "1    113\n",
       "dtype: int64"
      ]
     },
     "execution_count": 68,
     "metadata": {},
     "output_type": "execute_result"
    },
    {
     "data": {
      "image/png": "[encoded data removed]",
      "text/plain": [
       "<Figure size 432x288 with 1 Axes>"
      ]
     },
     "metadata": {
      "needs_background": "light"
     },
     "output_type": "display_data"
    }
   ],
   "source": [
    "X['Have you been affected by not being able to visit religious places?'].plot.hist()\n",
    "X.groupby('Have you been affected by not being able to visit religious places?').size()"
   ]
  },
  {
   "cell_type": "code",
   "execution_count": 35,
   "metadata": {},
   "outputs": [
    {
     "data": {
      "text/plain": [
       "0 anxiety           200\n",
       "mild anxiety        145\n",
       "moderate anxiety     70\n",
       "severe anxiety       24\n",
       "Name: Level Of Anxiety, dtype: int64"
      ]
     },
     "execution_count": 35,
     "metadata": {},
     "output_type": "execute_result"
    }
   ],
   "source": [
    "X['Level Of Anxiety'].value_counts()"
   ]
  },
  {
   "cell_type": "code",
   "execution_count": 34,
   "metadata": {},
   "outputs": [
    {
     "data": {
      "text/plain": [
       "<matplotlib.axes._subplots.AxesSubplot at 0x1dfd8538>"
      ]
     },
     "execution_count": 34,
     "metadata": {},
     "output_type": "execute_result"
    },
    {
     "data": {
      "image/png": "[encoded data removed]",
      "text/plain": [
       "<Figure size 432x288 with 1 Axes>"
      ]
     },
     "metadata": {
      "needs_background": "light"
     },
     "output_type": "display_data"
    }
   ],
   "source": [
    "X['Anxiety Numerical '].plot.hist()"
   ]
  },
  {
   "cell_type": "code",
   "execution_count": 39,
   "metadata": {},
   "outputs": [
    {
     "name": "stderr",
     "output_type": "stream",
     "text": [
      "c:\\users\\admin\\appdata\\local\\programs\\python\\python38-32\\lib\\site-packages\\seaborn\\axisgrid.py:861: UserWarning: Tight layout not applied. The left and right margins cannot be made large enough to accommodate all axes decorations. \n",
      "  self.fig.tight_layout()\n"
     ]
    },
    {
     "data": {
      "text/plain": [
       "<seaborn.axisgrid.FacetGrid at 0x1bdbf028>"
      ]
     },
     "execution_count": 39,
     "metadata": {},
     "output_type": "execute_result"
    },
    {
     "data": {
      "image/png": "[encoded data removed]",
      "text/plain": [
       "<Figure size 360x360 with 1 Axes>"
      ]
     },
     "metadata": {
      "needs_background": "light"
     },
     "output_type": "display_data"
    }
   ],
   "source": [
    "sns.relplot(x='Have you taken any medication to prevent corona(Chloroquine or kabasura kudineer) or any medication to increase your immunity?',y='Level Of Anxiety',data=X)"
   ]
  },
  {
   "cell_type": "code",
   "execution_count": 40,
   "metadata": {},
   "outputs": [
    {
     "data": {
      "text/plain": [
       "<seaborn.axisgrid.FacetGrid at 0x1ce999d0>"
      ]
     },
     "execution_count": 40,
     "metadata": {},
     "output_type": "execute_result"
    },
    {
     "data": {
      "image/png": "[encoded data removed]",
      "text/plain": [
       "<Figure size 360x360 with 1 Axes>"
      ]
     },
     "metadata": {
      "needs_background": "light"
     },
     "output_type": "display_data"
    }
   ],
   "source": [
    "sns.relplot(x='How often do you interact with people outside your house(friends,neighbors etc.,)?',y='Level Of Anxiety',data=X)"
   ]
  },
  {
   "cell_type": "code",
   "execution_count": 42,
   "metadata": {},
   "outputs": [
    {
     "data": {
      "text/plain": [
       "<seaborn.axisgrid.FacetGrid at 0x1cfc99e8>"
      ]
     },
     "execution_count": 42,
     "metadata": {},
     "output_type": "execute_result"
    },
    {
     "data": {
      "image/png": "[encoded data removed]",
      "text/plain": [
       "<Figure size 360x360 with 1 Axes>"
      ]
     },
     "metadata": {
      "needs_background": "light"
     },
     "output_type": "display_data"
    }
   ],
   "source": [
    "sns.relplot(x='How often do you eat outside food? (per week)',y='Level Of Anxiety',data=X)"
   ]
  },
  {
   "cell_type": "code",
   "execution_count": 43,
   "metadata": {},
   "outputs": [
    {
     "data": {
      "text/plain": [
       "<seaborn.axisgrid.FacetGrid at 0x1d0afc10>"
      ]
     },
     "execution_count": 43,
     "metadata": {},
     "output_type": "execute_result"
    },
    {
     "data": {
      "image/png": "[encoded data removed]",
      "text/plain": [
       "<Figure size 360x360 with 1 Axes>"
      ]
     },
     "metadata": {
      "needs_background": "light"
     },
     "output_type": "display_data"
    }
   ],
   "source": [
    "sns.relplot(x='Is it difficult to get essentials(food/medicine)?',y='Level Of Anxiety',data=X)"
   ]
  },
  {
   "cell_type": "code",
   "execution_count": 42,
   "metadata": {},
   "outputs": [
    {
     "data": {
      "text/plain": [
       "<seaborn.axisgrid.FacetGrid at 0x1e254550>"
      ]
     },
     "execution_count": 42,
     "metadata": {},
     "output_type": "execute_result"
    },
    {
     "data": {
      "image/png": "[encoded data removed]",
      "text/plain": [
       "<Figure size 360x360 with 1 Axes>"
      ]
     },
     "metadata": {
      "needs_background": "light"
     },
     "output_type": "display_data"
    }
   ],
   "source": [
    "sns.relplot(x='Is it difficult to get essentials(food/medicine)?',y='Anxiety Numerical ',data=X)"
   ]
  },
  {
   "cell_type": "code",
   "execution_count": 44,
   "metadata": {},
   "outputs": [
    {
     "data": {
      "text/plain": [
       "<seaborn.axisgrid.FacetGrid at 0x1cf43b38>"
      ]
     },
     "execution_count": 44,
     "metadata": {},
     "output_type": "execute_result"
    },
    {
     "data": {
      "image/png": "[encoded data removed]",
      "text/plain": [
       "<Figure size 360x360 with 1 Axes>"
      ]
     },
     "metadata": {
      "needs_background": "light"
     },
     "output_type": "display_data"
    }
   ],
   "source": [
    "sns.relplot(x='What is your gender?',y='Anxiety Numerical ',data=X)"
   ]
  },
  {
   "cell_type": "code",
   "execution_count": 45,
   "metadata": {},
   "outputs": [
    {
     "data": {
      "text/plain": [
       "<seaborn.axisgrid.FacetGrid at 0x1d0e0b08>"
      ]
     },
     "execution_count": 45,
     "metadata": {},
     "output_type": "execute_result"
    },
    {
     "data": {
      "image/png": "[encoded data removed]",
      "text/plain": [
       "<Figure size 360x360 with 1 Axes>"
      ]
     },
     "metadata": {
      "needs_background": "light"
     },
     "output_type": "display_data"
    }
   ],
   "source": [
    "sns.relplot(x='How you ever felt symptoms of COVID?',y='Level Of Anxiety',data=X)"
   ]
  },
  {
   "cell_type": "code",
   "execution_count": 46,
   "metadata": {},
   "outputs": [
    {
     "data": {
      "text/plain": [
       "<seaborn.axisgrid.FacetGrid at 0x1e23cb38>"
      ]
     },
     "execution_count": 46,
     "metadata": {},
     "output_type": "execute_result"
    },
    {
     "data": {
      "image/png": "[encoded data removed]",
      "text/plain": [
       "<Figure size 360x360 with 1 Axes>"
      ]
     },
     "metadata": {
      "needs_background": "light"
     },
     "output_type": "display_data"
    }
   ],
   "source": [
    "sns.relplot(x='Do you have any of the following conditions?',y='Level Of Anxiety ',data=X)"
   ]
  },
  {
   "cell_type": "code",
   "execution_count": 63,
   "metadata": {},
   "outputs": [
    {
     "data": {
      "text/plain": [
       "<seaborn.axisgrid.FacetGrid at 0x1f9e49e8>"
      ]
     },
     "execution_count": 63,
     "metadata": {},
     "output_type": "execute_result"
    },
    {
     "data": {
      "image/png": "[encoded data removed]",
      "text/plain": [
       "<Figure size 360x360 with 1 Axes>"
      ]
     },
     "metadata": {
      "needs_background": "light"
     },
     "output_type": "display_data"
    }
   ],
   "source": [
    "sns.relplot(x='During the lockdown have you been doing more household work?',y='Anxiety Numerical ',data=X)"
   ]
  },
  {
   "cell_type": "code",
   "execution_count": 62,
   "metadata": {},
   "outputs": [
    {
     "data": {
      "text/plain": [
       "<seaborn.axisgrid.FacetGrid at 0x1fa741a8>"
      ]
     },
     "execution_count": 62,
     "metadata": {},
     "output_type": "execute_result"
    },
    {
     "data": {
      "image/png": "[encoded data removed]",
      "text/plain": [
       "<Figure size 360x360 with 1 Axes>"
      ]
     },
     "metadata": {
      "needs_background": "light"
     },
     "output_type": "display_data"
    }
   ],
   "source": [
    "sns.relplot(x='How often do you use masks/hand sanitizers(per day)?',y='Anxiety Numerical ',data=X)"
   ]
  },
  {
   "cell_type": "code",
   "execution_count": 61,
   "metadata": {},
   "outputs": [
    {
     "data": {
      "text/plain": [
       "<seaborn.axisgrid.FacetGrid at 0x1f85d220>"
      ]
     },
     "execution_count": 61,
     "metadata": {},
     "output_type": "execute_result"
    },
    {
     "data": {
      "image/png": "[encoded data removed]",
      "text/plain": [
       "<Figure size 360x360 with 1 Axes>"
      ]
     },
     "metadata": {
      "needs_background": "light"
     },
     "output_type": "display_data"
    }
   ],
   "source": [
    "sns.relplot(x='Do you feel like you have wasted your time during the lock down or have you ever felt pressurized by your peer’s accomplishments during the lock down?',y='Anxiety Numerical ',data=X)"
   ]
  },
  {
   "cell_type": "code",
   "execution_count": 60,
   "metadata": {},
   "outputs": [
    {
     "data": {
      "text/plain": [
       "<seaborn.axisgrid.FacetGrid at 0x1f9e4b80>"
      ]
     },
     "execution_count": 60,
     "metadata": {},
     "output_type": "execute_result"
    },
    {
     "data": {
      "image/png": "[encoded data removed]",
      "text/plain": [
       "<Figure size 360x360 with 1 Axes>"
      ]
     },
     "metadata": {
      "needs_background": "light"
     },
     "output_type": "display_data"
    }
   ],
   "source": [
    "sns.relplot(x='Are you in a containment zone? ',y='Anxiety Numerical ',data=X)"
   ]
  },
  {
   "cell_type": "code",
   "execution_count": 54,
   "metadata": {},
   "outputs": [
    {
     "data": {
      "text/plain": [
       "<seaborn.axisgrid.FacetGrid at 0x1f733a90>"
      ]
     },
     "execution_count": 54,
     "metadata": {},
     "output_type": "execute_result"
    },
    {
     "data": {
      "image/png": "[encoded data removed]",
      "text/plain": [
       "<Figure size 360x360 with 1 Axes>"
      ]
     },
     "metadata": {
      "needs_background": "light"
     },
     "output_type": "display_data"
    }
   ],
   "source": [
    "sns.relplot(x='Are you stuck somewhere alone without support from friends or family? ',y='Level Of Anxiety ',data=X)"
   ]
  },
  {
   "cell_type": "code",
   "execution_count": 58,
   "metadata": {},
   "outputs": [
    {
     "data": {
      "text/plain": [
       "<seaborn.axisgrid.FacetGrid at 0x1f84c4f0>"
      ]
     },
     "execution_count": 58,
     "metadata": {},
     "output_type": "execute_result"
    },
    {
     "data": {
      "image/png": "[encoded data removed]",
      "text/plain": [
       "<Figure size 360x360 with 1 Axes>"
      ]
     },
     "metadata": {
      "needs_background": "light"
     },
     "output_type": "display_data"
    }
   ],
   "source": [
    "sns.relplot(x='Do you have children less than 3 yrs, or elders 65+ at your house?',y='Anxiety Numerical ',data=X)"
   ]
  },
  {
   "cell_type": "code",
   "execution_count": 57,
   "metadata": {},
   "outputs": [
    {
     "data": {
      "text/plain": [
       "<seaborn.axisgrid.FacetGrid at 0x1f85d058>"
      ]
     },
     "execution_count": 57,
     "metadata": {},
     "output_type": "execute_result"
    },
    {
     "data": {
      "image/png": "[encoded data removed]",
      "text/plain": [
       "<Figure size 360x360 with 1 Axes>"
      ]
     },
     "metadata": {
      "needs_background": "light"
     },
     "output_type": "display_data"
    }
   ],
   "source": [
    "sns.relplot(x='Have you ever felt afraid or anxious to go to hospital during this pandemic?',y='Anxiety Numerical ',data=X)"
   ]
  },
  {
   "cell_type": "code",
   "execution_count": 65,
   "metadata": {},
   "outputs": [
    {
     "data": {
      "text/plain": [
       "<seaborn.axisgrid.FacetGrid at 0x1fa74f28>"
      ]
     },
     "execution_count": 65,
     "metadata": {},
     "output_type": "execute_result"
    },
    {
     "data": {
      "image/png": "[encoded data removed]",
      "text/plain": [
       "<Figure size 360x360 with 1 Axes>"
      ]
     },
     "metadata": {
      "needs_background": "light"
     },
     "output_type": "display_data"
    }
   ],
   "source": [
    "sns.relplot(x='Has your sleep cycle changed drastically?',y='Anxiety Numerical ',data=X)"
   ]
  },
  {
   "cell_type": "code",
   "execution_count": 66,
   "metadata": {},
   "outputs": [
    {
     "data": {
      "text/plain": [
       "<seaborn.axisgrid.FacetGrid at 0x1fc5a748>"
      ]
     },
     "execution_count": 66,
     "metadata": {},
     "output_type": "execute_result"
    },
    {
     "data": {
      "image/png": "[encoded data removed]",
      "text/plain": [
       "<Figure size 360x360 with 1 Axes>"
      ]
     },
     "metadata": {
      "needs_background": "light"
     },
     "output_type": "display_data"
    }
   ],
   "source": [
    "sns.relplot(x='Have you felt frustrated by having your activities, major life events or opportunities affected by the virus? ',y='Anxiety Numerical ',data=X)"
   ]
  },
  {
   "cell_type": "code",
   "execution_count": 5,
   "metadata": {},
   "outputs": [
    {
     "data": {
      "text/plain": [
       "<seaborn.axisgrid.FacetGrid at 0x1aed2fd0>"
      ]
     },
     "execution_count": 5,
     "metadata": {},
     "output_type": "execute_result"
    },
    {
     "data": {
      "image/png": "[encoded data removed]",
      "text/plain": [
       "<Figure size 360x360 with 1 Axes>"
      ]
     },
     "metadata": {
      "needs_background": "light"
     },
     "output_type": "display_data"
    }
   ],
   "source": [
    "sns.relplot(x='Have you felt frustrated by having your activities, major life events or opportunities affected by the virus?',y='Level Of Anxiety',data=X)"
   ]
  },
  {
   "cell_type": "code",
   "execution_count": 69,
   "metadata": {},
   "outputs": [
    {
     "data": {
      "text/plain": [
       "<seaborn.axisgrid.FacetGrid at 0x1fe6fb80>"
      ]
     },
     "execution_count": 69,
     "metadata": {},
     "output_type": "execute_result"
    },
    {
     "data": {
      "image/png": "[encoded data removed]",
      "text/plain": [
       "<Figure size 360x360 with 1 Axes>"
      ]
     },
     "metadata": {
      "needs_background": "light"
     },
     "output_type": "display_data"
    }
   ],
   "source": [
    "sns.relplot(x='Did you face a pay cut/job loss/take a0ther job to cover expenses?',y='Anxiety Numerical ',data=X)"
   ]
  },
  {
   "cell_type": "code",
   "execution_count": 70,
   "metadata": {},
   "outputs": [
    {
     "data": {
      "text/plain": [
       "<seaborn.axisgrid.FacetGrid at 0x1cf66358>"
      ]
     },
     "execution_count": 70,
     "metadata": {},
     "output_type": "execute_result"
    },
    {
     "data": {
      "image/png": "[encoded data removed]",
      "text/plain": [
       "<Figure size 360x360 with 1 Axes>"
      ]
     },
     "metadata": {
      "needs_background": "light"
     },
     "output_type": "display_data"
    }
   ],
   "source": [
    "sns.relplot(x='Do you have online classes/assignments/assessments/tests? ',y='Anxiety Numerical ',data=X)"
   ]
  },
  {
   "cell_type": "code",
   "execution_count": 71,
   "metadata": {},
   "outputs": [
    {
     "data": {
      "text/plain": [
       "<seaborn.axisgrid.FacetGrid at 0x1e5a72b0>"
      ]
     },
     "execution_count": 71,
     "metadata": {},
     "output_type": "execute_result"
    },
    {
     "data": {
      "image/png": "[encoded data removed]",
      "text/plain": [
       "<Figure size 360x360 with 1 Axes>"
      ]
     },
     "metadata": {
      "needs_background": "light"
     },
     "output_type": "display_data"
    }
   ],
   "source": [
    "sns.relplot(x='Do you miss hanging out with people outside of your house?',y='Anxiety Numerical ',data=X)"
   ]
  },
  {
   "cell_type": "code",
   "execution_count": 7,
   "metadata": {},
   "outputs": [
    {
     "data": {
      "text/html": [
       "<div>\n",
       "<style scoped>\n",
       "    .dataframe tbody tr th:only-of-type {\n",
       "        vertical-align: middle;\n",
       "    }\n",
       "\n",
       "    .dataframe tbody tr th {\n",
       "        vertical-align: top;\n",
       "    }\n",
       "\n",
       "    .dataframe thead th {\n",
       "        text-align: right;\n",
       "    }\n",
       "</style>\n",
       "<table border=\"1\" class=\"dataframe\">\n",
       "  <thead>\n",
       "    <tr style=\"text-align: right;\">\n",
       "      <th></th>\n",
       "      <th>Timestamp</th>\n",
       "      <th>Which age group you belong to?</th>\n",
       "      <th>Location(From which state you are?)</th>\n",
       "      <th>Is it difficult to get essentials(food/medicine)?</th>\n",
       "      <th>What is your gender?</th>\n",
       "      <th>How you ever felt symptoms of COVID?</th>\n",
       "      <th>Do you have any of the following conditions?</th>\n",
       "      <th>During the lockdown have you been doing more household work?</th>\n",
       "      <th>Have you or anyone you know have corona virus/recovered from COVID/been tested for COVID?</th>\n",
       "      <th>How often do you use masks/hand sanitizers(per day)?</th>\n",
       "      <th>...</th>\n",
       "      <th>Economy</th>\n",
       "      <th>Career</th>\n",
       "      <th>Restlessness</th>\n",
       "      <th>Lockdown</th>\n",
       "      <th>Precautious</th>\n",
       "      <th>Frustration</th>\n",
       "      <th>Anxiety Numerical</th>\n",
       "      <th>Anxiety Level</th>\n",
       "      <th>Level Of Anxiety</th>\n",
       "      <th>Cluster</th>\n",
       "    </tr>\n",
       "  </thead>\n",
       "  <tbody>\n",
       "    <tr>\n",
       "      <th>0</th>\n",
       "      <td>6/19/2020 13:39:56</td>\n",
       "      <td>18-25</td>\n",
       "      <td>Tamilnadu</td>\n",
       "      <td>0</td>\n",
       "      <td>1</td>\n",
       "      <td>0</td>\n",
       "      <td>0</td>\n",
       "      <td>1</td>\n",
       "      <td>1</td>\n",
       "      <td>0</td>\n",
       "      <td>...</td>\n",
       "      <td>0</td>\n",
       "      <td>0</td>\n",
       "      <td>2</td>\n",
       "      <td>1</td>\n",
       "      <td>3</td>\n",
       "      <td>1</td>\n",
       "      <td>8</td>\n",
       "      <td>1</td>\n",
       "      <td>0 anxiety</td>\n",
       "      <td>1</td>\n",
       "    </tr>\n",
       "    <tr>\n",
       "      <th>1</th>\n",
       "      <td>6/19/2020 13:40:56</td>\n",
       "      <td>18-25</td>\n",
       "      <td>Tamilnadu</td>\n",
       "      <td>0</td>\n",
       "      <td>1</td>\n",
       "      <td>0</td>\n",
       "      <td>0</td>\n",
       "      <td>0</td>\n",
       "      <td>0</td>\n",
       "      <td>0</td>\n",
       "      <td>...</td>\n",
       "      <td>0</td>\n",
       "      <td>0</td>\n",
       "      <td>2</td>\n",
       "      <td>1</td>\n",
       "      <td>2</td>\n",
       "      <td>1</td>\n",
       "      <td>7</td>\n",
       "      <td>1</td>\n",
       "      <td>mild anxiety</td>\n",
       "      <td>0</td>\n",
       "    </tr>\n",
       "    <tr>\n",
       "      <th>2</th>\n",
       "      <td>6/19/2020 13:42:23</td>\n",
       "      <td>18-25</td>\n",
       "      <td>Tamilnadu</td>\n",
       "      <td>0</td>\n",
       "      <td>1</td>\n",
       "      <td>0</td>\n",
       "      <td>0</td>\n",
       "      <td>1</td>\n",
       "      <td>0</td>\n",
       "      <td>0</td>\n",
       "      <td>...</td>\n",
       "      <td>0</td>\n",
       "      <td>1</td>\n",
       "      <td>3</td>\n",
       "      <td>2</td>\n",
       "      <td>2</td>\n",
       "      <td>2</td>\n",
       "      <td>12</td>\n",
       "      <td>2</td>\n",
       "      <td>moderate anxiety</td>\n",
       "      <td>0</td>\n",
       "    </tr>\n",
       "    <tr>\n",
       "      <th>3</th>\n",
       "      <td>6/19/2020 13:51:36</td>\n",
       "      <td>18-25</td>\n",
       "      <td>Tamilnadu</td>\n",
       "      <td>0</td>\n",
       "      <td>0</td>\n",
       "      <td>0</td>\n",
       "      <td>0</td>\n",
       "      <td>0</td>\n",
       "      <td>1</td>\n",
       "      <td>1</td>\n",
       "      <td>...</td>\n",
       "      <td>2</td>\n",
       "      <td>1</td>\n",
       "      <td>1</td>\n",
       "      <td>1</td>\n",
       "      <td>2</td>\n",
       "      <td>1</td>\n",
       "      <td>9</td>\n",
       "      <td>1</td>\n",
       "      <td>0 anxiety</td>\n",
       "      <td>3</td>\n",
       "    </tr>\n",
       "    <tr>\n",
       "      <th>4</th>\n",
       "      <td>6/19/2020 13:51:45</td>\n",
       "      <td>18-25</td>\n",
       "      <td>Tamilnadu</td>\n",
       "      <td>0</td>\n",
       "      <td>1</td>\n",
       "      <td>0</td>\n",
       "      <td>0</td>\n",
       "      <td>0</td>\n",
       "      <td>1</td>\n",
       "      <td>1</td>\n",
       "      <td>...</td>\n",
       "      <td>0</td>\n",
       "      <td>1</td>\n",
       "      <td>1</td>\n",
       "      <td>1</td>\n",
       "      <td>3</td>\n",
       "      <td>2</td>\n",
       "      <td>9</td>\n",
       "      <td>1</td>\n",
       "      <td>0 anxiety</td>\n",
       "      <td>0</td>\n",
       "    </tr>\n",
       "  </tbody>\n",
       "</table>\n",
       "<p>5 rows × 38 columns</p>\n",
       "</div>"
      ],
      "text/plain": [
       "            Timestamp Which age group you belong to?  \\\n",
       "0  6/19/2020 13:39:56                          18-25   \n",
       "1  6/19/2020 13:40:56                          18-25   \n",
       "2  6/19/2020 13:42:23                          18-25   \n",
       "3  6/19/2020 13:51:36                          18-25   \n",
       "4  6/19/2020 13:51:45                          18-25   \n",
       "\n",
       "  Location(From which state you are?)  \\\n",
       "0                           Tamilnadu   \n",
       "1                           Tamilnadu   \n",
       "2                           Tamilnadu   \n",
       "3                           Tamilnadu   \n",
       "4                           Tamilnadu   \n",
       "\n",
       "   Is it difficult to get essentials(food/medicine)?  What is your gender?  \\\n",
       "0                                                  0                     1   \n",
       "1                                                  0                     1   \n",
       "2                                                  0                     1   \n",
       "3                                                  0                     0   \n",
       "4                                                  0                     1   \n",
       "\n",
       "   How you ever felt symptoms of COVID?  \\\n",
       "0                                     0   \n",
       "1                                     0   \n",
       "2                                     0   \n",
       "3                                     0   \n",
       "4                                     0   \n",
       "\n",
       "   Do you have any of the following conditions?  \\\n",
       "0                                             0   \n",
       "1                                             0   \n",
       "2                                             0   \n",
       "3                                             0   \n",
       "4                                             0   \n",
       "\n",
       "   During the lockdown have you been doing more household work?  \\\n",
       "0                                                  1              \n",
       "1                                                  0              \n",
       "2                                                  1              \n",
       "3                                                  0              \n",
       "4                                                  0              \n",
       "\n",
       "   Have you or anyone you know have corona virus/recovered from COVID/been tested for COVID?  \\\n",
       "0                                                  1                                           \n",
       "1                                                  0                                           \n",
       "2                                                  0                                           \n",
       "3                                                  1                                           \n",
       "4                                                  1                                           \n",
       "\n",
       "   How often do you use masks/hand sanitizers(per day)?  ...  Economy  Career  \\\n",
       "0                                                  0     ...        0       0   \n",
       "1                                                  0     ...        0       0   \n",
       "2                                                  0     ...        0       1   \n",
       "3                                                  1     ...        2       1   \n",
       "4                                                  1     ...        0       1   \n",
       "\n",
       "   Restlessness  Lockdown  Precautious  Frustration  Anxiety Numerical  \\\n",
       "0             2         1            3            1                  8   \n",
       "1             2         1            2            1                  7   \n",
       "2             3         2            2            2                 12   \n",
       "3             1         1            2            1                  9   \n",
       "4             1         1            3            2                  9   \n",
       "\n",
       "   Anxiety Level  Level Of Anxiety  Cluster  \n",
       "0              1         0 anxiety        1  \n",
       "1              1      mild anxiety        0  \n",
       "2              2  moderate anxiety        0  \n",
       "3              1         0 anxiety        3  \n",
       "4              1         0 anxiety        0  \n",
       "\n",
       "[5 rows x 38 columns]"
      ]
     },
     "execution_count": 7,
     "metadata": {},
     "output_type": "execute_result"
    }
   ],
   "source": [
    "X.head()"
   ]
  },
  {
   "cell_type": "code",
   "execution_count": 13,
   "metadata": {},
   "outputs": [],
   "source": [
    "corr=X.corr()"
   ]
  },
  {
   "cell_type": "code",
   "execution_count": 11,
   "metadata": {},
   "outputs": [],
   "source": [
    "X['Level Of Anxiety'] =X['Level Of Anxiety'].astype('category').cat.codes"
   ]
  },
  {
   "cell_type": "code",
   "execution_count": 14,
   "metadata": {},
   "outputs": [
    {
     "data": {
      "text/plain": [
       "Is it difficult to get essentials(food/medicine)?                                                                                                         0.081041\n",
       "What is your gender?                                                                                                                                      0.098716\n",
       "How you ever felt symptoms of COVID?                                                                                                                      0.094550\n",
       "Do you have any of the following conditions?                                                                                                              0.095427\n",
       "During the lockdown have you been doing more household work?                                                                                              0.098168\n",
       "Have you or anyone you know have corona virus/recovered from COVID/been tested for COVID?                                                                 0.144781\n",
       "How often do you use masks/hand sanitizers(per day)?                                                                                                     -0.123494\n",
       "Do you feel like you have wasted your time during the lock down or have you ever felt pressurized by your peer’s accomplishments during the lock down?    0.308883\n",
       "How often do you eat outside food? (per week)                                                                                                             0.041484\n",
       "Are you in a containment zone?                                                                                                                            0.086469\n",
       "Are you stuck somewhere alone without support from friends or family?                                                                                     0.143438\n",
       "Do you have children less than 3 yrs, or elders 65+ at your house?                                                                                        0.032015\n",
       "Have you ever felt afraid or anxious to go to hospital during this pandemic?                                                                              0.179723\n",
       "Has your sleep cycle changed drastically?                                                                                                                 0.216446\n",
       "Have you felt frustrated by having your activities, major life events or opportunities affected by the virus?                                             0.353950\n",
       "Is someone from your family in the medical field everyday?                                                                                                0.002565\n",
       "Do you have online classes/assignments/assessments/tests?                                                                                                -0.009303\n",
       "Did you face a pay cut/job loss/take another job to cover expenses?                                                                                       0.040599\n",
       "How often do you leave your house?(per week)                                                                                                             -0.029367\n",
       "How often do you interact with people outside your house(friends,neighbors etc.,)?                                                                       -0.018134\n",
       "Have you taken any medication to prevent corona(Chloroquine or kabasura kudineer) or any medication to increase your immunity?                            0.108388\n",
       "Have you been affected by not being able to visit religious places?                                                                                       0.152189\n",
       "Do you miss hanging out with people outside of your house?                                                                                                0.154424\n",
       "Immunity                                                                                                                                                 -0.073610\n",
       "Isolation                                                                                                                                                 0.205156\n",
       "Economy                                                                                                                                                   0.107650\n",
       "Career                                                                                                                                                    0.440531\n",
       "Restlessness                                                                                                                                              0.174507\n",
       "Lockdown                                                                                                                                                  0.217193\n",
       "Precautious                                                                                                                                               0.089709\n",
       "Frustration                                                                                                                                               0.362523\n",
       "Anxiety Numerical                                                                                                                                         0.393583\n",
       "Anxiety Level                                                                                                                                             0.351717\n",
       "Level Of Anxiety                                                                                                                                          1.000000\n",
       "Cluster                                                                                                                                                   0.056437\n",
       "Name: Level Of Anxiety, dtype: float64"
      ]
     },
     "execution_count": 14,
     "metadata": {},
     "output_type": "execute_result"
    }
   ],
   "source": [
    "corr['Level Of Anxiety']"
   ]
  },
  {
   "cell_type": "code",
   "execution_count": 9,
   "metadata": {},
   "outputs": [
    {
     "data": {
      "text/html": [
       "<div>\n",
       "<style scoped>\n",
       "    .dataframe tbody tr th:only-of-type {\n",
       "        vertical-align: middle;\n",
       "    }\n",
       "\n",
       "    .dataframe tbody tr th {\n",
       "        vertical-align: top;\n",
       "    }\n",
       "\n",
       "    .dataframe thead th {\n",
       "        text-align: right;\n",
       "    }\n",
       "</style>\n",
       "<table border=\"1\" class=\"dataframe\">\n",
       "  <thead>\n",
       "    <tr style=\"text-align: right;\">\n",
       "      <th></th>\n",
       "      <th>Which age group you belong to?</th>\n",
       "      <th>Location(From which state you are?)</th>\n",
       "      <th>Is it difficult to get essentials(food/medicine)?</th>\n",
       "      <th>What is your gender?</th>\n",
       "      <th>How you ever felt symptoms of COVID?</th>\n",
       "      <th>Do you have any of the following conditions?</th>\n",
       "      <th>During the lockdown have you been doing more household work?</th>\n",
       "      <th>Have you or anyone you know have corona virus/recovered from COVID/been tested for COVID?</th>\n",
       "      <th>How often do you use masks/hand sanitizers(per day)?</th>\n",
       "      <th>Do you feel like you have wasted your time during the lock down or have you ever felt pressurized by your peer’s accomplishments during the lock down?</th>\n",
       "      <th>...</th>\n",
       "      <th>Is someone from your family in the medical field everyday?</th>\n",
       "      <th>Do you have online classes/assignments/assessments/tests?</th>\n",
       "      <th>Did you face a pay cut/job loss/take a0ther job to cover expenses?</th>\n",
       "      <th>How often do you leave your house?(per week)</th>\n",
       "      <th>How often do you interact with people outside your house(friends,neighbors etc.,)?</th>\n",
       "      <th>Have you taken any medication to prevent corona(Chloroquine or kabasura kudineer) or any medication to increase your immunity?</th>\n",
       "      <th>Have you been affected by not being able to visit religious places?</th>\n",
       "      <th>Do you miss hanging out with people outside of your house?</th>\n",
       "      <th>Anxiety Numerical</th>\n",
       "      <th>Level Of Anxiety</th>\n",
       "    </tr>\n",
       "  </thead>\n",
       "  <tbody>\n",
       "    <tr>\n",
       "      <th>0</th>\n",
       "      <td>2</td>\n",
       "      <td>1</td>\n",
       "      <td>0</td>\n",
       "      <td>1</td>\n",
       "      <td>0</td>\n",
       "      <td>0</td>\n",
       "      <td>1</td>\n",
       "      <td>1</td>\n",
       "      <td>0</td>\n",
       "      <td>0</td>\n",
       "      <td>...</td>\n",
       "      <td>1</td>\n",
       "      <td>1</td>\n",
       "      <td>0</td>\n",
       "      <td>0</td>\n",
       "      <td>0</td>\n",
       "      <td>1</td>\n",
       "      <td>0</td>\n",
       "      <td>0</td>\n",
       "      <td>2</td>\n",
       "      <td>0</td>\n",
       "    </tr>\n",
       "    <tr>\n",
       "      <th>1</th>\n",
       "      <td>2</td>\n",
       "      <td>1</td>\n",
       "      <td>0</td>\n",
       "      <td>1</td>\n",
       "      <td>0</td>\n",
       "      <td>0</td>\n",
       "      <td>0</td>\n",
       "      <td>0</td>\n",
       "      <td>0</td>\n",
       "      <td>0</td>\n",
       "      <td>...</td>\n",
       "      <td>0</td>\n",
       "      <td>1</td>\n",
       "      <td>0</td>\n",
       "      <td>0</td>\n",
       "      <td>0</td>\n",
       "      <td>0</td>\n",
       "      <td>0</td>\n",
       "      <td>1</td>\n",
       "      <td>5</td>\n",
       "      <td>1</td>\n",
       "    </tr>\n",
       "    <tr>\n",
       "      <th>2</th>\n",
       "      <td>2</td>\n",
       "      <td>1</td>\n",
       "      <td>0</td>\n",
       "      <td>1</td>\n",
       "      <td>0</td>\n",
       "      <td>0</td>\n",
       "      <td>1</td>\n",
       "      <td>0</td>\n",
       "      <td>0</td>\n",
       "      <td>1</td>\n",
       "      <td>...</td>\n",
       "      <td>0</td>\n",
       "      <td>1</td>\n",
       "      <td>0</td>\n",
       "      <td>0</td>\n",
       "      <td>0</td>\n",
       "      <td>1</td>\n",
       "      <td>0</td>\n",
       "      <td>1</td>\n",
       "      <td>10</td>\n",
       "      <td>2</td>\n",
       "    </tr>\n",
       "    <tr>\n",
       "      <th>15</th>\n",
       "      <td>2</td>\n",
       "      <td>1</td>\n",
       "      <td>0</td>\n",
       "      <td>0</td>\n",
       "      <td>0</td>\n",
       "      <td>0</td>\n",
       "      <td>1</td>\n",
       "      <td>0</td>\n",
       "      <td>1</td>\n",
       "      <td>0</td>\n",
       "      <td>...</td>\n",
       "      <td>0</td>\n",
       "      <td>0</td>\n",
       "      <td>1</td>\n",
       "      <td>0</td>\n",
       "      <td>0</td>\n",
       "      <td>0</td>\n",
       "      <td>0</td>\n",
       "      <td>1</td>\n",
       "      <td>3</td>\n",
       "      <td>0</td>\n",
       "    </tr>\n",
       "    <tr>\n",
       "      <th>17</th>\n",
       "      <td>2</td>\n",
       "      <td>1</td>\n",
       "      <td>0</td>\n",
       "      <td>0</td>\n",
       "      <td>0</td>\n",
       "      <td>0</td>\n",
       "      <td>1</td>\n",
       "      <td>0</td>\n",
       "      <td>1</td>\n",
       "      <td>1</td>\n",
       "      <td>...</td>\n",
       "      <td>0</td>\n",
       "      <td>0</td>\n",
       "      <td>0</td>\n",
       "      <td>0</td>\n",
       "      <td>1</td>\n",
       "      <td>1</td>\n",
       "      <td>1</td>\n",
       "      <td>1</td>\n",
       "      <td>6</td>\n",
       "      <td>1</td>\n",
       "    </tr>\n",
       "  </tbody>\n",
       "</table>\n",
       "<p>5 rows × 27 columns</p>\n",
       "</div>"
      ],
      "text/plain": [
       "    Which age group you belong to?  Location(From which state you are?)  \\\n",
       "0                                2                                    1   \n",
       "1                                2                                    1   \n",
       "2                                2                                    1   \n",
       "15                               2                                    1   \n",
       "17                               2                                    1   \n",
       "\n",
       "    Is it difficult to get essentials(food/medicine)?  What is your gender?  \\\n",
       "0                                                   0                     1   \n",
       "1                                                   0                     1   \n",
       "2                                                   0                     1   \n",
       "15                                                  0                     0   \n",
       "17                                                  0                     0   \n",
       "\n",
       "    How you ever felt symptoms of COVID?   \\\n",
       "0                                       0   \n",
       "1                                       0   \n",
       "2                                       0   \n",
       "15                                      0   \n",
       "17                                      0   \n",
       "\n",
       "    Do you have any of the following conditions?  \\\n",
       "0                                              0   \n",
       "1                                              0   \n",
       "2                                              0   \n",
       "15                                             0   \n",
       "17                                             0   \n",
       "\n",
       "    During the lockdown have you been doing more household work?  \\\n",
       "0                                                   1              \n",
       "1                                                   0              \n",
       "2                                                   1              \n",
       "15                                                  1              \n",
       "17                                                  1              \n",
       "\n",
       "    Have you or anyone you know have corona virus/recovered from COVID/been tested for COVID?   \\\n",
       "0                                                   1                                            \n",
       "1                                                   0                                            \n",
       "2                                                   0                                            \n",
       "15                                                  0                                            \n",
       "17                                                  0                                            \n",
       "\n",
       "    How often do you use masks/hand sanitizers(per day)?  \\\n",
       "0                                                   0      \n",
       "1                                                   0      \n",
       "2                                                   0      \n",
       "15                                                  1      \n",
       "17                                                  1      \n",
       "\n",
       "    Do you feel like you have wasted your time during the lock down or have you ever felt pressurized by your peer’s accomplishments during the lock down?  \\\n",
       "0                                                   0                                                                                                        \n",
       "1                                                   0                                                                                                        \n",
       "2                                                   1                                                                                                        \n",
       "15                                                  0                                                                                                        \n",
       "17                                                  1                                                                                                        \n",
       "\n",
       "    ...  Is someone from your family in the medical field everyday?  \\\n",
       "0   ...                                                  1            \n",
       "1   ...                                                  0            \n",
       "2   ...                                                  0            \n",
       "15  ...                                                  0            \n",
       "17  ...                                                  0            \n",
       "\n",
       "    Do you have online classes/assignments/assessments/tests?   \\\n",
       "0                                                   1            \n",
       "1                                                   1            \n",
       "2                                                   1            \n",
       "15                                                  0            \n",
       "17                                                  0            \n",
       "\n",
       "    Did you face a pay cut/job loss/take a0ther job to cover expenses?  \\\n",
       "0                                                   0                    \n",
       "1                                                   0                    \n",
       "2                                                   0                    \n",
       "15                                                  1                    \n",
       "17                                                  0                    \n",
       "\n",
       "    How often do you leave your house?(per week)   \\\n",
       "0                                               0   \n",
       "1                                               0   \n",
       "2                                               0   \n",
       "15                                              0   \n",
       "17                                              0   \n",
       "\n",
       "    How often do you interact with people outside your house(friends,neighbors etc.,)?  \\\n",
       "0                                                   0                                    \n",
       "1                                                   0                                    \n",
       "2                                                   0                                    \n",
       "15                                                  0                                    \n",
       "17                                                  1                                    \n",
       "\n",
       "    Have you taken any medication to prevent corona(Chloroquine or kabasura kudineer) or any medication to increase your immunity?  \\\n",
       "0                                                   1                                                                                \n",
       "1                                                   0                                                                                \n",
       "2                                                   1                                                                                \n",
       "15                                                  0                                                                                \n",
       "17                                                  1                                                                                \n",
       "\n",
       "    Have you been affected by not being able to visit religious places?  \\\n",
       "0                                                   0                     \n",
       "1                                                   0                     \n",
       "2                                                   0                     \n",
       "15                                                  0                     \n",
       "17                                                  1                     \n",
       "\n",
       "    Do you miss hanging out with people outside of your house?  \\\n",
       "0                                                   0            \n",
       "1                                                   1            \n",
       "2                                                   1            \n",
       "15                                                  1            \n",
       "17                                                  1            \n",
       "\n",
       "    Anxiety Numerical   Level Of Anxiety   \n",
       "0                    2                  0  \n",
       "1                    5                  1  \n",
       "2                   10                  2  \n",
       "15                   3                  0  \n",
       "17                   6                  1  \n",
       "\n",
       "[5 rows x 27 columns]"
      ]
     },
     "execution_count": 9,
     "metadata": {},
     "output_type": "execute_result"
    }
   ],
   "source": [
    "df1.head()"
   ]
  },
  {
   "cell_type": "code",
   "execution_count": 10,
   "metadata": {},
   "outputs": [
    {
     "data": {
      "text/plain": [
       "<matplotlib.axes._subplots.AxesSubplot at 0x1c0ef178>"
      ]
     },
     "execution_count": 10,
     "metadata": {},
     "output_type": "execute_result"
    },
    {
     "data": {
      "image/png": "[encoded data removed]",
      "text/plain": [
       "<Figure size 432x288 with 1 Axes>"
      ]
     },
     "metadata": {
      "needs_background": "light"
     },
     "output_type": "display_data"
    }
   ],
   "source": [
    "df1['Level Of Anxiety '].plot.hist()"
   ]
  },
  {
   "cell_type": "code",
   "execution_count": 11,
   "metadata": {},
   "outputs": [
    {
     "data": {
      "text/plain": [
       "<matplotlib.axes._subplots.AxesSubplot at 0x1d15cc40>"
      ]
     },
     "execution_count": 11,
     "metadata": {},
     "output_type": "execute_result"
    },
    {
     "data": {
      "image/png": "[encoded data removed]",
      "text/plain": [
       "<Figure size 432x288 with 1 Axes>"
      ]
     },
     "metadata": {
      "needs_background": "light"
     },
     "output_type": "display_data"
    }
   ],
   "source": [
    "df2['Level Of Anxiety '].plot.hist()"
   ]
  },
  {
   "cell_type": "code",
   "execution_count": 12,
   "metadata": {},
   "outputs": [
    {
     "data": {
      "text/plain": [
       "<matplotlib.axes._subplots.AxesSubplot at 0x1d17c580>"
      ]
     },
     "execution_count": 12,
     "metadata": {},
     "output_type": "execute_result"
    },
    {
     "data": {
      "image/png": "[encoded data removed]",
      "text/plain": [
       "<Figure size 432x288 with 1 Axes>"
      ]
     },
     "metadata": {
      "needs_background": "light"
     },
     "output_type": "display_data"
    }
   ],
   "source": [
    "df1['Do you feel like you have wasted your time during the lock down or have you ever felt pressurized by your peer’s accomplishments during the lock down?'].plot.hist()"
   ]
  },
  {
   "cell_type": "code",
   "execution_count": 50,
   "metadata": {},
   "outputs": [
    {
     "data": {
      "text/plain": [
       "Is it difficult to get essentials(food/medicine)?\n",
       "0    403\n",
       "1     36\n",
       "dtype: int64"
      ]
     },
     "execution_count": 50,
     "metadata": {},
     "output_type": "execute_result"
    }
   ],
   "source": [
    "X.groupby('Is it difficult to get essentials(food/medicine)?').size()"
   ]
  },
  {
   "cell_type": "code",
   "execution_count": null,
   "metadata": {},
   "outputs": [],
   "source": [
    "X.groupby().size()"
   ]
  }
 ],
 "metadata": {
  "kernelspec": {
   "display_name": "Python 3",
   "language": "python",
   "name": "python3"
  },
  "language_info": {
   "codemirror_mode": {
    "name": "ipython",
    "version": 3
   },
   "file_extension": ".py",
   "mimetype": "text/x-python",
   "name": "python",
   "nbconvert_exporter": "python",
   "pygments_lexer": "ipython3",
   "version": "3.8.2"
  }
 },
 "nbformat": 4,
 "nbformat_minor": 4
}

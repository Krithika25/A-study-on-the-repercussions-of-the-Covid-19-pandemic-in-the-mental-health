{
 "cells": [
  {
   "cell_type": "code",
   "execution_count": 1,
   "metadata": {},
   "outputs": [],
   "source": [
    "from sklearn import tree\n",
    "import pandas as pd\n",
    "import matplotlib.pyplot as plt\n",
    "import numpy as np\n",
    "from sklearn.model_selection import train_test_split\n",
    "from sklearn.ensemble import RandomForestRegressor\n",
    "from sklearn.feature_selection import SelectFromModel"
   ]
  },
  {
   "cell_type": "code",
   "execution_count": 2,
   "metadata": {},
   "outputs": [],
   "source": [
    "df=pd.read_excel('./../myproj/Survey.xlsx',nrows=830)\n",
    "df=df.loc[df['Which age group you belong to?']==2]\n",
    "df=df.loc[df['Level Of Anxiety ']!=0]\n",
    "df=df.loc[df['Level Of Anxiety ']!=1]"
   ]
  },
  {
   "cell_type": "code",
   "execution_count": 132,
   "metadata": {},
   "outputs": [],
   "source": [
    "X=df[['What is your gender?',\n",
    "       'Do you have any of the following conditions?',\n",
    "       'During the lockdown have you been doing more household work?',\n",
    "       'Have you or anyone you know have corona virus/recovered from COVID/been tested for COVID? ',\n",
    "       'How often do you use masks/hand sanitizers(per day)?',\n",
    "       'Do you feel like you have wasted your time during the lock down or have you ever felt pressurized by your peer’s accomplishments during the lock down?',\n",
    "       'Are you in a containment zone? ',\n",
    "       'Do you have children less than 3 yrs, or elders 65+ at your house?',\n",
    "       'Have you ever felt afraid or anxious to go to hospital during this pandemic?',\n",
    "       'Do you have online classes/assignments/assessments/tests? ',\n",
    "       'Did you face a pay cut/job loss/take a0ther job to cover expenses?',\n",
    "       'How often do you interact with people outside your house(friends,neighbors etc.,)?',\n",
    "       'Have you been affected by not being able to visit religious places?',\n",
    "      ]]"
   ]
  },
  {
   "cell_type": "code",
   "execution_count": 133,
   "metadata": {},
   "outputs": [],
   "source": [
    "y=df['Anxiety Numerical ']"
   ]
  },
  {
   "cell_type": "code",
   "execution_count": 145,
   "metadata": {},
   "outputs": [],
   "source": [
    "X_train,X_test,y_train,y_test=train_test_split(X,y,test_size=0.22,stratify=y)"
   ]
  },
  {
   "cell_type": "code",
   "execution_count": 146,
   "metadata": {},
   "outputs": [],
   "source": [
    "rf = RandomForestRegressor(n_estimators = 100, random_state = 42)\n",
    "# Train the model on training data\n",
    "rf.fit(X_train, y_train);"
   ]
  },
  {
   "cell_type": "code",
   "execution_count": 147,
   "metadata": {},
   "outputs": [],
   "source": [
    "predict=rf.predict(X_test)"
   ]
  },
  {
   "cell_type": "code",
   "execution_count": 148,
   "metadata": {},
   "outputs": [
    {
     "data": {
      "text/plain": [
       "array([12.49      , 13.94      , 13.53      , 12.65      , 14.93      ,\n",
       "       12.37      , 15.2       , 12.68333333, 11.93      , 11.86      ,\n",
       "       14.26      , 12.72      , 13.46      , 12.70483333, 15.07      ,\n",
       "       13.96      , 12.93      , 11.77      , 13.53      , 13.66      ,\n",
       "       14.8       ])"
      ]
     },
     "execution_count": 148,
     "metadata": {},
     "output_type": "execute_result"
    }
   ],
   "source": [
    "predict"
   ]
  },
  {
   "cell_type": "code",
   "execution_count": 149,
   "metadata": {},
   "outputs": [
    {
     "data": {
      "text/plain": [
       "384    12\n",
       "477    14\n",
       "83     10\n",
       "756    14\n",
       "14     10\n",
       "59     11\n",
       "449    11\n",
       "770    15\n",
       "344    12\n",
       "110    13\n",
       "108    19\n",
       "173    17\n",
       "798    10\n",
       "79     21\n",
       "748    20\n",
       "121    11\n",
       "155    11\n",
       "169    11\n",
       "246    13\n",
       "299    10\n",
       "53     16\n",
       "Name: Anxiety Numerical , dtype: int64"
      ]
     },
     "execution_count": 149,
     "metadata": {},
     "output_type": "execute_result"
    }
   ],
   "source": [
    "y_test"
   ]
  },
  {
   "cell_type": "code",
   "execution_count": 150,
   "metadata": {},
   "outputs": [
    {
     "data": {
      "text/plain": [
       "[2, 2, 2, 2, 2, 2, 2, 3, 2, 2, 3, 3, 2, 3, 3, 2, 2, 2, 2, 2, 3]"
      ]
     },
     "execution_count": 150,
     "metadata": {},
     "output_type": "execute_result"
    }
   ],
   "source": [
    "y_actual=[3 if x>=15 else 2 if x>=10 else 1 if x>=5 else 0 for x in y_test]\n",
    "y_actual"
   ]
  },
  {
   "cell_type": "code",
   "execution_count": 151,
   "metadata": {},
   "outputs": [
    {
     "data": {
      "text/plain": [
       "[2, 2, 2, 2, 2, 2, 3, 2, 2, 2, 2, 2, 2, 2, 3, 2, 2, 2, 2, 2, 2]"
      ]
     },
     "execution_count": 151,
     "metadata": {},
     "output_type": "execute_result"
    }
   ],
   "source": [
    "y_prediction=[3 if x>=15 else 2 if x>=10 else 1 if x>=5 else 0 for x in predict]\n",
    "y_prediction"
   ]
  },
  {
   "cell_type": "code",
   "execution_count": 153,
   "metadata": {},
   "outputs": [
    {
     "data": {
      "text/plain": [
       "0.7142857142857143"
      ]
     },
     "execution_count": 153,
     "metadata": {},
     "output_type": "execute_result"
    }
   ],
   "source": [
    "from sklearn.metrics import accuracy_score\n",
    "accuracy_score(y_actual,y_prediction)"
   ]
  },
  {
   "cell_type": "code",
   "execution_count": 154,
   "metadata": {},
   "outputs": [
    {
     "data": {
      "text/plain": [
       "array([0.05223087, 0.05541123, 0.06213657, 0.08917228, 0.09060568,\n",
       "       0.07644477, 0.09280285, 0.09002305, 0.04607248, 0.08192523,\n",
       "       0.09182787, 0.07700358, 0.09434354])"
      ]
     },
     "execution_count": 154,
     "metadata": {},
     "output_type": "execute_result"
    }
   ],
   "source": [
    "rf.feature_importances_"
   ]
  },
  {
   "cell_type": "code",
   "execution_count": null,
   "metadata": {},
   "outputs": [],
   "source": []
  }
 ],
 "metadata": {
  "kernelspec": {
   "display_name": "Python 3",
   "language": "python",
   "name": "python3"
  },
  "language_info": {
   "codemirror_mode": {
    "name": "ipython",
    "version": 3
   },
   "file_extension": ".py",
   "mimetype": "text/x-python",
   "name": "python",
   "nbconvert_exporter": "python",
   "pygments_lexer": "ipython3",
   "version": "3.8.2"
  }
 },
 "nbformat": 4,
 "nbformat_minor": 4
}

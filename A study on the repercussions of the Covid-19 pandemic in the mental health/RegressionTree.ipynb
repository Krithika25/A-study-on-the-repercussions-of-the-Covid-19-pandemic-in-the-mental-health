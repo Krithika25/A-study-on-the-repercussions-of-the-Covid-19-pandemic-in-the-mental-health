{
 "cells": [
  {
   "cell_type": "code",
   "execution_count": 2,
   "metadata": {},
   "outputs": [],
   "source": [
    "import pandas as pd\n",
    "import matplotlib.pyplot as plt\n",
    "import numpy as np\n",
    "from sklearn.model_selection import train_test_split\n",
    "from sklearn.tree import DecisionTreeRegressor\n",
    "from sklearn.tree import export_graphviz"
   ]
  },
  {
   "cell_type": "code",
   "execution_count": 24,
   "metadata": {},
   "outputs": [
    {
     "data": {
      "text/html": [
       "<div>\n",
       "<style scoped>\n",
       "    .dataframe tbody tr th:only-of-type {\n",
       "        vertical-align: middle;\n",
       "    }\n",
       "\n",
       "    .dataframe tbody tr th {\n",
       "        vertical-align: top;\n",
       "    }\n",
       "\n",
       "    .dataframe thead th {\n",
       "        text-align: right;\n",
       "    }\n",
       "</style>\n",
       "<table border=\"1\" class=\"dataframe\">\n",
       "  <thead>\n",
       "    <tr style=\"text-align: right;\">\n",
       "      <th></th>\n",
       "      <th>Timestamp</th>\n",
       "      <th>Which age group you belong to?</th>\n",
       "      <th>Location(From which state you are?)</th>\n",
       "      <th>Is it difficult to get essentials(food/medicine)?</th>\n",
       "      <th>What is your gender?</th>\n",
       "      <th>How you ever felt symptoms of COVID?</th>\n",
       "      <th>Do you have any of the following conditions?</th>\n",
       "      <th>During the lockdown have you been doing more household work?</th>\n",
       "      <th>Have you or anyone you know have corona virus/recovered from COVID/been tested for COVID?</th>\n",
       "      <th>How often do you use masks/hand sanitizers(per day)?</th>\n",
       "      <th>...</th>\n",
       "      <th>Over the last 2 weeks, how often have you been bothered by being so restless that it is hard to sit still?</th>\n",
       "      <th>Over the last 2 weeks, how often have you been bothered by trouble relaxing?</th>\n",
       "      <th>Over the last 2 weeks, how often have you been bothered by becoming easily an0yed or irritable?</th>\n",
       "      <th>Over the last 2 weeks, how often have you been bothered by feeling afraid as if something awful might happen?</th>\n",
       "      <th>Anxiety Numerical</th>\n",
       "      <th>Level Of Anxiety</th>\n",
       "      <th>Immunity</th>\n",
       "      <th>Unnamed: 36</th>\n",
       "      <th>Unnamed: 37</th>\n",
       "      <th>Unnamed: 38</th>\n",
       "    </tr>\n",
       "  </thead>\n",
       "  <tbody>\n",
       "    <tr>\n",
       "      <th>0</th>\n",
       "      <td>2020-06-19 13:39:55.750</td>\n",
       "      <td>2</td>\n",
       "      <td>1</td>\n",
       "      <td>0</td>\n",
       "      <td>1</td>\n",
       "      <td>0</td>\n",
       "      <td>0</td>\n",
       "      <td>1</td>\n",
       "      <td>1</td>\n",
       "      <td>0</td>\n",
       "      <td>...</td>\n",
       "      <td>0</td>\n",
       "      <td>0</td>\n",
       "      <td>1</td>\n",
       "      <td>0</td>\n",
       "      <td>2</td>\n",
       "      <td>0</td>\n",
       "      <td>1</td>\n",
       "      <td>NaN</td>\n",
       "      <td>NaN</td>\n",
       "      <td>NaN</td>\n",
       "    </tr>\n",
       "    <tr>\n",
       "      <th>1</th>\n",
       "      <td>2020-06-19 13:40:56.063</td>\n",
       "      <td>2</td>\n",
       "      <td>1</td>\n",
       "      <td>0</td>\n",
       "      <td>1</td>\n",
       "      <td>0</td>\n",
       "      <td>0</td>\n",
       "      <td>0</td>\n",
       "      <td>0</td>\n",
       "      <td>0</td>\n",
       "      <td>...</td>\n",
       "      <td>1</td>\n",
       "      <td>1</td>\n",
       "      <td>0</td>\n",
       "      <td>1</td>\n",
       "      <td>5</td>\n",
       "      <td>1</td>\n",
       "      <td>0</td>\n",
       "      <td>NaN</td>\n",
       "      <td>NaN</td>\n",
       "      <td>NaN</td>\n",
       "    </tr>\n",
       "    <tr>\n",
       "      <th>2</th>\n",
       "      <td>2020-06-19 13:42:22.938</td>\n",
       "      <td>2</td>\n",
       "      <td>1</td>\n",
       "      <td>0</td>\n",
       "      <td>1</td>\n",
       "      <td>0</td>\n",
       "      <td>0</td>\n",
       "      <td>1</td>\n",
       "      <td>0</td>\n",
       "      <td>0</td>\n",
       "      <td>...</td>\n",
       "      <td>0</td>\n",
       "      <td>1</td>\n",
       "      <td>2</td>\n",
       "      <td>1</td>\n",
       "      <td>10</td>\n",
       "      <td>2</td>\n",
       "      <td>1</td>\n",
       "      <td>NaN</td>\n",
       "      <td>NaN</td>\n",
       "      <td>NaN</td>\n",
       "    </tr>\n",
       "    <tr>\n",
       "      <th>3</th>\n",
       "      <td>2020-06-19 13:51:35.532</td>\n",
       "      <td>2</td>\n",
       "      <td>1</td>\n",
       "      <td>0</td>\n",
       "      <td>0</td>\n",
       "      <td>0</td>\n",
       "      <td>0</td>\n",
       "      <td>0</td>\n",
       "      <td>1</td>\n",
       "      <td>1</td>\n",
       "      <td>...</td>\n",
       "      <td>0</td>\n",
       "      <td>0</td>\n",
       "      <td>0</td>\n",
       "      <td>0</td>\n",
       "      <td>0</td>\n",
       "      <td>0</td>\n",
       "      <td>1</td>\n",
       "      <td>NaN</td>\n",
       "      <td>NaN</td>\n",
       "      <td>NaN</td>\n",
       "    </tr>\n",
       "    <tr>\n",
       "      <th>4</th>\n",
       "      <td>2020-06-19 13:51:44.612</td>\n",
       "      <td>2</td>\n",
       "      <td>1</td>\n",
       "      <td>0</td>\n",
       "      <td>1</td>\n",
       "      <td>0</td>\n",
       "      <td>0</td>\n",
       "      <td>0</td>\n",
       "      <td>1</td>\n",
       "      <td>1</td>\n",
       "      <td>...</td>\n",
       "      <td>0</td>\n",
       "      <td>0</td>\n",
       "      <td>0</td>\n",
       "      <td>1</td>\n",
       "      <td>1</td>\n",
       "      <td>0</td>\n",
       "      <td>1</td>\n",
       "      <td>NaN</td>\n",
       "      <td>NaN</td>\n",
       "      <td>NaN</td>\n",
       "    </tr>\n",
       "  </tbody>\n",
       "</table>\n",
       "<p>5 rows × 39 columns</p>\n",
       "</div>"
      ],
      "text/plain": [
       "                Timestamp  Which age group you belong to?  \\\n",
       "0 2020-06-19 13:39:55.750                               2   \n",
       "1 2020-06-19 13:40:56.063                               2   \n",
       "2 2020-06-19 13:42:22.938                               2   \n",
       "3 2020-06-19 13:51:35.532                               2   \n",
       "4 2020-06-19 13:51:44.612                               2   \n",
       "\n",
       "   Location(From which state you are?)  \\\n",
       "0                                    1   \n",
       "1                                    1   \n",
       "2                                    1   \n",
       "3                                    1   \n",
       "4                                    1   \n",
       "\n",
       "   Is it difficult to get essentials(food/medicine)?  What is your gender?  \\\n",
       "0                                                  0                     1   \n",
       "1                                                  0                     1   \n",
       "2                                                  0                     1   \n",
       "3                                                  0                     0   \n",
       "4                                                  0                     1   \n",
       "\n",
       "   How you ever felt symptoms of COVID?   \\\n",
       "0                                      0   \n",
       "1                                      0   \n",
       "2                                      0   \n",
       "3                                      0   \n",
       "4                                      0   \n",
       "\n",
       "   Do you have any of the following conditions?  \\\n",
       "0                                             0   \n",
       "1                                             0   \n",
       "2                                             0   \n",
       "3                                             0   \n",
       "4                                             0   \n",
       "\n",
       "   During the lockdown have you been doing more household work?  \\\n",
       "0                                                  1              \n",
       "1                                                  0              \n",
       "2                                                  1              \n",
       "3                                                  0              \n",
       "4                                                  0              \n",
       "\n",
       "   Have you or anyone you know have corona virus/recovered from COVID/been tested for COVID?   \\\n",
       "0                                                  1                                            \n",
       "1                                                  0                                            \n",
       "2                                                  0                                            \n",
       "3                                                  1                                            \n",
       "4                                                  1                                            \n",
       "\n",
       "   How often do you use masks/hand sanitizers(per day)?  ...  \\\n",
       "0                                                  0     ...   \n",
       "1                                                  0     ...   \n",
       "2                                                  0     ...   \n",
       "3                                                  1     ...   \n",
       "4                                                  1     ...   \n",
       "\n",
       "   Over the last 2 weeks, how often have you been bothered by being so restless that it is hard to sit still?  \\\n",
       "0                                                  0                                                            \n",
       "1                                                  1                                                            \n",
       "2                                                  0                                                            \n",
       "3                                                  0                                                            \n",
       "4                                                  0                                                            \n",
       "\n",
       "   Over the last 2 weeks, how often have you been bothered by trouble relaxing?  \\\n",
       "0                                                  0                              \n",
       "1                                                  1                              \n",
       "2                                                  1                              \n",
       "3                                                  0                              \n",
       "4                                                  0                              \n",
       "\n",
       "   Over the last 2 weeks, how often have you been bothered by becoming easily an0yed or irritable?  \\\n",
       "0                                                  1                                                 \n",
       "1                                                  0                                                 \n",
       "2                                                  2                                                 \n",
       "3                                                  0                                                 \n",
       "4                                                  0                                                 \n",
       "\n",
       "   Over the last 2 weeks, how often have you been bothered by feeling afraid as if something awful might happen?  \\\n",
       "0                                                  0                                                               \n",
       "1                                                  1                                                               \n",
       "2                                                  1                                                               \n",
       "3                                                  0                                                               \n",
       "4                                                  1                                                               \n",
       "\n",
       "   Anxiety Numerical   Level Of Anxiety   Immunity  Unnamed: 36  Unnamed: 37  \\\n",
       "0                   2                  0         1          NaN          NaN   \n",
       "1                   5                  1         0          NaN          NaN   \n",
       "2                  10                  2         1          NaN          NaN   \n",
       "3                   0                  0         1          NaN          NaN   \n",
       "4                   1                  0         1          NaN          NaN   \n",
       "\n",
       "   Unnamed: 38  \n",
       "0          NaN  \n",
       "1          NaN  \n",
       "2          NaN  \n",
       "3          NaN  \n",
       "4          NaN  \n",
       "\n",
       "[5 rows x 39 columns]"
      ]
     },
     "execution_count": 24,
     "metadata": {},
     "output_type": "execute_result"
    }
   ],
   "source": [
    "df=pd.read_excel('./../myproj/Survey.xlsx',nrows=830)\n",
    "df=df.loc[df['Which age group you belong to?']==2]\n",
    "df.head()"
   ]
  },
  {
   "cell_type": "code",
   "execution_count": 68,
   "metadata": {},
   "outputs": [],
   "source": [
    "df=df.loc[df['Which age group you belong to?']==2]\n",
    "df=df.lo"
   ]
  },
  {
   "cell_type": "code",
   "execution_count": 69,
   "metadata": {},
   "outputs": [],
   "source": [
    "X=df[['Have you or anyone you know have corona virus/recovered from COVID/been tested for COVID? ',\n",
    "       'How often do you use masks/hand sanitizers(per day)?',\n",
    "       'Do you feel like you have wasted your time during the lock down or have you ever felt pressurized by your peer’s accomplishments during the lock down?',\n",
    "       'Are you in a containment zone? ',\n",
    "       'Do you have children less than 3 yrs, or elders 65+ at your house?',\n",
    "       'Have you ever felt afraid or anxious to go to hospital during this pandemic?',\n",
    "       'Has your sleep cycle changed drastically?',\n",
    "       'Did you face a pay cut/job loss/take a0ther job to cover expenses?',\n",
    "       'Do you have online classes/assignments/assessments/tests? ',\n",
    "       'Have you taken any medication to prevent corona(Chloroquine or kabasura kudineer) or any medication to increase your immunity?',\n",
    "       'Have you been affected by not being able to visit religious places?',\n",
    "       'Do you miss hanging out with people outside of your house?',\n",
    "      ]]"
   ]
  },
  {
   "cell_type": "code",
   "execution_count": 70,
   "metadata": {},
   "outputs": [],
   "source": [
    "y=df['Anxiety Numerical ']"
   ]
  },
  {
   "cell_type": "code",
   "execution_count": 76,
   "metadata": {},
   "outputs": [
    {
     "data": {
      "text/html": [
       "<div>\n",
       "<style scoped>\n",
       "    .dataframe tbody tr th:only-of-type {\n",
       "        vertical-align: middle;\n",
       "    }\n",
       "\n",
       "    .dataframe tbody tr th {\n",
       "        vertical-align: top;\n",
       "    }\n",
       "\n",
       "    .dataframe thead th {\n",
       "        text-align: right;\n",
       "    }\n",
       "</style>\n",
       "<table border=\"1\" class=\"dataframe\">\n",
       "  <thead>\n",
       "    <tr style=\"text-align: right;\">\n",
       "      <th></th>\n",
       "      <th>Have you or anyone you know have corona virus/recovered from COVID/been tested for COVID?</th>\n",
       "      <th>How often do you use masks/hand sanitizers(per day)?</th>\n",
       "      <th>Do you feel like you have wasted your time during the lock down or have you ever felt pressurized by your peer’s accomplishments during the lock down?</th>\n",
       "      <th>Are you in a containment zone?</th>\n",
       "      <th>Do you have children less than 3 yrs, or elders 65+ at your house?</th>\n",
       "      <th>Have you ever felt afraid or anxious to go to hospital during this pandemic?</th>\n",
       "      <th>Has your sleep cycle changed drastically?</th>\n",
       "      <th>Did you face a pay cut/job loss/take a0ther job to cover expenses?</th>\n",
       "      <th>Do you have online classes/assignments/assessments/tests?</th>\n",
       "      <th>Have you taken any medication to prevent corona(Chloroquine or kabasura kudineer) or any medication to increase your immunity?</th>\n",
       "      <th>Have you been affected by not being able to visit religious places?</th>\n",
       "      <th>Do you miss hanging out with people outside of your house?</th>\n",
       "    </tr>\n",
       "  </thead>\n",
       "  <tbody>\n",
       "  </tbody>\n",
       "</table>\n",
       "</div>"
      ],
      "text/plain": [
       "Empty DataFrame\n",
       "Columns: [Have you or anyone you know have corona virus/recovered from COVID/been tested for COVID? , How often do you use masks/hand sanitizers(per day)?, Do you feel like you have wasted your time during the lock down or have you ever felt pressurized by your peer’s accomplishments during the lock down?, Are you in a containment zone? , Do you have children less than 3 yrs, or elders 65+ at your house?, Have you ever felt afraid or anxious to go to hospital during this pandemic?, Has your sleep cycle changed drastically?, Did you face a pay cut/job loss/take a0ther job to cover expenses?, Do you have online classes/assignments/assessments/tests? , Have you taken any medication to prevent corona(Chloroquine or kabasura kudineer) or any medication to increase your immunity?, Have you been affected by not being able to visit religious places?, Do you miss hanging out with people outside of your house?]\n",
       "Index: []"
      ]
     },
     "execution_count": 76,
     "metadata": {},
     "output_type": "execute_result"
    }
   ],
   "source": [
    "X_train=X[:100]\n",
    "X_train"
   ]
  },
  {
   "cell_type": "code",
   "execution_count": 63,
   "metadata": {},
   "outputs": [
    {
     "data": {
      "text/plain": [
       "DecisionTreeRegressor(ccp_alpha=0.0, criterion='mse', max_depth=None,\n",
       "                      max_features=None, max_leaf_nodes=None,\n",
       "                      min_impurity_decrease=0.0, min_impurity_split=None,\n",
       "                      min_samples_leaf=1, min_samples_split=2,\n",
       "                      min_weight_fraction_leaf=0.0, presort='deprecated',\n",
       "                      random_state=0, splitter='best')"
      ]
     },
     "execution_count": 63,
     "metadata": {},
     "output_type": "execute_result"
    }
   ],
   "source": [
    "regressor = DecisionTreeRegressor(random_state = 0) \n",
    "# fit the regressor with X and Y data \n",
    "regressor.fit(X_train, y_train)"
   ]
  },
  {
   "cell_type": "code",
   "execution_count": 64,
   "metadata": {},
   "outputs": [
    {
     "data": {
      "text/plain": [
       "[2,\n",
       " 0,\n",
       " 8,\n",
       " 17,\n",
       " 4,\n",
       " 3,\n",
       " 2,\n",
       " 0,\n",
       " 2,\n",
       " 8,\n",
       " 5,\n",
       " 9,\n",
       " 7,\n",
       " 0,\n",
       " 20,\n",
       " 8,\n",
       " 17,\n",
       " 4,\n",
       " 2,\n",
       " 8,\n",
       " 17,\n",
       " 0,\n",
       " 10,\n",
       " 3,\n",
       " 3,\n",
       " 0,\n",
       " 0,\n",
       " 1]"
      ]
     },
     "execution_count": 64,
     "metadata": {},
     "output_type": "execute_result"
    }
   ],
   "source": [
    "y_pred = regressor.predict(X_test)\n",
    "y_pred = [int(x) for x in y_pred]\n",
    "y_pred"
   ]
  },
  {
   "cell_type": "code",
   "execution_count": 65,
   "metadata": {},
   "outputs": [
    {
     "data": {
      "text/plain": [
       "[0,\n",
       " 0,\n",
       " 1,\n",
       " 3,\n",
       " 0,\n",
       " 0,\n",
       " 0,\n",
       " 0,\n",
       " 0,\n",
       " 1,\n",
       " 1,\n",
       " 1,\n",
       " 1,\n",
       " 0,\n",
       " 3,\n",
       " 1,\n",
       " 3,\n",
       " 0,\n",
       " 0,\n",
       " 1,\n",
       " 3,\n",
       " 0,\n",
       " 2,\n",
       " 0,\n",
       " 0,\n",
       " 0,\n",
       " 0,\n",
       " 0]"
      ]
     },
     "execution_count": 65,
     "metadata": {},
     "output_type": "execute_result"
    }
   ],
   "source": [
    "y_prediction=[3 if x>=15 else 2 if x>=10 else 1 if x>=5 else 0 for x in y_pred]\n",
    "y_prediction"
   ]
  },
  {
   "cell_type": "code",
   "execution_count": 66,
   "metadata": {},
   "outputs": [
    {
     "data": {
      "text/plain": [
       "[0,\n",
       " 1,\n",
       " 1,\n",
       " 2,\n",
       " 1,\n",
       " 0,\n",
       " 0,\n",
       " 2,\n",
       " 1,\n",
       " 1,\n",
       " 2,\n",
       " 1,\n",
       " 1,\n",
       " 1,\n",
       " 3,\n",
       " 2,\n",
       " 1,\n",
       " 1,\n",
       " 0,\n",
       " 0,\n",
       " 1,\n",
       " 0,\n",
       " 2,\n",
       " 0,\n",
       " 3,\n",
       " 1,\n",
       " 2,\n",
       " 0]"
      ]
     },
     "execution_count": 66,
     "metadata": {},
     "output_type": "execute_result"
    }
   ],
   "source": [
    "y_actual=[3 if x>=15 else 2 if x>=10 else 1 if x>=5 else 0 for x in y_test]\n",
    "y_actual"
   ]
  },
  {
   "cell_type": "code",
   "execution_count": 68,
   "metadata": {},
   "outputs": [],
   "source": [
    "dot_data=export_graphviz(regressor, out_file=None, feature_names = X.columns,\n",
    "                class_names = y.unique(),\n",
    "                rounded = True, proportion = False, precision = 2, filled = True)"
   ]
  },
  {
   "cell_type": "code",
   "execution_count": 80,
   "metadata": {},
   "outputs": [],
   "source": [
    "import pydotplus\n",
    "graph = pydotplus.graph_from_dot_data(dot_data)"
   ]
  },
  {
   "cell_type": "code",
   "execution_count": 82,
   "metadata": {},
   "outputs": [
    {
     "name": "stdout",
     "output_type": "stream",
     "text": [
      "dot: graph is too large for cairo-renderer bitmaps. Scaling by 0.733978 to fit\n",
      "\n",
      "dot: graph is too large for cairo-renderer bitmaps. Scaling by 0.733978 to fit\n",
      "\n"
     ]
    },
    {
     "data": {
      "text/plain": [
       "True"
      ]
     },
     "execution_count": 82,
     "metadata": {},
     "output_type": "execute_result"
    }
   ],
   "source": [
    "from IPython.display import Image\n",
    "Image(graph.create_png())\n",
    "graph.write_png(\"iris.png\")"
   ]
  },
  {
   "cell_type": "code",
   "execution_count": 67,
   "metadata": {},
   "outputs": [
    {
     "data": {
      "text/plain": [
       "0.4642857142857143"
      ]
     },
     "execution_count": 67,
     "metadata": {},
     "output_type": "execute_result"
    }
   ],
   "source": [
    "from sklearn.metrics import accuracy_score\n",
    "accuracy_score(y_actual, y_prediction)"
   ]
  },
  {
   "cell_type": "code",
   "execution_count": 59,
   "metadata": {},
   "outputs": [
    {
     "data": {
      "text/plain": [
       "array([0.09215594, 0.07368202, 0.09033629, 0.13715505, 0.10350142,\n",
       "       0.07796121, 0.05759233, 0.05201838, 0.06889224, 0.03573919,\n",
       "       0.06028041, 0.07308914, 0.07759636])"
      ]
     },
     "execution_count": 59,
     "metadata": {},
     "output_type": "execute_result"
    }
   ],
   "source": [
    "regressor.feature_importances_"
   ]
  },
  {
   "cell_type": "code",
   "execution_count": 70,
   "metadata": {},
   "outputs": [
    {
     "data": {
      "text/plain": [
       "-0.6162993119582938"
      ]
     },
     "execution_count": 70,
     "metadata": {},
     "output_type": "execute_result"
    }
   ],
   "source": [
    "from sklearn.metrics import r2_score\n",
    "r2_score(y_test,y_pred)"
   ]
  },
  {
   "cell_type": "code",
   "execution_count": null,
   "metadata": {},
   "outputs": [],
   "source": []
  }
 ],
 "metadata": {
  "kernelspec": {
   "display_name": "Python 3",
   "language": "python",
   "name": "python3"
  },
  "language_info": {
   "codemirror_mode": {
    "name": "ipython",
    "version": 3
   },
   "file_extension": ".py",
   "mimetype": "text/x-python",
   "name": "python",
   "nbconvert_exporter": "python",
   "pygments_lexer": "ipython3",
   "version": "3.8.2"
  }
 },
 "nbformat": 4,
 "nbformat_minor": 4
}

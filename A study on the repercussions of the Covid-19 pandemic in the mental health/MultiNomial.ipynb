{
 "cells": [
  {
   "cell_type": "code",
   "execution_count": 1,
   "metadata": {},
   "outputs": [],
   "source": [
    "from sklearn.linear_model import LogisticRegression\n",
    "from sklearn import datasets\n",
    "from sklearn.preprocessing import StandardScaler\n",
    "import numpy as np\n",
    "import pandas as pd\n",
    "from sklearn.model_selection import train_test_split"
   ]
  },
  {
   "cell_type": "code",
   "execution_count": 4,
   "metadata": {},
   "outputs": [
    {
     "data": {
      "text/html": [
       "<div>\n",
       "<style scoped>\n",
       "    .dataframe tbody tr th:only-of-type {\n",
       "        vertical-align: middle;\n",
       "    }\n",
       "\n",
       "    .dataframe tbody tr th {\n",
       "        vertical-align: top;\n",
       "    }\n",
       "\n",
       "    .dataframe thead th {\n",
       "        text-align: right;\n",
       "    }\n",
       "</style>\n",
       "<table border=\"1\" class=\"dataframe\">\n",
       "  <thead>\n",
       "    <tr style=\"text-align: right;\">\n",
       "      <th></th>\n",
       "      <th>Timestamp</th>\n",
       "      <th>Which age group you belong to?</th>\n",
       "      <th>Location(From which state you are?)</th>\n",
       "      <th>Is it difficult to get essentials(food/medicine)?</th>\n",
       "      <th>What is your gender?</th>\n",
       "      <th>How you ever felt symptoms of COVID?</th>\n",
       "      <th>Do you have any of the following conditions?</th>\n",
       "      <th>During the lockdown have you been doing more household work?</th>\n",
       "      <th>Have you or anyone you know have corona virus/recovered from COVID/been tested for COVID?</th>\n",
       "      <th>How often do you use masks/hand sanitizers(per day)?</th>\n",
       "      <th>...</th>\n",
       "      <th>Over the last 2 weeks, how often have you been bothered by being so restless that it is hard to sit still?</th>\n",
       "      <th>Over the last 2 weeks, how often have you been bothered by trouble relaxing?</th>\n",
       "      <th>Over the last 2 weeks, how often have you been bothered by becoming easily an0yed or irritable?</th>\n",
       "      <th>Over the last 2 weeks, how often have you been bothered by feeling afraid as if something awful might happen?</th>\n",
       "      <th>Anxiety Numerical</th>\n",
       "      <th>Level Of Anxiety</th>\n",
       "      <th>Unnamed: 35</th>\n",
       "      <th>Unnamed: 36</th>\n",
       "      <th>Unnamed: 37</th>\n",
       "      <th>Unnamed: 38</th>\n",
       "    </tr>\n",
       "  </thead>\n",
       "  <tbody>\n",
       "    <tr>\n",
       "      <th>0</th>\n",
       "      <td>2020-06-19 13:39:55.750</td>\n",
       "      <td>2</td>\n",
       "      <td>1</td>\n",
       "      <td>0</td>\n",
       "      <td>1</td>\n",
       "      <td>0</td>\n",
       "      <td>0</td>\n",
       "      <td>1</td>\n",
       "      <td>1</td>\n",
       "      <td>0</td>\n",
       "      <td>...</td>\n",
       "      <td>0</td>\n",
       "      <td>0</td>\n",
       "      <td>1</td>\n",
       "      <td>0</td>\n",
       "      <td>2</td>\n",
       "      <td>0</td>\n",
       "      <td>NaN</td>\n",
       "      <td>NaN</td>\n",
       "      <td>NaN</td>\n",
       "      <td>NaN</td>\n",
       "    </tr>\n",
       "    <tr>\n",
       "      <th>1</th>\n",
       "      <td>2020-06-19 13:40:56.063</td>\n",
       "      <td>2</td>\n",
       "      <td>1</td>\n",
       "      <td>0</td>\n",
       "      <td>1</td>\n",
       "      <td>0</td>\n",
       "      <td>0</td>\n",
       "      <td>0</td>\n",
       "      <td>0</td>\n",
       "      <td>0</td>\n",
       "      <td>...</td>\n",
       "      <td>1</td>\n",
       "      <td>1</td>\n",
       "      <td>0</td>\n",
       "      <td>1</td>\n",
       "      <td>5</td>\n",
       "      <td>1</td>\n",
       "      <td>NaN</td>\n",
       "      <td>NaN</td>\n",
       "      <td>NaN</td>\n",
       "      <td>NaN</td>\n",
       "    </tr>\n",
       "    <tr>\n",
       "      <th>2</th>\n",
       "      <td>2020-06-19 13:42:22.938</td>\n",
       "      <td>2</td>\n",
       "      <td>1</td>\n",
       "      <td>0</td>\n",
       "      <td>1</td>\n",
       "      <td>0</td>\n",
       "      <td>0</td>\n",
       "      <td>1</td>\n",
       "      <td>0</td>\n",
       "      <td>0</td>\n",
       "      <td>...</td>\n",
       "      <td>0</td>\n",
       "      <td>1</td>\n",
       "      <td>2</td>\n",
       "      <td>1</td>\n",
       "      <td>10</td>\n",
       "      <td>2</td>\n",
       "      <td>NaN</td>\n",
       "      <td>NaN</td>\n",
       "      <td>NaN</td>\n",
       "      <td>NaN</td>\n",
       "    </tr>\n",
       "    <tr>\n",
       "      <th>3</th>\n",
       "      <td>2020-06-19 13:51:35.532</td>\n",
       "      <td>2</td>\n",
       "      <td>1</td>\n",
       "      <td>0</td>\n",
       "      <td>0</td>\n",
       "      <td>0</td>\n",
       "      <td>0</td>\n",
       "      <td>0</td>\n",
       "      <td>1</td>\n",
       "      <td>1</td>\n",
       "      <td>...</td>\n",
       "      <td>0</td>\n",
       "      <td>0</td>\n",
       "      <td>0</td>\n",
       "      <td>0</td>\n",
       "      <td>0</td>\n",
       "      <td>0</td>\n",
       "      <td>NaN</td>\n",
       "      <td>NaN</td>\n",
       "      <td>NaN</td>\n",
       "      <td>NaN</td>\n",
       "    </tr>\n",
       "    <tr>\n",
       "      <th>4</th>\n",
       "      <td>2020-06-19 13:51:44.612</td>\n",
       "      <td>2</td>\n",
       "      <td>1</td>\n",
       "      <td>0</td>\n",
       "      <td>1</td>\n",
       "      <td>0</td>\n",
       "      <td>0</td>\n",
       "      <td>0</td>\n",
       "      <td>1</td>\n",
       "      <td>1</td>\n",
       "      <td>...</td>\n",
       "      <td>0</td>\n",
       "      <td>0</td>\n",
       "      <td>0</td>\n",
       "      <td>1</td>\n",
       "      <td>1</td>\n",
       "      <td>0</td>\n",
       "      <td>NaN</td>\n",
       "      <td>NaN</td>\n",
       "      <td>NaN</td>\n",
       "      <td>NaN</td>\n",
       "    </tr>\n",
       "  </tbody>\n",
       "</table>\n",
       "<p>5 rows × 39 columns</p>\n",
       "</div>"
      ],
      "text/plain": [
       "                Timestamp  Which age group you belong to?  \\\n",
       "0 2020-06-19 13:39:55.750                               2   \n",
       "1 2020-06-19 13:40:56.063                               2   \n",
       "2 2020-06-19 13:42:22.938                               2   \n",
       "3 2020-06-19 13:51:35.532                               2   \n",
       "4 2020-06-19 13:51:44.612                               2   \n",
       "\n",
       "   Location(From which state you are?)  \\\n",
       "0                                    1   \n",
       "1                                    1   \n",
       "2                                    1   \n",
       "3                                    1   \n",
       "4                                    1   \n",
       "\n",
       "   Is it difficult to get essentials(food/medicine)?  What is your gender?  \\\n",
       "0                                                  0                     1   \n",
       "1                                                  0                     1   \n",
       "2                                                  0                     1   \n",
       "3                                                  0                     0   \n",
       "4                                                  0                     1   \n",
       "\n",
       "   How you ever felt symptoms of COVID?   \\\n",
       "0                                      0   \n",
       "1                                      0   \n",
       "2                                      0   \n",
       "3                                      0   \n",
       "4                                      0   \n",
       "\n",
       "   Do you have any of the following conditions?  \\\n",
       "0                                             0   \n",
       "1                                             0   \n",
       "2                                             0   \n",
       "3                                             0   \n",
       "4                                             0   \n",
       "\n",
       "   During the lockdown have you been doing more household work?  \\\n",
       "0                                                  1              \n",
       "1                                                  0              \n",
       "2                                                  1              \n",
       "3                                                  0              \n",
       "4                                                  0              \n",
       "\n",
       "   Have you or anyone you know have corona virus/recovered from COVID/been tested for COVID?   \\\n",
       "0                                                  1                                            \n",
       "1                                                  0                                            \n",
       "2                                                  0                                            \n",
       "3                                                  1                                            \n",
       "4                                                  1                                            \n",
       "\n",
       "   How often do you use masks/hand sanitizers(per day)?  ...  \\\n",
       "0                                                  0     ...   \n",
       "1                                                  0     ...   \n",
       "2                                                  0     ...   \n",
       "3                                                  1     ...   \n",
       "4                                                  1     ...   \n",
       "\n",
       "   Over the last 2 weeks, how often have you been bothered by being so restless that it is hard to sit still?  \\\n",
       "0                                                  0                                                            \n",
       "1                                                  1                                                            \n",
       "2                                                  0                                                            \n",
       "3                                                  0                                                            \n",
       "4                                                  0                                                            \n",
       "\n",
       "   Over the last 2 weeks, how often have you been bothered by trouble relaxing?  \\\n",
       "0                                                  0                              \n",
       "1                                                  1                              \n",
       "2                                                  1                              \n",
       "3                                                  0                              \n",
       "4                                                  0                              \n",
       "\n",
       "   Over the last 2 weeks, how often have you been bothered by becoming easily an0yed or irritable?  \\\n",
       "0                                                  1                                                 \n",
       "1                                                  0                                                 \n",
       "2                                                  2                                                 \n",
       "3                                                  0                                                 \n",
       "4                                                  0                                                 \n",
       "\n",
       "   Over the last 2 weeks, how often have you been bothered by feeling afraid as if something awful might happen?  \\\n",
       "0                                                  0                                                               \n",
       "1                                                  1                                                               \n",
       "2                                                  1                                                               \n",
       "3                                                  0                                                               \n",
       "4                                                  1                                                               \n",
       "\n",
       "   Anxiety Numerical   Level Of Anxiety   Unnamed: 35  Unnamed: 36  \\\n",
       "0                   2                  0          NaN          NaN   \n",
       "1                   5                  1          NaN          NaN   \n",
       "2                  10                  2          NaN          NaN   \n",
       "3                   0                  0          NaN          NaN   \n",
       "4                   1                  0          NaN          NaN   \n",
       "\n",
       "   Unnamed: 37  Unnamed: 38  \n",
       "0          NaN          NaN  \n",
       "1          NaN          NaN  \n",
       "2          NaN          NaN  \n",
       "3          NaN          NaN  \n",
       "4          NaN          NaN  \n",
       "\n",
       "[5 rows x 39 columns]"
      ]
     },
     "execution_count": 4,
     "metadata": {},
     "output_type": "execute_result"
    }
   ],
   "source": [
    "df=pd.read_excel('./../myproj/Survey.xlsx',nrows=830)\n",
    "df=df.loc[df['Which age group you belong to?']==2]\n",
    "df.head()"
   ]
  },
  {
   "cell_type": "code",
   "execution_count": 537,
   "metadata": {},
   "outputs": [],
   "source": [
    "X=df[['What is your gender?', \n",
    "       'Do you have any of the following conditions?',\n",
    "       'During the lockdown have you been doing more household work?',\n",
    "       'How often do you use masks/hand sanitizers(per day)?',\n",
    "       'Do you feel like you have wasted your time during the lock down or have you ever felt pressurized by your peer’s accomplishments during the lock down?',\n",
    "       'Do you have children less than 3 yrs, or elders 65+ at your house?',\n",
    "       'Has your sleep cycle changed drastically?',\n",
    "       'Have you felt frustrated by having your activities, major life events or opportunities affected by the virus? ',\n",
    "       'Do you have online classes/assignments/assessments/tests? ',\n",
    "       'Have you taken any medication to prevent corona(Chloroquine or kabasura kudineer) or any medication to increase your immunity?',\n",
    "       'Have you been affected by not being able to visit religious places?',\n",
    "       'Do you miss hanging out with people outside of your house?']]"
   ]
  },
  {
   "cell_type": "code",
   "execution_count": 538,
   "metadata": {},
   "outputs": [],
   "source": [
    "y=df['Over the last 2 weeks, how often have you been bothered by 0t being able to stop or control worrying?']"
   ]
  },
  {
   "cell_type": "code",
   "execution_count": 539,
   "metadata": {},
   "outputs": [],
   "source": [
    "clf = LogisticRegression(random_state=0, multi_class='multinomial', solver='newton-cg')"
   ]
  },
  {
   "cell_type": "code",
   "execution_count": 540,
   "metadata": {},
   "outputs": [],
   "source": [
    "X_train,X_test,y_train,y_test=train_test_split(X,y,test_size=0.1,random_state=0,stratify=y)"
   ]
  },
  {
   "cell_type": "code",
   "execution_count": 541,
   "metadata": {},
   "outputs": [],
   "source": [
    "model=clf.fit(X_train,y_train)"
   ]
  },
  {
   "cell_type": "code",
   "execution_count": 542,
   "metadata": {},
   "outputs": [],
   "source": [
    "y_est=model.predict(X_test)"
   ]
  },
  {
   "cell_type": "code",
   "execution_count": 543,
   "metadata": {},
   "outputs": [
    {
     "data": {
      "text/plain": [
       "array([0, 1, 0, 1, 0, 1, 0, 0, 0, 1, 3, 1, 0, 0, 0, 1, 0, 0, 0, 1, 1, 1,\n",
       "       1, 0, 0, 0, 0, 0, 0, 0, 1, 0, 1, 1, 1, 0, 0, 0, 1, 0, 1, 0, 0, 1],\n",
       "      dtype=int64)"
      ]
     },
     "execution_count": 543,
     "metadata": {},
     "output_type": "execute_result"
    }
   ],
   "source": [
    "y_est"
   ]
  },
  {
   "cell_type": "code",
   "execution_count": 544,
   "metadata": {},
   "outputs": [
    {
     "data": {
      "text/plain": [
       "180    3\n",
       "155    1\n",
       "250    0\n",
       "604    1\n",
       "69     0\n",
       "403    0\n",
       "88     0\n",
       "136    1\n",
       "405    0\n",
       "536    1\n",
       "32     1\n",
       "720    2\n",
       "397    2\n",
       "177    0\n",
       "315    0\n",
       "292    1\n",
       "27     0\n",
       "560    1\n",
       "796    0\n",
       "134    3\n",
       "293    1\n",
       "40     1\n",
       "317    2\n",
       "157    0\n",
       "799    0\n",
       "126    1\n",
       "406    3\n",
       "5      2\n",
       "761    1\n",
       "328    0\n",
       "627    1\n",
       "331    1\n",
       "570    1\n",
       "59     1\n",
       "429    1\n",
       "614    0\n",
       "531    0\n",
       "829    0\n",
       "92     1\n",
       "452    0\n",
       "763    2\n",
       "271    0\n",
       "282    0\n",
       "214    0\n",
       "Name: Over the last 2 weeks, how often have you been bothered by 0t being able to stop or control worrying?, dtype: int64"
      ]
     },
     "execution_count": 544,
     "metadata": {},
     "output_type": "execute_result"
    }
   ],
   "source": [
    "y_test"
   ]
  },
  {
   "cell_type": "code",
   "execution_count": 545,
   "metadata": {},
   "outputs": [
    {
     "data": {
      "text/plain": [
       "0.6363636363636364"
      ]
     },
     "execution_count": 545,
     "metadata": {},
     "output_type": "execute_result"
    }
   ],
   "source": [
    "from sklearn.metrics import accuracy_score\n",
    "accuracy_score(y_test, y_est)"
   ]
  },
  {
   "cell_type": "code",
   "execution_count": 254,
   "metadata": {},
   "outputs": [
    {
     "data": {
      "text/plain": [
       "(44,)"
      ]
     },
     "execution_count": 254,
     "metadata": {},
     "output_type": "execute_result"
    }
   ],
   "source": [
    "y_test.shape"
   ]
  },
  {
   "cell_type": "code",
   "execution_count": 362,
   "metadata": {},
   "outputs": [
    {
     "data": {
      "text/plain": [
       "array([[-0.40229415, -0.03584084, -0.63351808, -0.08846956, -0.18463463,\n",
       "         0.39727059, -0.80552491, -0.0395819 , -0.2597631 , -0.44806427,\n",
       "        -0.77907524, -0.06415825, -0.15355073, -0.30195271, -0.65442135,\n",
       "         0.11527074],\n",
       "       [-0.09437529, -0.13431678, -0.89513261,  0.03619843,  0.12165988,\n",
       "        -0.06419658, -0.08469772, -0.09542811,  0.25562388,  0.3269109 ,\n",
       "        -0.1447432 , -0.04133739, -0.27544753, -0.02789756,  0.14759722,\n",
       "         0.13552733],\n",
       "       [ 0.41890007,  0.72555516,  0.37067591, -0.27227959, -0.33963491,\n",
       "        -0.00588694,  0.21194618,  0.08215453,  0.04172154, -0.13112252,\n",
       "         0.4231825 ,  0.4449762 ,  0.21824054,  0.40362098,  0.07478425,\n",
       "         0.02185241],\n",
       "       [ 0.07776937, -0.55539753,  1.15797477,  0.32455072,  0.40260967,\n",
       "        -0.32718706,  0.67827646,  0.05285548, -0.03758232,  0.25227588,\n",
       "         0.50063594, -0.33948056,  0.21075772, -0.07377072,  0.43203988,\n",
       "        -0.27265048]])"
      ]
     },
     "execution_count": 362,
     "metadata": {},
     "output_type": "execute_result"
    }
   ],
   "source": [
    "clf.coef_"
   ]
  },
  {
   "cell_type": "code",
   "execution_count": 526,
   "metadata": {},
   "outputs": [],
   "source": [
    "X=df[['What is your gender?', \n",
    "       'Do you have any of the following conditions?',\n",
    "       'During the lockdown have you been doing more household work?',\n",
    "       'How often do you use masks/hand sanitizers(per day)?',\n",
    "       'Do you feel like you have wasted your time during the lock down or have you ever felt pressurized by your peer’s accomplishments during the lock down?',\n",
    "       'Do you have children less than 3 yrs, or elders 65+ at your house?',\n",
    "       'Has your sleep cycle changed drastically?',\n",
    "       'Have you felt frustrated by having your activities, major life events or opportunities affected by the virus? ',\n",
    "       'Do you have online classes/assignments/assessments/tests? ',\n",
    "       'Have you taken any medication to prevent corona(Chloroquine or kabasura kudineer) or any medication to increase your immunity?',\n",
    "       'Have you been affected by not being able to visit religious places?',\n",
    "       'Do you miss hanging out with people outside of your house?']]"
   ]
  },
  {
   "cell_type": "code",
   "execution_count": 527,
   "metadata": {},
   "outputs": [],
   "source": [
    "y=df['Over the last 2 weeks, how often have you been bothered by feeling nervous, anxious, or on edge?']"
   ]
  },
  {
   "cell_type": "code",
   "execution_count": 528,
   "metadata": {},
   "outputs": [],
   "source": [
    "clf = LogisticRegression(random_state=0, multi_class='multinomial', solver='newton-cg')"
   ]
  },
  {
   "cell_type": "code",
   "execution_count": 533,
   "metadata": {},
   "outputs": [],
   "source": [
    "X_train,X_test,y_train,y_test=train_test_split(X,y,test_size=0.1,random_state=0,stratify=y)"
   ]
  },
  {
   "cell_type": "code",
   "execution_count": 534,
   "metadata": {},
   "outputs": [],
   "source": [
    "model=clf.fit(X_train,y_train)"
   ]
  },
  {
   "cell_type": "code",
   "execution_count": 535,
   "metadata": {},
   "outputs": [],
   "source": [
    "y_est=model.predict(X_test)"
   ]
  },
  {
   "cell_type": "code",
   "execution_count": 536,
   "metadata": {},
   "outputs": [
    {
     "data": {
      "text/plain": [
       "0.5909090909090909"
      ]
     },
     "execution_count": 536,
     "metadata": {},
     "output_type": "execute_result"
    }
   ],
   "source": [
    "accuracy_score(y_test, y_est)"
   ]
  },
  {
   "cell_type": "code",
   "execution_count": 413,
   "metadata": {},
   "outputs": [
    {
     "data": {
      "text/plain": [
       "array([[ 1.98519639e-01, -2.43214127e-01, -2.65183875e-01,\n",
       "        -6.29585489e-01, -4.55232788e-01,  2.95221913e-01,\n",
       "        -1.12708641e+00, -2.50663858e-01, -1.18238741e-01,\n",
       "        -6.29876145e-01,  3.90715461e-01, -4.55064643e-01,\n",
       "        -1.14200362e-01, -1.05266843e+00, -1.48447201e-01,\n",
       "         1.22253271e-01,  2.71559020e-01, -2.61142893e-03,\n",
       "        -4.53621209e-01, -2.94825313e-01],\n",
       "       [-1.86585890e-01, -2.00264765e-02, -1.89272550e-01,\n",
       "         2.24250192e-01,  1.21692826e-01,  5.27679047e-01,\n",
       "         1.33634476e-01,  2.57700019e-01,  4.18290253e-02,\n",
       "        -2.89292665e-01, -1.80380712e-01,  1.61166591e-01,\n",
       "         2.76535120e-01, -3.78789532e-01, -1.61218888e-01,\n",
       "         6.06798322e-01, -4.54181625e-01,  2.29773122e-04,\n",
       "         3.77533263e-03,  4.99708289e-01],\n",
       "       [-1.27672442e-01,  2.79812769e-01,  3.21711270e-01,\n",
       "         4.93199166e-01,  1.15062294e-01, -9.09283565e-02,\n",
       "         1.05055906e-01,  4.75878511e-01, -9.94541630e-02,\n",
       "         3.46785390e-01,  3.33780161e-01,  3.11834440e-01,\n",
       "        -1.11080463e-01,  7.42082544e-01,  1.33124491e-01,\n",
       "        -2.33606221e-01, -2.35354988e-01, -3.05180522e-01,\n",
       "        -1.90345406e-01, -1.42180153e-01],\n",
       "       [ 1.15738693e-01, -1.65721650e-02,  1.32745154e-01,\n",
       "        -8.78638688e-02,  2.18477668e-01, -7.31972603e-01,\n",
       "         8.88396031e-01, -4.82914673e-01,  1.75863878e-01,\n",
       "         5.72383420e-01, -5.44114910e-01, -1.79363881e-02,\n",
       "        -5.12542957e-02,  6.89375423e-01,  1.76541599e-01,\n",
       "        -4.95445372e-01,  4.17977593e-01,  3.07562177e-01,\n",
       "         6.40191282e-01, -6.27028237e-02]])"
      ]
     },
     "execution_count": 413,
     "metadata": {},
     "output_type": "execute_result"
    }
   ],
   "source": [
    "clf.coef_"
   ]
  },
  {
   "cell_type": "code",
   "execution_count": 546,
   "metadata": {},
   "outputs": [],
   "source": [
    "X=df[['What is your gender?', \n",
    "       'Do you have any of the following conditions?',\n",
    "       'During the lockdown have you been doing more household work?',\n",
    "       'How often do you use masks/hand sanitizers(per day)?',\n",
    "       'Do you feel like you have wasted your time during the lock down or have you ever felt pressurized by your peer’s accomplishments during the lock down?',\n",
    "       'Do you have children less than 3 yrs, or elders 65+ at your house?',\n",
    "       'Has your sleep cycle changed drastically?',\n",
    "       'Have you felt frustrated by having your activities, major life events or opportunities affected by the virus? ',\n",
    "       'Do you have online classes/assignments/assessments/tests? ',\n",
    "       'Have you taken any medication to prevent corona(Chloroquine or kabasura kudineer) or any medication to increase your immunity?',\n",
    "       'Have you been affected by not being able to visit religious places?',\n",
    "       'Do you miss hanging out with people outside of your house?']]"
   ]
  },
  {
   "cell_type": "code",
   "execution_count": 548,
   "metadata": {},
   "outputs": [],
   "source": [
    "y=df['Over the last 2 weeks, how often have you been bothered by worrying too much about different things?']"
   ]
  },
  {
   "cell_type": "code",
   "execution_count": 549,
   "metadata": {},
   "outputs": [],
   "source": [
    "clf = LogisticRegression(random_state=0, multi_class='multinomial', solver='newton-cg')"
   ]
  },
  {
   "cell_type": "code",
   "execution_count": 550,
   "metadata": {},
   "outputs": [],
   "source": [
    "X_train,X_test,y_train,y_test=train_test_split(X,y,test_size=0.1,random_state=0,stratify=y)"
   ]
  },
  {
   "cell_type": "code",
   "execution_count": 551,
   "metadata": {},
   "outputs": [],
   "source": [
    "model=clf.fit(X_train,y_train)"
   ]
  },
  {
   "cell_type": "code",
   "execution_count": 552,
   "metadata": {},
   "outputs": [],
   "source": [
    "y_est=model.predict(X_test)"
   ]
  },
  {
   "cell_type": "code",
   "execution_count": 553,
   "metadata": {},
   "outputs": [
    {
     "data": {
      "text/plain": [
       "0.5227272727272727"
      ]
     },
     "execution_count": 553,
     "metadata": {},
     "output_type": "execute_result"
    }
   ],
   "source": [
    "accuracy_score(y_test, y_est)"
   ]
  },
  {
   "cell_type": "code",
   "execution_count": 554,
   "metadata": {},
   "outputs": [],
   "source": [
    "X=df[['What is your gender?', \n",
    "       'Do you have any of the following conditions?',\n",
    "       'During the lockdown have you been doing more household work?',\n",
    "       'How often do you use masks/hand sanitizers(per day)?',\n",
    "       'Do you feel like you have wasted your time during the lock down or have you ever felt pressurized by your peer’s accomplishments during the lock down?',\n",
    "       'Do you have children less than 3 yrs, or elders 65+ at your house?',\n",
    "       'Has your sleep cycle changed drastically?',\n",
    "       'Have you felt frustrated by having your activities, major life events or opportunities affected by the virus? ',\n",
    "       'Do you have online classes/assignments/assessments/tests? ',\n",
    "       'Have you taken any medication to prevent corona(Chloroquine or kabasura kudineer) or any medication to increase your immunity?',\n",
    "       'Have you been affected by not being able to visit religious places?',\n",
    "       'Do you miss hanging out with people outside of your house?']]"
   ]
  },
  {
   "cell_type": "code",
   "execution_count": 555,
   "metadata": {},
   "outputs": [],
   "source": [
    "y=df['Over the last 2 weeks, how often have you been bothered by worrying too much about different things?']"
   ]
  },
  {
   "cell_type": "code",
   "execution_count": 556,
   "metadata": {},
   "outputs": [],
   "source": [
    "clf = LogisticRegression(random_state=0, multi_class='multinomial', solver='newton-cg')"
   ]
  },
  {
   "cell_type": "code",
   "execution_count": 557,
   "metadata": {},
   "outputs": [],
   "source": [
    "X_train,X_test,y_train,y_test=train_test_split(X,y,test_size=0.1,random_state=0,stratify=y)"
   ]
  },
  {
   "cell_type": "code",
   "execution_count": 558,
   "metadata": {},
   "outputs": [],
   "source": [
    "model=clf.fit(X_train,y_train)"
   ]
  },
  {
   "cell_type": "code",
   "execution_count": 559,
   "metadata": {},
   "outputs": [],
   "source": [
    "y_est=model.predict(X_test)"
   ]
  },
  {
   "cell_type": "code",
   "execution_count": 560,
   "metadata": {},
   "outputs": [
    {
     "data": {
      "text/plain": [
       "0.5227272727272727"
      ]
     },
     "execution_count": 560,
     "metadata": {},
     "output_type": "execute_result"
    }
   ],
   "source": [
    "accuracy_score(y_test, y_est)"
   ]
  },
  {
   "cell_type": "code",
   "execution_count": 561,
   "metadata": {},
   "outputs": [],
   "source": [
    "y=df['Over the last 2 weeks, how often have you been bothered by trouble relaxing?']"
   ]
  },
  {
   "cell_type": "code",
   "execution_count": 562,
   "metadata": {},
   "outputs": [],
   "source": [
    "X_train,X_test,y_train,y_test=train_test_split(X,y,test_size=0.1,random_state=0,stratify=y)"
   ]
  },
  {
   "cell_type": "code",
   "execution_count": 563,
   "metadata": {},
   "outputs": [],
   "source": [
    "model=clf.fit(X_train,y_train)"
   ]
  },
  {
   "cell_type": "code",
   "execution_count": 564,
   "metadata": {},
   "outputs": [],
   "source": [
    "y_est=model.predict(X_test)"
   ]
  },
  {
   "cell_type": "code",
   "execution_count": 565,
   "metadata": {},
   "outputs": [
    {
     "data": {
      "text/plain": [
       "0.6363636363636364"
      ]
     },
     "execution_count": 565,
     "metadata": {},
     "output_type": "execute_result"
    }
   ],
   "source": [
    "accuracy_score(y_test, y_est)"
   ]
  },
  {
   "cell_type": "code",
   "execution_count": 566,
   "metadata": {},
   "outputs": [],
   "source": [
    "y=df['Over the last 2 weeks, how often have you been bothered by becoming easily an0yed or irritable?']"
   ]
  },
  {
   "cell_type": "code",
   "execution_count": 567,
   "metadata": {},
   "outputs": [],
   "source": [
    "X_train,X_test,y_train,y_test=train_test_split(X,y,test_size=0.1,random_state=0,stratify=y)"
   ]
  },
  {
   "cell_type": "code",
   "execution_count": 568,
   "metadata": {},
   "outputs": [],
   "source": [
    "model=clf.fit(X_train,y_train)\n",
    "y_est=model.predict(X_test)"
   ]
  },
  {
   "cell_type": "code",
   "execution_count": 569,
   "metadata": {},
   "outputs": [
    {
     "data": {
      "text/plain": [
       "0.38636363636363635"
      ]
     },
     "execution_count": 569,
     "metadata": {},
     "output_type": "execute_result"
    }
   ],
   "source": [
    "accuracy_score(y_test, y_est)"
   ]
  },
  {
   "cell_type": "code",
   "execution_count": 570,
   "metadata": {},
   "outputs": [],
   "source": [
    "y=df['Over the last 2 weeks, how often have you been bothered by feeling afraid as if something awful might happen?']"
   ]
  },
  {
   "cell_type": "code",
   "execution_count": 571,
   "metadata": {},
   "outputs": [
    {
     "data": {
      "text/plain": [
       "0.4772727272727273"
      ]
     },
     "execution_count": 571,
     "metadata": {},
     "output_type": "execute_result"
    }
   ],
   "source": [
    "X_train,X_test,y_train,y_test=train_test_split(X,y,test_size=0.1,random_state=0,stratify=y)\n",
    "model=clf.fit(X_train,y_train)\n",
    "y_est=model.predict(X_test)\n",
    "accuracy_score(y_test, y_est)"
   ]
  },
  {
   "cell_type": "code",
   "execution_count": 573,
   "metadata": {},
   "outputs": [],
   "source": [
    "df=df.loc[df['Level Of Anxiety ']!=3]"
   ]
  },
  {
   "cell_type": "code",
   "execution_count": 574,
   "metadata": {},
   "outputs": [],
   "source": [
    "X=df[['What is your gender?', \n",
    "       'Do you have any of the following conditions?',\n",
    "       'During the lockdown have you been doing more household work?',\n",
    "       'How often do you use masks/hand sanitizers(per day)?',\n",
    "       'Do you feel like you have wasted your time during the lock down or have you ever felt pressurized by your peer’s accomplishments during the lock down?',\n",
    "       'Do you have children less than 3 yrs, or elders 65+ at your house?',\n",
    "       'Has your sleep cycle changed drastically?',\n",
    "       'Have you felt frustrated by having your activities, major life events or opportunities affected by the virus? ',\n",
    "       'Do you have online classes/assignments/assessments/tests? ',\n",
    "       'Have you taken any medication to prevent corona(Chloroquine or kabasura kudineer) or any medication to increase your immunity?',\n",
    "       'Have you been affected by not being able to visit religious places?',\n",
    "       'Do you miss hanging out with people outside of your house?']]"
   ]
  },
  {
   "cell_type": "code",
   "execution_count": null,
   "metadata": {},
   "outputs": [],
   "source": []
  }
 ],
 "metadata": {
  "kernelspec": {
   "display_name": "Python 3",
   "language": "python",
   "name": "python3"
  },
  "language_info": {
   "codemirror_mode": {
    "name": "ipython",
    "version": 3
   },
   "file_extension": ".py",
   "mimetype": "text/x-python",
   "name": "python",
   "nbconvert_exporter": "python",
   "pygments_lexer": "ipython3",
   "version": "3.8.2"
  }
 },
 "nbformat": 4,
 "nbformat_minor": 4
}

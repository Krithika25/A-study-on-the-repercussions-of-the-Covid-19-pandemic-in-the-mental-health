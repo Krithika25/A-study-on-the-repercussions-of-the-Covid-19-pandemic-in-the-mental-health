{
 "cells": [
  {
   "cell_type": "code",
   "execution_count": 1,
   "metadata": {},
   "outputs": [],
   "source": [
    "import pandas as pd\n",
    "import matplotlib.pyplot as plt\n",
    "import numpy as np\n",
    "from sklearn.model_selection import train_test_split\n",
    "from sklearn.ensemble import RandomForestRegressor\n",
    "from sklearn.ensemble import RandomForestClassifier"
   ]
  },
  {
   "cell_type": "code",
   "execution_count": 193,
   "metadata": {},
   "outputs": [
    {
     "data": {
      "text/html": [
       "<div>\n",
       "<style scoped>\n",
       "    .dataframe tbody tr th:only-of-type {\n",
       "        vertical-align: middle;\n",
       "    }\n",
       "\n",
       "    .dataframe tbody tr th {\n",
       "        vertical-align: top;\n",
       "    }\n",
       "\n",
       "    .dataframe thead th {\n",
       "        text-align: right;\n",
       "    }\n",
       "</style>\n",
       "<table border=\"1\" class=\"dataframe\">\n",
       "  <thead>\n",
       "    <tr style=\"text-align: right;\">\n",
       "      <th></th>\n",
       "      <th>Timestamp</th>\n",
       "      <th>Which age group you belong to?</th>\n",
       "      <th>Location(From which state you are?)</th>\n",
       "      <th>Is it difficult to get essentials(food/medicine)?</th>\n",
       "      <th>What is your gender?</th>\n",
       "      <th>How you ever felt symptoms of COVID?</th>\n",
       "      <th>Do you have any of the following conditions?</th>\n",
       "      <th>During the lockdown have you been doing more household work?</th>\n",
       "      <th>Have you or anyone you know have corona virus/recovered from COVID/been tested for COVID?</th>\n",
       "      <th>How often do you use masks/hand sanitizers(per day)?</th>\n",
       "      <th>...</th>\n",
       "      <th>Isolation</th>\n",
       "      <th>Economy</th>\n",
       "      <th>Career</th>\n",
       "      <th>Restlessness</th>\n",
       "      <th>Lockdown</th>\n",
       "      <th>Precautious</th>\n",
       "      <th>Frustration</th>\n",
       "      <th>Anxiety Numerical</th>\n",
       "      <th>Anxiety Level</th>\n",
       "      <th>Level Of Anxiety</th>\n",
       "    </tr>\n",
       "  </thead>\n",
       "  <tbody>\n",
       "    <tr>\n",
       "      <th>0</th>\n",
       "      <td>6/19/2020 13:39:56</td>\n",
       "      <td>18-25</td>\n",
       "      <td>Tamilnadu</td>\n",
       "      <td>0</td>\n",
       "      <td>1</td>\n",
       "      <td>0</td>\n",
       "      <td>0</td>\n",
       "      <td>1</td>\n",
       "      <td>1</td>\n",
       "      <td>0</td>\n",
       "      <td>...</td>\n",
       "      <td>1</td>\n",
       "      <td>0</td>\n",
       "      <td>0</td>\n",
       "      <td>2</td>\n",
       "      <td>1</td>\n",
       "      <td>3</td>\n",
       "      <td>1</td>\n",
       "      <td>8</td>\n",
       "      <td>1</td>\n",
       "      <td>0 anxiety</td>\n",
       "    </tr>\n",
       "    <tr>\n",
       "      <th>1</th>\n",
       "      <td>6/19/2020 13:40:56</td>\n",
       "      <td>18-25</td>\n",
       "      <td>Tamilnadu</td>\n",
       "      <td>0</td>\n",
       "      <td>1</td>\n",
       "      <td>0</td>\n",
       "      <td>0</td>\n",
       "      <td>0</td>\n",
       "      <td>0</td>\n",
       "      <td>0</td>\n",
       "      <td>...</td>\n",
       "      <td>1</td>\n",
       "      <td>0</td>\n",
       "      <td>0</td>\n",
       "      <td>2</td>\n",
       "      <td>1</td>\n",
       "      <td>2</td>\n",
       "      <td>1</td>\n",
       "      <td>7</td>\n",
       "      <td>1</td>\n",
       "      <td>mild anxiety</td>\n",
       "    </tr>\n",
       "    <tr>\n",
       "      <th>2</th>\n",
       "      <td>6/19/2020 13:42:23</td>\n",
       "      <td>18-25</td>\n",
       "      <td>Tamilnadu</td>\n",
       "      <td>0</td>\n",
       "      <td>1</td>\n",
       "      <td>0</td>\n",
       "      <td>0</td>\n",
       "      <td>1</td>\n",
       "      <td>0</td>\n",
       "      <td>0</td>\n",
       "      <td>...</td>\n",
       "      <td>2</td>\n",
       "      <td>0</td>\n",
       "      <td>1</td>\n",
       "      <td>3</td>\n",
       "      <td>2</td>\n",
       "      <td>2</td>\n",
       "      <td>2</td>\n",
       "      <td>12</td>\n",
       "      <td>2</td>\n",
       "      <td>moderate anxiety</td>\n",
       "    </tr>\n",
       "    <tr>\n",
       "      <th>3</th>\n",
       "      <td>6/19/2020 13:51:36</td>\n",
       "      <td>18-25</td>\n",
       "      <td>Tamilnadu</td>\n",
       "      <td>0</td>\n",
       "      <td>0</td>\n",
       "      <td>0</td>\n",
       "      <td>0</td>\n",
       "      <td>0</td>\n",
       "      <td>1</td>\n",
       "      <td>1</td>\n",
       "      <td>...</td>\n",
       "      <td>1</td>\n",
       "      <td>2</td>\n",
       "      <td>1</td>\n",
       "      <td>1</td>\n",
       "      <td>1</td>\n",
       "      <td>2</td>\n",
       "      <td>1</td>\n",
       "      <td>9</td>\n",
       "      <td>1</td>\n",
       "      <td>0 anxiety</td>\n",
       "    </tr>\n",
       "    <tr>\n",
       "      <th>4</th>\n",
       "      <td>6/19/2020 13:51:45</td>\n",
       "      <td>18-25</td>\n",
       "      <td>Tamilnadu</td>\n",
       "      <td>0</td>\n",
       "      <td>1</td>\n",
       "      <td>0</td>\n",
       "      <td>0</td>\n",
       "      <td>0</td>\n",
       "      <td>1</td>\n",
       "      <td>1</td>\n",
       "      <td>...</td>\n",
       "      <td>1</td>\n",
       "      <td>0</td>\n",
       "      <td>1</td>\n",
       "      <td>1</td>\n",
       "      <td>1</td>\n",
       "      <td>3</td>\n",
       "      <td>2</td>\n",
       "      <td>9</td>\n",
       "      <td>1</td>\n",
       "      <td>0 anxiety</td>\n",
       "    </tr>\n",
       "  </tbody>\n",
       "</table>\n",
       "<p>5 rows × 37 columns</p>\n",
       "</div>"
      ],
      "text/plain": [
       "            Timestamp Which age group you belong to?  \\\n",
       "0  6/19/2020 13:39:56                          18-25   \n",
       "1  6/19/2020 13:40:56                          18-25   \n",
       "2  6/19/2020 13:42:23                          18-25   \n",
       "3  6/19/2020 13:51:36                          18-25   \n",
       "4  6/19/2020 13:51:45                          18-25   \n",
       "\n",
       "  Location(From which state you are?)  \\\n",
       "0                           Tamilnadu   \n",
       "1                           Tamilnadu   \n",
       "2                           Tamilnadu   \n",
       "3                           Tamilnadu   \n",
       "4                           Tamilnadu   \n",
       "\n",
       "   Is it difficult to get essentials(food/medicine)? What is your gender?  \\\n",
       "0                                                  0                    1   \n",
       "1                                                  0                    1   \n",
       "2                                                  0                    1   \n",
       "3                                                  0                    0   \n",
       "4                                                  0                    1   \n",
       "\n",
       "   How you ever felt symptoms of COVID?  \\\n",
       "0                                     0   \n",
       "1                                     0   \n",
       "2                                     0   \n",
       "3                                     0   \n",
       "4                                     0   \n",
       "\n",
       "   Do you have any of the following conditions?  \\\n",
       "0                                             0   \n",
       "1                                             0   \n",
       "2                                             0   \n",
       "3                                             0   \n",
       "4                                             0   \n",
       "\n",
       "   During the lockdown have you been doing more household work?  \\\n",
       "0                                                  1              \n",
       "1                                                  0              \n",
       "2                                                  1              \n",
       "3                                                  0              \n",
       "4                                                  0              \n",
       "\n",
       "   Have you or anyone you know have corona virus/recovered from COVID/been tested for COVID?  \\\n",
       "0                                                  1                                           \n",
       "1                                                  0                                           \n",
       "2                                                  0                                           \n",
       "3                                                  1                                           \n",
       "4                                                  1                                           \n",
       "\n",
       "   How often do you use masks/hand sanitizers(per day)?  ...  Isolation  \\\n",
       "0                                                  0     ...          1   \n",
       "1                                                  0     ...          1   \n",
       "2                                                  0     ...          2   \n",
       "3                                                  1     ...          1   \n",
       "4                                                  1     ...          1   \n",
       "\n",
       "   Economy  Career  Restlessness  Lockdown  Precautious  Frustration  \\\n",
       "0        0       0             2         1            3            1   \n",
       "1        0       0             2         1            2            1   \n",
       "2        0       1             3         2            2            2   \n",
       "3        2       1             1         1            2            1   \n",
       "4        0       1             1         1            3            2   \n",
       "\n",
       "   Anxiety Numerical  Anxiety Level  Level Of Anxiety  \n",
       "0                  8              1         0 anxiety  \n",
       "1                  7              1      mild anxiety  \n",
       "2                 12              2  moderate anxiety  \n",
       "3                  9              1         0 anxiety  \n",
       "4                  9              1         0 anxiety  \n",
       "\n",
       "[5 rows x 37 columns]"
      ]
     },
     "execution_count": 193,
     "metadata": {},
     "output_type": "execute_result"
    }
   ],
   "source": [
    "df=pd.read_excel('./../myproj/Survey_final.xlsx')\n",
    "df.head()"
   ]
  },
  {
   "cell_type": "code",
   "execution_count": 199,
   "metadata": {},
   "outputs": [],
   "source": [
    "X=df[['Is it difficult to get essentials(food/medicine)?',\n",
    "      'During the lockdown have you been doing more household work?',\n",
    "      'Do you feel like you have wasted your time during the lock down or have you ever felt pressurized by your peer’s accomplishments during the lock down?',\n",
    "       'Are you in a containment zone?',\n",
    "       'Are you stuck somewhere alone without support from friends or family?',\n",
    "      'Have you ever felt afraid or anxious to go to hospital during this pandemic?',\n",
    "       'Has your sleep cycle changed drastically?',\n",
    "       'Have you felt frustrated by having your activities, major life events or opportunities affected by the virus?',\n",
    "       'Do you have online classes/assignments/assessments/tests?',\n",
    "       'Did you face a pay cut/job loss/take another job to cover expenses?',\n",
    "       'How often do you leave your house?(per week)',\n",
    "      'Have you been affected by not being able to visit religious places?',\n",
    "       'Do you miss hanging out with people outside of your house?',\n",
    "      ]]"
   ]
  },
  {
   "cell_type": "code",
   "execution_count": 200,
   "metadata": {},
   "outputs": [],
   "source": [
    "y=df['Anxiety Level']"
   ]
  },
  {
   "cell_type": "code",
   "execution_count": 201,
   "metadata": {},
   "outputs": [],
   "source": [
    "X_train,X_test,y_train,y_test=train_test_split(X,y,test_size=0.3)"
   ]
  },
  {
   "cell_type": "code",
   "execution_count": 202,
   "metadata": {},
   "outputs": [
    {
     "data": {
      "text/plain": [
       "RandomForestClassifier(bootstrap=True, ccp_alpha=0.0, class_weight=None,\n",
       "                       criterion='gini', max_depth=None, max_features='auto',\n",
       "                       max_leaf_nodes=None, max_samples=None,\n",
       "                       min_impurity_decrease=0.0, min_impurity_split=None,\n",
       "                       min_samples_leaf=1, min_samples_split=2,\n",
       "                       min_weight_fraction_leaf=0.0, n_estimators=100,\n",
       "                       n_jobs=None, oob_score=False, random_state=0, verbose=0,\n",
       "                       warm_start=False)"
      ]
     },
     "execution_count": 202,
     "metadata": {},
     "output_type": "execute_result"
    }
   ],
   "source": [
    "regressor = RandomForestClassifier(n_estimators=100,random_state = 0) \n",
    "# fit the regressor with X and Y data \n",
    "regressor.fit(X_train, y_train)"
   ]
  },
  {
   "cell_type": "code",
   "execution_count": 203,
   "metadata": {},
   "outputs": [],
   "source": [
    "y_prediction=regressor.predict(X_test)"
   ]
  },
  {
   "cell_type": "code",
   "execution_count": 204,
   "metadata": {},
   "outputs": [
    {
     "data": {
      "text/plain": [
       "0.8863636363636364"
      ]
     },
     "execution_count": 204,
     "metadata": {},
     "output_type": "execute_result"
    }
   ],
   "source": [
    "from sklearn.metrics import accuracy_score\n",
    "accuracy_score(y_test, y_prediction)"
   ]
  },
  {
   "cell_type": "code",
   "execution_count": 75,
   "metadata": {},
   "outputs": [
    {
     "data": {
      "text/plain": [
       "array([0.86956522, 0.88888889, 0.78571429])"
      ]
     },
     "execution_count": 75,
     "metadata": {},
     "output_type": "execute_result"
    }
   ],
   "source": [
    "from sklearn.metrics import recall_score\n",
    "recall_score(y_test, y_prediction,average=None)"
   ]
  },
  {
   "cell_type": "code",
   "execution_count": 76,
   "metadata": {},
   "outputs": [
    {
     "data": {
      "text/html": [
       "<div>\n",
       "<style scoped>\n",
       "    .dataframe tbody tr th:only-of-type {\n",
       "        vertical-align: middle;\n",
       "    }\n",
       "\n",
       "    .dataframe tbody tr th {\n",
       "        vertical-align: top;\n",
       "    }\n",
       "\n",
       "    .dataframe thead th {\n",
       "        text-align: right;\n",
       "    }\n",
       "</style>\n",
       "<table border=\"1\" class=\"dataframe\">\n",
       "  <thead>\n",
       "    <tr style=\"text-align: right;\">\n",
       "      <th></th>\n",
       "      <th>Timestamp</th>\n",
       "      <th>Which age group you belong to?</th>\n",
       "      <th>Location(From which state you are?)</th>\n",
       "      <th>Is it difficult to get essentials(food/medicine)?</th>\n",
       "      <th>What is your gender?</th>\n",
       "      <th>How you ever felt symptoms of COVID?</th>\n",
       "      <th>Do you have any of the following conditions?</th>\n",
       "      <th>During the lockdown have you been doing more household work?</th>\n",
       "      <th>Have you or anyone you know have corona virus/recovered from COVID/been tested for COVID?</th>\n",
       "      <th>How often do you use masks/hand sanitizers(per day)?</th>\n",
       "      <th>...</th>\n",
       "      <th>Immunity</th>\n",
       "      <th>Isolation</th>\n",
       "      <th>Economy</th>\n",
       "      <th>Career</th>\n",
       "      <th>Restlessness</th>\n",
       "      <th>Lockdown</th>\n",
       "      <th>Precautious</th>\n",
       "      <th>Frustration</th>\n",
       "      <th>Anxiety Numerical</th>\n",
       "      <th>Anxiety Level</th>\n",
       "    </tr>\n",
       "  </thead>\n",
       "  <tbody>\n",
       "    <tr>\n",
       "      <th>0</th>\n",
       "      <td>6/19/2020 13:39:56</td>\n",
       "      <td>18-25</td>\n",
       "      <td>Tamilnadu</td>\n",
       "      <td>0</td>\n",
       "      <td>1</td>\n",
       "      <td>0</td>\n",
       "      <td>0</td>\n",
       "      <td>1</td>\n",
       "      <td>1</td>\n",
       "      <td>0</td>\n",
       "      <td>...</td>\n",
       "      <td>1</td>\n",
       "      <td>1</td>\n",
       "      <td>0</td>\n",
       "      <td>0</td>\n",
       "      <td>2</td>\n",
       "      <td>1</td>\n",
       "      <td>3</td>\n",
       "      <td>1</td>\n",
       "      <td>8</td>\n",
       "      <td>1</td>\n",
       "    </tr>\n",
       "    <tr>\n",
       "      <th>1</th>\n",
       "      <td>6/19/2020 13:40:56</td>\n",
       "      <td>18-25</td>\n",
       "      <td>Tamilnadu</td>\n",
       "      <td>0</td>\n",
       "      <td>1</td>\n",
       "      <td>0</td>\n",
       "      <td>0</td>\n",
       "      <td>0</td>\n",
       "      <td>0</td>\n",
       "      <td>0</td>\n",
       "      <td>...</td>\n",
       "      <td>0</td>\n",
       "      <td>1</td>\n",
       "      <td>0</td>\n",
       "      <td>0</td>\n",
       "      <td>2</td>\n",
       "      <td>1</td>\n",
       "      <td>2</td>\n",
       "      <td>1</td>\n",
       "      <td>7</td>\n",
       "      <td>1</td>\n",
       "    </tr>\n",
       "    <tr>\n",
       "      <th>2</th>\n",
       "      <td>6/19/2020 13:42:23</td>\n",
       "      <td>18-25</td>\n",
       "      <td>Tamilnadu</td>\n",
       "      <td>0</td>\n",
       "      <td>1</td>\n",
       "      <td>0</td>\n",
       "      <td>0</td>\n",
       "      <td>1</td>\n",
       "      <td>0</td>\n",
       "      <td>0</td>\n",
       "      <td>...</td>\n",
       "      <td>1</td>\n",
       "      <td>2</td>\n",
       "      <td>0</td>\n",
       "      <td>1</td>\n",
       "      <td>3</td>\n",
       "      <td>2</td>\n",
       "      <td>2</td>\n",
       "      <td>2</td>\n",
       "      <td>12</td>\n",
       "      <td>2</td>\n",
       "    </tr>\n",
       "    <tr>\n",
       "      <th>3</th>\n",
       "      <td>6/19/2020 13:51:36</td>\n",
       "      <td>18-25</td>\n",
       "      <td>Tamilnadu</td>\n",
       "      <td>0</td>\n",
       "      <td>0</td>\n",
       "      <td>0</td>\n",
       "      <td>0</td>\n",
       "      <td>0</td>\n",
       "      <td>1</td>\n",
       "      <td>1</td>\n",
       "      <td>...</td>\n",
       "      <td>1</td>\n",
       "      <td>1</td>\n",
       "      <td>2</td>\n",
       "      <td>1</td>\n",
       "      <td>1</td>\n",
       "      <td>1</td>\n",
       "      <td>2</td>\n",
       "      <td>1</td>\n",
       "      <td>9</td>\n",
       "      <td>1</td>\n",
       "    </tr>\n",
       "    <tr>\n",
       "      <th>4</th>\n",
       "      <td>6/19/2020 13:51:45</td>\n",
       "      <td>18-25</td>\n",
       "      <td>Tamilnadu</td>\n",
       "      <td>0</td>\n",
       "      <td>1</td>\n",
       "      <td>0</td>\n",
       "      <td>0</td>\n",
       "      <td>0</td>\n",
       "      <td>1</td>\n",
       "      <td>1</td>\n",
       "      <td>...</td>\n",
       "      <td>1</td>\n",
       "      <td>1</td>\n",
       "      <td>0</td>\n",
       "      <td>1</td>\n",
       "      <td>1</td>\n",
       "      <td>1</td>\n",
       "      <td>3</td>\n",
       "      <td>2</td>\n",
       "      <td>9</td>\n",
       "      <td>1</td>\n",
       "    </tr>\n",
       "  </tbody>\n",
       "</table>\n",
       "<p>5 rows × 36 columns</p>\n",
       "</div>"
      ],
      "text/plain": [
       "            Timestamp Which age group you belong to?  \\\n",
       "0  6/19/2020 13:39:56                          18-25   \n",
       "1  6/19/2020 13:40:56                          18-25   \n",
       "2  6/19/2020 13:42:23                          18-25   \n",
       "3  6/19/2020 13:51:36                          18-25   \n",
       "4  6/19/2020 13:51:45                          18-25   \n",
       "\n",
       "  Location(From which state you are?)  \\\n",
       "0                           Tamilnadu   \n",
       "1                           Tamilnadu   \n",
       "2                           Tamilnadu   \n",
       "3                           Tamilnadu   \n",
       "4                           Tamilnadu   \n",
       "\n",
       "   Is it difficult to get essentials(food/medicine)? What is your gender?  \\\n",
       "0                                                  0                    1   \n",
       "1                                                  0                    1   \n",
       "2                                                  0                    1   \n",
       "3                                                  0                    0   \n",
       "4                                                  0                    1   \n",
       "\n",
       "   How you ever felt symptoms of COVID?  \\\n",
       "0                                     0   \n",
       "1                                     0   \n",
       "2                                     0   \n",
       "3                                     0   \n",
       "4                                     0   \n",
       "\n",
       "   Do you have any of the following conditions?  \\\n",
       "0                                             0   \n",
       "1                                             0   \n",
       "2                                             0   \n",
       "3                                             0   \n",
       "4                                             0   \n",
       "\n",
       "   During the lockdown have you been doing more household work?  \\\n",
       "0                                                  1              \n",
       "1                                                  0              \n",
       "2                                                  1              \n",
       "3                                                  0              \n",
       "4                                                  0              \n",
       "\n",
       "   Have you or anyone you know have corona virus/recovered from COVID/been tested for COVID?  \\\n",
       "0                                                  1                                           \n",
       "1                                                  0                                           \n",
       "2                                                  0                                           \n",
       "3                                                  1                                           \n",
       "4                                                  1                                           \n",
       "\n",
       "   How often do you use masks/hand sanitizers(per day)?  ...  Immunity  \\\n",
       "0                                                  0     ...         1   \n",
       "1                                                  0     ...         0   \n",
       "2                                                  0     ...         1   \n",
       "3                                                  1     ...         1   \n",
       "4                                                  1     ...         1   \n",
       "\n",
       "   Isolation  Economy  Career  Restlessness  Lockdown  Precautious  \\\n",
       "0          1        0       0             2         1            3   \n",
       "1          1        0       0             2         1            2   \n",
       "2          2        0       1             3         2            2   \n",
       "3          1        2       1             1         1            2   \n",
       "4          1        0       1             1         1            3   \n",
       "\n",
       "   Frustration  Anxiety Numerical  Anxiety Level  \n",
       "0            1                  8              1  \n",
       "1            1                  7              1  \n",
       "2            2                 12              2  \n",
       "3            1                  9              1  \n",
       "4            2                  9              1  \n",
       "\n",
       "[5 rows x 36 columns]"
      ]
     },
     "execution_count": 76,
     "metadata": {},
     "output_type": "execute_result"
    }
   ],
   "source": [
    "df=pd.read_excel('./../myproj/Survey_final.xlsx')\n",
    "df.head()"
   ]
  },
  {
   "cell_type": "code",
   "execution_count": 79,
   "metadata": {},
   "outputs": [
    {
     "data": {
      "text/plain": [
       "Index(['Timestamp', 'Which age group you belong to?',\n",
       "       'Location(From which state you are?)',\n",
       "       'Is it difficult to get essentials(food/medicine)?',\n",
       "       'What is your gender?', 'How you ever felt symptoms of COVID?',\n",
       "       'Do you have any of the following conditions?',\n",
       "       'During the lockdown have you been doing more household work?',\n",
       "       'Have you or anyone you know have corona virus/recovered from COVID/been tested for COVID?',\n",
       "       'How often do you use masks/hand sanitizers(per day)?',\n",
       "       'Do you feel like you have wasted your time during the lock down or have you ever felt pressurized by your peer’s accomplishments during the lock down?',\n",
       "       'How often do you eat outside food? (per week)',\n",
       "       'Are you in a containment zone?',\n",
       "       'Are you stuck somewhere alone without support from friends or family?',\n",
       "       'Do you have children less than 3 yrs, or elders 65+ at your house?',\n",
       "       'Have you ever felt afraid or anxious to go to hospital during this pandemic?',\n",
       "       'Has your sleep cycle changed drastically?',\n",
       "       'Have you felt frustrated by having your activities, major life events or opportunities affected by the virus?',\n",
       "       'Is someone from your family in the medical field everyday?',\n",
       "       'Do you have online classes/assignments/assessments/tests?',\n",
       "       'Did you face a pay cut/job loss/take another job to cover expenses?',\n",
       "       'How often do you leave your house?(per week)',\n",
       "       'How often do you interact with people outside your house(friends,neighbors etc.,)?',\n",
       "       'Have you taken any medication to prevent corona(Chloroquine or kabasura kudineer) or any medication to increase your immunity?',\n",
       "       'Have you been affected by not being able to visit religious places?',\n",
       "       'Do you miss hanging out with people outside of your house?',\n",
       "       'Immunity', 'Isolation', 'Economy', 'Career', 'Restlessness',\n",
       "       'Lockdown', 'Precautious', 'Frustration', 'Anxiety Numerical',\n",
       "       'Anxiety Level'],\n",
       "      dtype='object')"
      ]
     },
     "execution_count": 79,
     "metadata": {},
     "output_type": "execute_result"
    }
   ],
   "source": [
    "df.columns"
   ]
  },
  {
   "cell_type": "code",
   "execution_count": 81,
   "metadata": {},
   "outputs": [],
   "source": [
    "X=df[[ 'Is it difficult to get essentials(food/medicine)?',\n",
    "       'During the lockdown have you been doing more household work?',\n",
    "       'How often do you use masks/hand sanitizers(per day)?',\n",
    "       'Do you feel like you have wasted your time during the lock down or have you ever felt pressurized by your peer’s accomplishments during the lock down?',\n",
    "       'Are you in a containment zone?',\n",
    "       'Are you stuck somewhere alone without support from friends or family?',\n",
    "       'Have you ever felt afraid or anxious to go to hospital during this pandemic?',\n",
    "       'Has your sleep cycle changed drastically?',\n",
    "       'Have you felt frustrated by having your activities, major life events or opportunities affected by the virus?',\n",
    "       'Do you have online classes/assignments/assessments/tests?',\n",
    "       'Did you face a pay cut/job loss/take another job to cover expenses?',\n",
    "       'How often do you leave your house?(per week)',\n",
    "       'Have you taken any medication to prevent corona(Chloroquine or kabasura kudineer) or any medication to increase your immunity?',\n",
    "       'Have you been affected by not being able to visit religious places?',\n",
    "       'Do you miss hanging out with people outside of your house?',\n",
    "     ]]"
   ]
  },
  {
   "cell_type": "code",
   "execution_count": 82,
   "metadata": {},
   "outputs": [],
   "source": [
    "y=df['Anxiety Level']"
   ]
  },
  {
   "cell_type": "code",
   "execution_count": 188,
   "metadata": {},
   "outputs": [],
   "source": [
    "X_train,X_test,y_train,y_test=train_test_split(X,y,test_size=0.25)"
   ]
  },
  {
   "cell_type": "code",
   "execution_count": 189,
   "metadata": {},
   "outputs": [
    {
     "data": {
      "text/plain": [
       "RandomForestClassifier(bootstrap=True, ccp_alpha=0.0, class_weight=None,\n",
       "                       criterion='gini', max_depth=None, max_features='auto',\n",
       "                       max_leaf_nodes=None, max_samples=None,\n",
       "                       min_impurity_decrease=0.0, min_impurity_split=None,\n",
       "                       min_samples_leaf=1, min_samples_split=2,\n",
       "                       min_weight_fraction_leaf=0.0, n_estimators=100,\n",
       "                       n_jobs=None, oob_score=False, random_state=0, verbose=0,\n",
       "                       warm_start=False)"
      ]
     },
     "execution_count": 189,
     "metadata": {},
     "output_type": "execute_result"
    }
   ],
   "source": [
    "regressor = RandomForestClassifier(n_estimators=100,random_state = 0) \n",
    "# fit the regressor with X and Y data \n",
    "regressor.fit(X_train, y_train)"
   ]
  },
  {
   "cell_type": "code",
   "execution_count": 190,
   "metadata": {},
   "outputs": [],
   "source": [
    "y_prediction=regressor.predict(X_test)"
   ]
  },
  {
   "cell_type": "code",
   "execution_count": 191,
   "metadata": {},
   "outputs": [
    {
     "data": {
      "text/plain": [
       "0.8636363636363636"
      ]
     },
     "execution_count": 191,
     "metadata": {},
     "output_type": "execute_result"
    }
   ],
   "source": [
    "from sklearn.metrics import accuracy_score\n",
    "accuracy_score(y_test, y_prediction)"
   ]
  },
  {
   "cell_type": "code",
   "execution_count": 192,
   "metadata": {},
   "outputs": [
    {
     "data": {
      "text/plain": [
       "array([0.66666667, 0.76595745, 0.94444444, 1.        ])"
      ]
     },
     "execution_count": 192,
     "metadata": {},
     "output_type": "execute_result"
    }
   ],
   "source": [
    "from sklearn.metrics import recall_score\n",
    "recall_score(y_test, y_prediction,average=None)"
   ]
  },
  {
   "cell_type": "code",
   "execution_count": 196,
   "metadata": {},
   "outputs": [
    {
     "data": {
      "text/plain": [
       "Index(['Timestamp', 'Which age group you belong to?',\n",
       "       'Location(From which state you are?)',\n",
       "       'Is it difficult to get essentials(food/medicine)?',\n",
       "       'What is your gender?', 'How you ever felt symptoms of COVID?',\n",
       "       'Do you have any of the following conditions?',\n",
       "       'During the lockdown have you been doing more household work?',\n",
       "       'Have you or anyone you know have corona virus/recovered from COVID/been tested for COVID?',\n",
       "       'How often do you use masks/hand sanitizers(per day)?',\n",
       "       'Do you feel like you have wasted your time during the lock down or have you ever felt pressurized by your peer’s accomplishments during the lock down?',\n",
       "       'How often do you eat outside food? (per week)',\n",
       "       'Are you in a containment zone?',\n",
       "       'Are you stuck somewhere alone without support from friends or family?',\n",
       "       'Do you have children less than 3 yrs, or elders 65+ at your house?',\n",
       "       'Have you ever felt afraid or anxious to go to hospital during this pandemic?',\n",
       "       'Has your sleep cycle changed drastically?',\n",
       "       'Have you felt frustrated by having your activities, major life events or opportunities affected by the virus?',\n",
       "       'Is someone from your family in the medical field everyday?',\n",
       "       'Do you have online classes/assignments/assessments/tests?',\n",
       "       'Did you face a pay cut/job loss/take another job to cover expenses?',\n",
       "       'How often do you leave your house?(per week)',\n",
       "       'How often do you interact with people outside your house(friends,neighbors etc.,)?',\n",
       "       'Have you taken any medication to prevent corona(Chloroquine or kabasura kudineer) or any medication to increase your immunity?',\n",
       "       'Have you been affected by not being able to visit religious places?',\n",
       "       'Do you miss hanging out with people outside of your house?',\n",
       "       'Immunity', 'Isolation', 'Economy', 'Career', 'Restlessness',\n",
       "       'Lockdown', 'Precautious', 'Frustration', 'Anxiety Numerical',\n",
       "       'Anxiety Level', 'Level Of Anxiety'],\n",
       "      dtype='object')"
      ]
     },
     "execution_count": 196,
     "metadata": {},
     "output_type": "execute_result"
    }
   ],
   "source": [
    "df.columns"
   ]
  },
  {
   "cell_type": "code",
   "execution_count": 219,
   "metadata": {},
   "outputs": [],
   "source": [
    "y2=df[['Anxiety Level']]\n",
    "y1=df['Level Of Anxiety']\n",
    "y1_train,y1_test,y_train,y_test=train_test_split(y2,y1,test_size=0.5)"
   ]
  },
  {
   "cell_type": "code",
   "execution_count": 220,
   "metadata": {},
   "outputs": [
    {
     "data": {
      "text/plain": [
       "RandomForestClassifier(bootstrap=True, ccp_alpha=0.0, class_weight=None,\n",
       "                       criterion='gini', max_depth=None, max_features='auto',\n",
       "                       max_leaf_nodes=None, max_samples=None,\n",
       "                       min_impurity_decrease=0.0, min_impurity_split=None,\n",
       "                       min_samples_leaf=1, min_samples_split=2,\n",
       "                       min_weight_fraction_leaf=0.0, n_estimators=100,\n",
       "                       n_jobs=None, oob_score=False, random_state=0, verbose=0,\n",
       "                       warm_start=False)"
      ]
     },
     "execution_count": 220,
     "metadata": {},
     "output_type": "execute_result"
    }
   ],
   "source": [
    "reggad=RandomForestClassifier(n_estimators=100,random_state = 0) \n",
    "# fit the regressor with X and Y data \n",
    "reggad.fit(y1_train, y_train)"
   ]
  },
  {
   "cell_type": "code",
   "execution_count": 221,
   "metadata": {},
   "outputs": [],
   "source": [
    "y_prediction=reggad.predict(y1_test)"
   ]
  },
  {
   "cell_type": "code",
   "execution_count": 222,
   "metadata": {},
   "outputs": [
    {
     "data": {
      "text/plain": [
       "0.4681818181818182"
      ]
     },
     "execution_count": 222,
     "metadata": {},
     "output_type": "execute_result"
    }
   ],
   "source": [
    "from sklearn.metrics import accuracy_score\n",
    "accuracy_score(y_test, y_prediction)"
   ]
  },
  {
   "cell_type": "code",
   "execution_count": null,
   "metadata": {},
   "outputs": [],
   "source": []
  }
 ],
 "metadata": {
  "kernelspec": {
   "display_name": "Python 3",
   "language": "python",
   "name": "python3"
  },
  "language_info": {
   "codemirror_mode": {
    "name": "ipython",
    "version": 3
   },
   "file_extension": ".py",
   "mimetype": "text/x-python",
   "name": "python",
   "nbconvert_exporter": "python",
   "pygments_lexer": "ipython3",
   "version": "3.8.2"
  }
 },
 "nbformat": 4,
 "nbformat_minor": 4
}

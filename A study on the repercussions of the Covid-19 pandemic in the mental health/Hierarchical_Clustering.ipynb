{
 "cells": [
  {
   "cell_type": "code",
   "execution_count": 1,
   "metadata": {},
   "outputs": [],
   "source": [
    "import numpy as np\n",
    "import pandas as pd\n",
    "from sklearn.model_selection import train_test_split\n",
    "import scipy.cluster.hierarchy as shc\n",
    "import matplotlib.pyplot as plt\n",
    "import seaborn as sns\n",
    "import prince\n",
    "%matplotlib inline"
   ]
  },
  {
   "cell_type": "code",
   "execution_count": 2,
   "metadata": {},
   "outputs": [],
   "source": [
    "df=pd.read_excel('./../myproj/Survey_final_1.xlsx')"
   ]
  },
  {
   "cell_type": "code",
   "execution_count": 4,
   "metadata": {},
   "outputs": [],
   "source": [
    "X=df[['What is your gender?',\n",
    "       'During the lockdown have you been doing more household work?',\n",
    "       'Have you or anyone you know have corona virus/recovered from COVID/been tested for COVID?',\n",
    "       'How often do you use masks/hand sanitizers(per day)?',\n",
    "       'Do you feel like you have wasted your time during the lock down or have you ever felt pressurized by your peer’s accomplishments during the lock down?',\n",
    "       'Are you in a containment zone?',\n",
    "       'Do you have children less than 3 yrs, or elders 65+ at your house?',\n",
    "       'Have you ever felt afraid or anxious to go to hospital during this pandemic?',\n",
    "       'Has your sleep cycle changed drastically?',\n",
    "       'Have you felt frustrated by having your activities, major life events or opportunities affected by the virus?',\n",
    "       'Do you have online classes/assignments/assessments/tests?',\n",
    "       'Have you taken any medication to prevent corona(Chloroquine or kabasura kudineer) or any medication to increase your immunity?',\n",
    "       'Have you been affected by not being able to visit religious places?']]"
   ]
  },
  {
   "cell_type": "code",
   "execution_count": 5,
   "metadata": {},
   "outputs": [
    {
     "data": {
      "image/png": "[encoded data removed]",
      "text/plain": [
       "<Figure size 720x504 with 1 Axes>"
      ]
     },
     "metadata": {
      "needs_background": "light"
     },
     "output_type": "display_data"
    }
   ],
   "source": [
    "plt.figure(figsize=(10, 7))  \n",
    "plt.title(\"Dendrograms\")  \n",
    "dend = shc.dendrogram(shc.linkage(X, method='ward'))"
   ]
  },
  {
   "cell_type": "code",
   "execution_count": 6,
   "metadata": {},
   "outputs": [],
   "source": [
    "from sklearn.cluster import AgglomerativeClustering\n",
    "cluster = AgglomerativeClustering(n_clusters=4, affinity='euclidean', linkage='ward')  \n",
    "y_est=cluster.fit_predict(X)"
   ]
  },
  {
   "cell_type": "code",
   "execution_count": 7,
   "metadata": {},
   "outputs": [
    {
     "data": {
      "text/plain": [
       "array([0, 1, 1, 2, 2, 1, 0, 1, 2, 1, 1, 0, 0, 3, 2, 1, 2, 3, 1, 0, 1, 0,\n",
       "       0, 3, 1, 2, 1, 1, 1, 2, 1, 0, 1, 1, 3, 3, 1, 2, 2, 1, 1, 0, 1, 0,\n",
       "       1, 1, 1, 1, 1, 0, 1, 0, 1, 1, 2, 1, 1, 1, 2, 2, 1, 3, 0, 0, 1, 2,\n",
       "       3, 2, 2, 2, 3, 1, 1, 2, 1, 2, 2, 2, 2, 1, 0, 1, 1, 1, 1, 2, 0, 2,\n",
       "       3, 2, 1, 0, 1, 0, 3, 0, 1, 2, 0, 0, 0, 1, 0, 1, 1, 0, 1, 0, 2, 1,\n",
       "       0, 0, 1, 2, 0, 0, 1, 2, 0, 0, 1, 3, 1, 1, 1, 3, 1, 2, 0, 2, 1, 2,\n",
       "       0, 2, 0, 3, 1, 1, 1, 2, 2, 0, 0, 1, 2, 0, 2, 0, 0, 1, 3, 1, 0, 0,\n",
       "       0, 0, 3, 3, 0, 0, 2, 0, 0, 0, 0, 1, 1, 1, 1, 3, 0, 1, 3, 2, 1, 2,\n",
       "       3, 1, 1, 1, 0, 3, 1, 0, 1, 1, 0, 1, 0, 2, 1, 1, 1, 0, 1, 0, 2, 1,\n",
       "       1, 1, 2, 1, 1, 0, 2, 3, 0, 1, 1, 2, 0, 1, 1, 2, 1, 2, 2, 3, 0, 2,\n",
       "       0, 3, 1, 0, 2, 1, 0, 2, 2, 1, 1, 0, 0, 2, 1, 1, 3, 3, 1, 2, 1, 0,\n",
       "       1, 2, 0, 1, 2, 0, 0, 0, 1, 1, 0, 0, 3, 2, 1, 0, 3, 2, 0, 0, 0, 1,\n",
       "       1, 1, 0, 0, 2, 0, 1, 1, 2, 0, 0, 1, 1, 0, 0, 0, 2, 2, 1, 2, 2, 0,\n",
       "       1, 1, 2, 0, 0, 3, 1, 1, 2, 0, 0, 0, 1, 2, 1, 0, 2, 0, 1, 0, 2, 1,\n",
       "       1, 2, 1, 2, 0, 2, 1, 1, 1, 0, 2, 1, 1, 1, 0, 0, 0, 0, 3, 2, 1, 2,\n",
       "       0, 0, 1, 0, 1, 1, 1, 1, 0, 2, 2, 1, 1, 0, 1, 0, 1, 0, 3, 1, 0, 3,\n",
       "       3, 2, 3, 3, 1, 2, 0, 3, 1, 1, 0, 0, 3, 1, 3, 3, 0, 2, 3, 0, 2, 2,\n",
       "       1, 0, 1, 1, 2, 1, 0, 0, 2, 0, 1, 2, 2, 0, 1, 0, 2, 2, 2, 2, 1, 2,\n",
       "       2, 1, 0, 1, 1, 2, 2, 0, 0, 1, 0, 0, 0, 2, 2, 0, 3, 0, 0, 2, 0, 1,\n",
       "       1, 2, 1, 1, 2, 3, 2, 1, 3, 2, 1, 2, 2, 0, 0, 3, 3, 0, 2, 1, 1],\n",
       "      dtype=int32)"
      ]
     },
     "execution_count": 7,
     "metadata": {},
     "output_type": "execute_result"
    }
   ],
   "source": [
    "y_est"
   ]
  },
  {
   "cell_type": "code",
   "execution_count": 9,
   "metadata": {},
   "outputs": [],
   "source": [
    "y=df['Anxiety Level']"
   ]
  },
  {
   "cell_type": "code",
   "execution_count": 10,
   "metadata": {},
   "outputs": [],
   "source": [
    "y_new=[1 if x==0 else 3 if x==1 else 2 if x==2 else 0 for x in y]"
   ]
  },
  {
   "cell_type": "code",
   "execution_count": 11,
   "metadata": {},
   "outputs": [],
   "source": [
    "y_new=[0 for x in y_new if x==0 or x==1]"
   ]
  },
  {
   "cell_type": "code",
   "execution_count": 12,
   "metadata": {},
   "outputs": [
    {
     "data": {
      "text/plain": [
       "[0,\n",
       " 0,\n",
       " 0,\n",
       " 0,\n",
       " 0,\n",
       " 0,\n",
       " 0,\n",
       " 0,\n",
       " 0,\n",
       " 0,\n",
       " 0,\n",
       " 0,\n",
       " 0,\n",
       " 0,\n",
       " 0,\n",
       " 0,\n",
       " 0,\n",
       " 0,\n",
       " 0,\n",
       " 0,\n",
       " 0,\n",
       " 0,\n",
       " 0,\n",
       " 0,\n",
       " 0,\n",
       " 0,\n",
       " 0,\n",
       " 0,\n",
       " 0,\n",
       " 0,\n",
       " 0,\n",
       " 0,\n",
       " 0,\n",
       " 0,\n",
       " 0,\n",
       " 0,\n",
       " 0,\n",
       " 0,\n",
       " 0,\n",
       " 0,\n",
       " 0,\n",
       " 0,\n",
       " 0,\n",
       " 0,\n",
       " 0,\n",
       " 0,\n",
       " 0,\n",
       " 0,\n",
       " 0,\n",
       " 0,\n",
       " 0,\n",
       " 0,\n",
       " 0,\n",
       " 0,\n",
       " 0,\n",
       " 0,\n",
       " 0,\n",
       " 0,\n",
       " 0]"
      ]
     },
     "execution_count": 12,
     "metadata": {},
     "output_type": "execute_result"
    }
   ],
   "source": [
    "y_new"
   ]
  },
  {
   "cell_type": "code",
   "execution_count": 13,
   "metadata": {},
   "outputs": [
    {
     "ename": "ValueError",
     "evalue": "Found input variables with inconsistent numbers of samples: [59, 439]",
     "output_type": "error",
     "traceback": [
      "\u001b[1;31m---------------------------------------------------------------------------\u001b[0m",
      "\u001b[1;31mValueError\u001b[0m                                Traceback (most recent call last)",
      "\u001b[1;32m<ipython-input-13-2767f47acd5c>\u001b[0m in \u001b[0;36m<module>\u001b[1;34m\u001b[0m\n\u001b[0;32m      1\u001b[0m \u001b[1;32mfrom\u001b[0m \u001b[0msklearn\u001b[0m\u001b[1;33m.\u001b[0m\u001b[0mmetrics\u001b[0m \u001b[1;32mimport\u001b[0m \u001b[0maccuracy_score\u001b[0m\u001b[1;33m\u001b[0m\u001b[1;33m\u001b[0m\u001b[0m\n\u001b[1;32m----> 2\u001b[1;33m \u001b[0maccuracy_score\u001b[0m\u001b[1;33m(\u001b[0m\u001b[0my_new\u001b[0m\u001b[1;33m,\u001b[0m \u001b[0my_est\u001b[0m\u001b[1;33m)\u001b[0m\u001b[1;33m\u001b[0m\u001b[1;33m\u001b[0m\u001b[0m\n\u001b[0m",
      "\u001b[1;32mc:\\users\\admin\\appdata\\local\\programs\\python\\python38-32\\lib\\site-packages\\sklearn\\metrics\\_classification.py\u001b[0m in \u001b[0;36maccuracy_score\u001b[1;34m(y_true, y_pred, normalize, sample_weight)\u001b[0m\n\u001b[0;32m    183\u001b[0m \u001b[1;33m\u001b[0m\u001b[0m\n\u001b[0;32m    184\u001b[0m     \u001b[1;31m# Compute accuracy for each possible representation\u001b[0m\u001b[1;33m\u001b[0m\u001b[1;33m\u001b[0m\u001b[1;33m\u001b[0m\u001b[0m\n\u001b[1;32m--> 185\u001b[1;33m     \u001b[0my_type\u001b[0m\u001b[1;33m,\u001b[0m \u001b[0my_true\u001b[0m\u001b[1;33m,\u001b[0m \u001b[0my_pred\u001b[0m \u001b[1;33m=\u001b[0m \u001b[0m_check_targets\u001b[0m\u001b[1;33m(\u001b[0m\u001b[0my_true\u001b[0m\u001b[1;33m,\u001b[0m \u001b[0my_pred\u001b[0m\u001b[1;33m)\u001b[0m\u001b[1;33m\u001b[0m\u001b[1;33m\u001b[0m\u001b[0m\n\u001b[0m\u001b[0;32m    186\u001b[0m     \u001b[0mcheck_consistent_length\u001b[0m\u001b[1;33m(\u001b[0m\u001b[0my_true\u001b[0m\u001b[1;33m,\u001b[0m \u001b[0my_pred\u001b[0m\u001b[1;33m,\u001b[0m \u001b[0msample_weight\u001b[0m\u001b[1;33m)\u001b[0m\u001b[1;33m\u001b[0m\u001b[1;33m\u001b[0m\u001b[0m\n\u001b[0;32m    187\u001b[0m     \u001b[1;32mif\u001b[0m \u001b[0my_type\u001b[0m\u001b[1;33m.\u001b[0m\u001b[0mstartswith\u001b[0m\u001b[1;33m(\u001b[0m\u001b[1;34m'multilabel'\u001b[0m\u001b[1;33m)\u001b[0m\u001b[1;33m:\u001b[0m\u001b[1;33m\u001b[0m\u001b[1;33m\u001b[0m\u001b[0m\n",
      "\u001b[1;32mc:\\users\\admin\\appdata\\local\\programs\\python\\python38-32\\lib\\site-packages\\sklearn\\metrics\\_classification.py\u001b[0m in \u001b[0;36m_check_targets\u001b[1;34m(y_true, y_pred)\u001b[0m\n\u001b[0;32m     78\u001b[0m     \u001b[0my_pred\u001b[0m \u001b[1;33m:\u001b[0m \u001b[0marray\u001b[0m \u001b[1;32mor\u001b[0m \u001b[0mindicator\u001b[0m \u001b[0mmatrix\u001b[0m\u001b[1;33m\u001b[0m\u001b[1;33m\u001b[0m\u001b[0m\n\u001b[0;32m     79\u001b[0m     \"\"\"\n\u001b[1;32m---> 80\u001b[1;33m     \u001b[0mcheck_consistent_length\u001b[0m\u001b[1;33m(\u001b[0m\u001b[0my_true\u001b[0m\u001b[1;33m,\u001b[0m \u001b[0my_pred\u001b[0m\u001b[1;33m)\u001b[0m\u001b[1;33m\u001b[0m\u001b[1;33m\u001b[0m\u001b[0m\n\u001b[0m\u001b[0;32m     81\u001b[0m     \u001b[0mtype_true\u001b[0m \u001b[1;33m=\u001b[0m \u001b[0mtype_of_target\u001b[0m\u001b[1;33m(\u001b[0m\u001b[0my_true\u001b[0m\u001b[1;33m)\u001b[0m\u001b[1;33m\u001b[0m\u001b[1;33m\u001b[0m\u001b[0m\n\u001b[0;32m     82\u001b[0m     \u001b[0mtype_pred\u001b[0m \u001b[1;33m=\u001b[0m \u001b[0mtype_of_target\u001b[0m\u001b[1;33m(\u001b[0m\u001b[0my_pred\u001b[0m\u001b[1;33m)\u001b[0m\u001b[1;33m\u001b[0m\u001b[1;33m\u001b[0m\u001b[0m\n",
      "\u001b[1;32mc:\\users\\admin\\appdata\\local\\programs\\python\\python38-32\\lib\\site-packages\\sklearn\\utils\\validation.py\u001b[0m in \u001b[0;36mcheck_consistent_length\u001b[1;34m(*arrays)\u001b[0m\n\u001b[0;32m    209\u001b[0m     \u001b[0muniques\u001b[0m \u001b[1;33m=\u001b[0m \u001b[0mnp\u001b[0m\u001b[1;33m.\u001b[0m\u001b[0munique\u001b[0m\u001b[1;33m(\u001b[0m\u001b[0mlengths\u001b[0m\u001b[1;33m)\u001b[0m\u001b[1;33m\u001b[0m\u001b[1;33m\u001b[0m\u001b[0m\n\u001b[0;32m    210\u001b[0m     \u001b[1;32mif\u001b[0m \u001b[0mlen\u001b[0m\u001b[1;33m(\u001b[0m\u001b[0muniques\u001b[0m\u001b[1;33m)\u001b[0m \u001b[1;33m>\u001b[0m \u001b[1;36m1\u001b[0m\u001b[1;33m:\u001b[0m\u001b[1;33m\u001b[0m\u001b[1;33m\u001b[0m\u001b[0m\n\u001b[1;32m--> 211\u001b[1;33m         raise ValueError(\"Found input variables with inconsistent numbers of\"\n\u001b[0m\u001b[0;32m    212\u001b[0m                          \" samples: %r\" % [int(l) for l in lengths])\n\u001b[0;32m    213\u001b[0m \u001b[1;33m\u001b[0m\u001b[0m\n",
      "\u001b[1;31mValueError\u001b[0m: Found input variables with inconsistent numbers of samples: [59, 439]"
     ]
    }
   ],
   "source": [
    "from sklearn.metrics import accuracy_score\n",
    "accuracy_score(y_new, y_est)"
   ]
  },
  {
   "cell_type": "code",
   "execution_count": 14,
   "metadata": {},
   "outputs": [],
   "source": [
    "y_new=[1 if x==1 or x==2 or x==3 else 0 for x in y]"
   ]
  },
  {
   "cell_type": "code",
   "execution_count": 15,
   "metadata": {},
   "outputs": [
    {
     "data": {
      "text/plain": [
       "0.39635535307517084"
      ]
     },
     "execution_count": 15,
     "metadata": {},
     "output_type": "execute_result"
    }
   ],
   "source": [
    "from sklearn.metrics import accuracy_score\n",
    "accuracy_score(y_new, y_est)"
   ]
  },
  {
   "cell_type": "code",
   "execution_count": 7,
   "metadata": {},
   "outputs": [
    {
     "name": "stderr",
     "output_type": "stream",
     "text": [
      "<ipython-input-7-e8a2972f3a0a>:1: SettingWithCopyWarning: \n",
      "A value is trying to be set on a copy of a slice from a DataFrame.\n",
      "Try using .loc[row_indexer,col_indexer] = value instead\n",
      "\n",
      "See the caveats in the documentation: https://pandas.pydata.org/pandas-docs/stable/user_guide/indexing.html#returning-a-view-versus-a-copy\n",
      "  X['Cluster']=y_est\n"
     ]
    }
   ],
   "source": [
    "X['Cluster']=y_est"
   ]
  },
  {
   "cell_type": "code",
   "execution_count": 9,
   "metadata": {},
   "outputs": [
    {
     "data": {
      "text/plain": [
       "Index(['What is your gender?',\n",
       "       'During the lockdown have you been doing more household work?',\n",
       "       'Have you or anyone you know have corona virus/recovered from COVID/been tested for COVID? ',\n",
       "       'How often do you use masks/hand sanitizers(per day)?',\n",
       "       'Do you feel like you have wasted your time during the lock down or have you ever felt pressurized by your peer’s accomplishments during the lock down?',\n",
       "       'Are you in a containment zone? ',\n",
       "       'Do you have children less than 3 yrs, or elders 65+ at your house?',\n",
       "       'Have you ever felt afraid or anxious to go to hospital during this pandemic?',\n",
       "       'Has your sleep cycle changed drastically?',\n",
       "       'Have you felt frustrated by having your activities, major life events or opportunities affected by the virus? ',\n",
       "       'Do you have online classes/assignments/assessments/tests? ',\n",
       "       'Have you taken any medication to prevent corona(Chloroquine or kabasura kudineer) or any medication to increase your immunity?',\n",
       "       'Have you been affected by not being able to visit religious places?',\n",
       "       'Cluster'],\n",
       "      dtype='object')"
      ]
     },
     "execution_count": 9,
     "metadata": {},
     "output_type": "execute_result"
    }
   ],
   "source": [
    "X.columns"
   ]
  },
  {
   "cell_type": "code",
   "execution_count": 3,
   "metadata": {},
   "outputs": [
    {
     "data": {
      "text/plain": [
       "Index(['Timestamp', 'Which age group you belong to?',\n",
       "       'Location(From which state you are?)',\n",
       "       'Is it difficult to get essentials(food/medicine)?',\n",
       "       'What is your gender?', 'How you ever felt symptoms of COVID?',\n",
       "       'Do you have any of the following conditions?',\n",
       "       'During the lockdown have you been doing more household work?',\n",
       "       'Have you or anyone you know have corona virus/recovered from COVID/been tested for COVID?',\n",
       "       'How often do you use masks/hand sanitizers(per day)?',\n",
       "       'Do you feel like you have wasted your time during the lock down or have you ever felt pressurized by your peer’s accomplishments during the lock down?',\n",
       "       'How often do you eat outside food? (per week)',\n",
       "       'Are you in a containment zone?',\n",
       "       'Are you stuck somewhere alone without support from friends or family?',\n",
       "       'Do you have children less than 3 yrs, or elders 65+ at your house?',\n",
       "       'Have you ever felt afraid or anxious to go to hospital during this pandemic?',\n",
       "       'Has your sleep cycle changed drastically?',\n",
       "       'Have you felt frustrated by having your activities, major life events or opportunities affected by the virus?',\n",
       "       'Is someone from your family in the medical field everyday?',\n",
       "       'Do you have online classes/assignments/assessments/tests?',\n",
       "       'Did you face a pay cut/job loss/take another job to cover expenses?',\n",
       "       'How often do you leave your house?(per week)',\n",
       "       'How often do you interact with people outside your house(friends,neighbors etc.,)?',\n",
       "       'Have you taken any medication to prevent corona(Chloroquine or kabasura kudineer) or any medication to increase your immunity?',\n",
       "       'Have you been affected by not being able to visit religious places?',\n",
       "       'Do you miss hanging out with people outside of your house?',\n",
       "       'Immunity', 'Isolation', 'Economy', 'Career', 'Restlessness',\n",
       "       'Lockdown', 'Precautious', 'Frustration', 'Anxiety Numerical',\n",
       "       'Anxiety Level', 'Level Of Anxiety'],\n",
       "      dtype='object')"
      ]
     },
     "execution_count": 3,
     "metadata": {},
     "output_type": "execute_result"
    }
   ],
   "source": [
    "df.columns"
   ]
  },
  {
   "cell_type": "code",
   "execution_count": 4,
   "metadata": {},
   "outputs": [],
   "source": [
    "X=df[['Is it difficult to get essentials(food/medicine)?',\n",
    "       'What is your gender?', 'How you ever felt symptoms of COVID?',\n",
    "       'Do you have any of the following conditions?',\n",
    "       'During the lockdown have you been doing more household work?',\n",
    "       'Have you or anyone you know have corona virus/recovered from COVID/been tested for COVID?',\n",
    "       'How often do you use masks/hand sanitizers(per day)?',\n",
    "       'Do you feel like you have wasted your time during the lock down or have you ever felt pressurized by your peer’s accomplishments during the lock down?',\n",
    "       'How often do you eat outside food? (per week)',\n",
    "       'Are you in a containment zone?',\n",
    "       'Are you stuck somewhere alone without support from friends or family?',\n",
    "       'Do you have children less than 3 yrs, or elders 65+ at your house?',\n",
    "       'Have you ever felt afraid or anxious to go to hospital during this pandemic?',\n",
    "       'Has your sleep cycle changed drastically?',\n",
    "       'Have you felt frustrated by having your activities, major life events or opportunities affected by the virus?',\n",
    "       'Is someone from your family in the medical field everyday?',\n",
    "       'Do you have online classes/assignments/assessments/tests?',\n",
    "       'Did you face a pay cut/job loss/take another job to cover expenses?',\n",
    "       'How often do you leave your house?(per week)',\n",
    "       'How often do you interact with people outside your house(friends,neighbors etc.,)?',\n",
    "       'Have you taken any medication to prevent corona(Chloroquine or kabasura kudineer) or any medication to increase your immunity?',\n",
    "       'Have you been affected by not being able to visit religious places?',\n",
    "       'Do you miss hanging out with people outside of your house?']]"
   ]
  },
  {
   "cell_type": "code",
   "execution_count": 5,
   "metadata": {},
   "outputs": [
    {
     "data": {
      "image/png": "[encoded data removed]",
      "text/plain": [
       "<Figure size 720x504 with 1 Axes>"
      ]
     },
     "metadata": {
      "needs_background": "light"
     },
     "output_type": "display_data"
    }
   ],
   "source": [
    "plt.figure(figsize=(10, 7))  \n",
    "plt.title(\"Dendrograms\")  \n",
    "dend = shc.dendrogram(shc.linkage(X, method='ward'))"
   ]
  },
  {
   "cell_type": "code",
   "execution_count": 6,
   "metadata": {},
   "outputs": [],
   "source": [
    "from sklearn.cluster import AgglomerativeClustering\n",
    "cluster = AgglomerativeClustering(n_clusters=4, affinity='euclidean', linkage='ward')  \n",
    "y_est=cluster.fit_predict(X)"
   ]
  },
  {
   "cell_type": "code",
   "execution_count": 7,
   "metadata": {},
   "outputs": [
    {
     "data": {
      "text/plain": [
       "array([1, 0, 0, 3, 0, 2, 1, 0, 0, 1, 0, 0, 3, 3, 0, 1, 0, 1, 2, 1, 2, 1,\n",
       "       3, 0, 0, 0, 2, 0, 3, 0, 2, 3, 1, 3, 2, 3, 3, 0, 3, 3, 2, 1, 0, 1,\n",
       "       1, 3, 2, 1, 2, 3, 1, 1, 0, 2, 1, 0, 2, 2, 0, 0, 3, 2, 1, 1, 1, 0,\n",
       "       2, 0, 1, 1, 3, 0, 1, 0, 1, 0, 0, 2, 0, 2, 1, 1, 2, 1, 2, 0, 2, 1,\n",
       "       2, 0, 2, 0, 0, 1, 0, 3, 2, 1, 1, 0, 1, 2, 3, 2, 0, 3, 2, 1, 1, 2,\n",
       "       1, 1, 0, 0, 2, 0, 2, 0, 1, 0, 2, 2, 1, 2, 3, 2, 2, 0, 1, 0, 2, 2,\n",
       "       1, 3, 2, 2, 2, 2, 1, 3, 2, 0, 1, 1, 0, 1, 0, 1, 3, 3, 3, 2, 1, 3,\n",
       "       2, 1, 2, 2, 1, 1, 0, 1, 2, 0, 1, 0, 0, 1, 0, 0, 1, 2, 3, 0, 0, 0,\n",
       "       3, 2, 2, 0, 1, 3, 1, 1, 1, 1, 1, 0, 1, 0, 0, 3, 3, 1, 1, 1, 0, 0,\n",
       "       2, 2, 0, 2, 3, 1, 0, 3, 1, 2, 0, 0, 1, 1, 2, 2, 2, 0, 0, 3, 1, 2,\n",
       "       1, 2, 0, 1, 0, 2, 1, 2, 0, 0, 0, 1, 3, 0, 1, 0, 2, 2, 3, 0, 2, 0,\n",
       "       0, 3, 1, 3, 0, 3, 1, 1, 2, 1, 1, 0, 2, 0, 2, 1, 2, 0, 1, 1, 0, 1,\n",
       "       1, 1, 1, 3, 3, 1, 2, 0, 0, 3, 1, 0, 2, 2, 1, 1, 0, 0, 0, 2, 0, 1,\n",
       "       2, 0, 0, 1, 1, 2, 1, 0, 0, 1, 0, 0, 0, 0, 2, 1, 2, 2, 0, 1, 0, 2,\n",
       "       0, 0, 2, 1, 1, 0, 2, 2, 2, 1, 0, 1, 0, 2, 0, 1, 3, 0, 2, 0, 0, 0,\n",
       "       0, 3, 0, 1, 0, 0, 1, 0, 0, 0, 2, 0, 0, 1, 2, 1, 0, 3, 3, 0, 3, 2,\n",
       "       2, 2, 3, 3, 2, 0, 3, 2, 2, 0, 0, 1, 2, 0, 2, 3, 3, 3, 2, 1, 0, 0,\n",
       "       2, 1, 3, 0, 0, 1, 1, 1, 0, 2, 3, 0, 3, 1, 3, 1, 0, 3, 0, 0, 2, 0,\n",
       "       0, 3, 1, 3, 3, 1, 0, 0, 0, 1, 1, 1, 3, 2, 0, 1, 3, 0, 1, 0, 1, 0,\n",
       "       0, 0, 0, 1, 0, 0, 2, 1, 3, 2, 1, 0, 2, 1, 1, 2, 0, 1, 0, 0, 0],\n",
       "      dtype=int32)"
      ]
     },
     "execution_count": 7,
     "metadata": {},
     "output_type": "execute_result"
    }
   ],
   "source": [
    "y_est"
   ]
  },
  {
   "cell_type": "code",
   "execution_count": 8,
   "metadata": {},
   "outputs": [
    {
     "data": {
      "text/plain": [
       "(439,)"
      ]
     },
     "execution_count": 8,
     "metadata": {},
     "output_type": "execute_result"
    }
   ],
   "source": [
    "y_est.shape"
   ]
  },
  {
   "cell_type": "code",
   "execution_count": 3,
   "metadata": {},
   "outputs": [
    {
     "ename": "NameError",
     "evalue": "name 'display_parallel_coordinates' is not defined",
     "output_type": "error",
     "traceback": [
      "\u001b[1;31m---------------------------------------------------------------------------\u001b[0m",
      "\u001b[1;31mNameError\u001b[0m                                 Traceback (most recent call last)",
      "\u001b[1;32m<ipython-input-3-41c8b47e5256>\u001b[0m in \u001b[0;36m<module>\u001b[1;34m\u001b[0m\n\u001b[1;32m----> 1\u001b[1;33m \u001b[0mdisplay_parallel_coordinates\u001b[0m\u001b[1;33m(\u001b[0m\u001b[0mX_clustered\u001b[0m\u001b[1;33m,\u001b[0m \u001b[1;36m5\u001b[0m\u001b[1;33m)\u001b[0m\u001b[1;33m\u001b[0m\u001b[1;33m\u001b[0m\u001b[0m\n\u001b[0m",
      "\u001b[1;31mNameError\u001b[0m: name 'display_parallel_coordinates' is not defined"
     ]
    }
   ],
   "source": [
    "display_parallel_coordinates(X_clustered, 5)"
   ]
  },
  {
   "cell_type": "code",
   "execution_count": null,
   "metadata": {},
   "outputs": [],
   "source": []
  }
 ],
 "metadata": {
  "kernelspec": {
   "display_name": "Python 3",
   "language": "python",
   "name": "python3"
  },
  "language_info": {
   "codemirror_mode": {
    "name": "ipython",
    "version": 3
   },
   "file_extension": ".py",
   "mimetype": "text/x-python",
   "name": "python",
   "nbconvert_exporter": "python",
   "pygments_lexer": "ipython3",
   "version": "3.8.2"
  }
 },
 "nbformat": 4,
 "nbformat_minor": 4
}

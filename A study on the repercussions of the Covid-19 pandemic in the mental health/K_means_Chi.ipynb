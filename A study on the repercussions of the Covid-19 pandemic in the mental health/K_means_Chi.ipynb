{
 "cells": [
  {
   "cell_type": "code",
   "execution_count": 2,
   "metadata": {},
   "outputs": [],
   "source": [
    "import numpy as np\n",
    "import sklearn as sk\n",
    "import pandas as pd\n",
    "from sklearn.cluster import KMeans\n",
    "from time import time\n",
    "import matplotlib.pyplot as plt\n",
    "from sklearn import metrics\n",
    "from sklearn.cluster import KMeans\n",
    "from sklearn.datasets import load_digits\n",
    "from sklearn.decomposition import PCA\n",
    "from sklearn.preprocessing import scale\n",
    "from sklearn.model_selection import train_test_split"
   ]
  },
  {
   "cell_type": "code",
   "execution_count": 3,
   "metadata": {},
   "outputs": [
    {
     "data": {
      "text/html": [
       "<div>\n",
       "<style scoped>\n",
       "    .dataframe tbody tr th:only-of-type {\n",
       "        vertical-align: middle;\n",
       "    }\n",
       "\n",
       "    .dataframe tbody tr th {\n",
       "        vertical-align: top;\n",
       "    }\n",
       "\n",
       "    .dataframe thead th {\n",
       "        text-align: right;\n",
       "    }\n",
       "</style>\n",
       "<table border=\"1\" class=\"dataframe\">\n",
       "  <thead>\n",
       "    <tr style=\"text-align: right;\">\n",
       "      <th></th>\n",
       "      <th>Timestamp</th>\n",
       "      <th>Which age group you belong to?</th>\n",
       "      <th>Location(From which state you are?)</th>\n",
       "      <th>Is it difficult to get essentials(food/medicine)?</th>\n",
       "      <th>What is your gender?</th>\n",
       "      <th>How you ever felt symptoms of COVID?</th>\n",
       "      <th>Do you have any of the following conditions?</th>\n",
       "      <th>During the lockdown have you been doing more household work?</th>\n",
       "      <th>Have you or anyone you know have corona virus/recovered from COVID/been tested for COVID?</th>\n",
       "      <th>How often do you use masks/hand sanitizers(per day)?</th>\n",
       "      <th>...</th>\n",
       "      <th>Over the last 2 weeks, how often have you been bothered by being so restless that it is hard to sit still?</th>\n",
       "      <th>Over the last 2 weeks, how often have you been bothered by trouble relaxing?</th>\n",
       "      <th>Over the last 2 weeks, how often have you been bothered by becoming easily an0yed or irritable?</th>\n",
       "      <th>Over the last 2 weeks, how often have you been bothered by feeling afraid as if something awful might happen?</th>\n",
       "      <th>Anxiety Numerical</th>\n",
       "      <th>Level Of Anxiety</th>\n",
       "      <th>Unnamed: 35</th>\n",
       "      <th>Unnamed: 36</th>\n",
       "      <th>Unnamed: 37</th>\n",
       "      <th>Unnamed: 38</th>\n",
       "    </tr>\n",
       "  </thead>\n",
       "  <tbody>\n",
       "    <tr>\n",
       "      <th>0</th>\n",
       "      <td>2020-06-19 13:39:55.750</td>\n",
       "      <td>2</td>\n",
       "      <td>1</td>\n",
       "      <td>0</td>\n",
       "      <td>1</td>\n",
       "      <td>0</td>\n",
       "      <td>0</td>\n",
       "      <td>1</td>\n",
       "      <td>1</td>\n",
       "      <td>0</td>\n",
       "      <td>...</td>\n",
       "      <td>0</td>\n",
       "      <td>0</td>\n",
       "      <td>1</td>\n",
       "      <td>0</td>\n",
       "      <td>2</td>\n",
       "      <td>0</td>\n",
       "      <td>NaN</td>\n",
       "      <td>NaN</td>\n",
       "      <td>NaN</td>\n",
       "      <td>NaN</td>\n",
       "    </tr>\n",
       "    <tr>\n",
       "      <th>1</th>\n",
       "      <td>2020-06-19 13:40:56.063</td>\n",
       "      <td>2</td>\n",
       "      <td>1</td>\n",
       "      <td>0</td>\n",
       "      <td>1</td>\n",
       "      <td>0</td>\n",
       "      <td>0</td>\n",
       "      <td>0</td>\n",
       "      <td>0</td>\n",
       "      <td>0</td>\n",
       "      <td>...</td>\n",
       "      <td>1</td>\n",
       "      <td>1</td>\n",
       "      <td>0</td>\n",
       "      <td>1</td>\n",
       "      <td>5</td>\n",
       "      <td>1</td>\n",
       "      <td>NaN</td>\n",
       "      <td>NaN</td>\n",
       "      <td>NaN</td>\n",
       "      <td>NaN</td>\n",
       "    </tr>\n",
       "    <tr>\n",
       "      <th>2</th>\n",
       "      <td>2020-06-19 13:42:22.938</td>\n",
       "      <td>2</td>\n",
       "      <td>1</td>\n",
       "      <td>0</td>\n",
       "      <td>1</td>\n",
       "      <td>0</td>\n",
       "      <td>0</td>\n",
       "      <td>1</td>\n",
       "      <td>0</td>\n",
       "      <td>0</td>\n",
       "      <td>...</td>\n",
       "      <td>0</td>\n",
       "      <td>1</td>\n",
       "      <td>2</td>\n",
       "      <td>1</td>\n",
       "      <td>10</td>\n",
       "      <td>2</td>\n",
       "      <td>NaN</td>\n",
       "      <td>NaN</td>\n",
       "      <td>NaN</td>\n",
       "      <td>NaN</td>\n",
       "    </tr>\n",
       "    <tr>\n",
       "      <th>3</th>\n",
       "      <td>2020-06-19 13:51:35.532</td>\n",
       "      <td>2</td>\n",
       "      <td>1</td>\n",
       "      <td>0</td>\n",
       "      <td>0</td>\n",
       "      <td>0</td>\n",
       "      <td>0</td>\n",
       "      <td>0</td>\n",
       "      <td>1</td>\n",
       "      <td>1</td>\n",
       "      <td>...</td>\n",
       "      <td>0</td>\n",
       "      <td>0</td>\n",
       "      <td>0</td>\n",
       "      <td>0</td>\n",
       "      <td>0</td>\n",
       "      <td>0</td>\n",
       "      <td>NaN</td>\n",
       "      <td>NaN</td>\n",
       "      <td>NaN</td>\n",
       "      <td>NaN</td>\n",
       "    </tr>\n",
       "    <tr>\n",
       "      <th>4</th>\n",
       "      <td>2020-06-19 13:51:44.612</td>\n",
       "      <td>2</td>\n",
       "      <td>1</td>\n",
       "      <td>0</td>\n",
       "      <td>1</td>\n",
       "      <td>0</td>\n",
       "      <td>0</td>\n",
       "      <td>0</td>\n",
       "      <td>1</td>\n",
       "      <td>1</td>\n",
       "      <td>...</td>\n",
       "      <td>0</td>\n",
       "      <td>0</td>\n",
       "      <td>0</td>\n",
       "      <td>1</td>\n",
       "      <td>1</td>\n",
       "      <td>0</td>\n",
       "      <td>NaN</td>\n",
       "      <td>NaN</td>\n",
       "      <td>NaN</td>\n",
       "      <td>NaN</td>\n",
       "    </tr>\n",
       "  </tbody>\n",
       "</table>\n",
       "<p>5 rows × 39 columns</p>\n",
       "</div>"
      ],
      "text/plain": [
       "                Timestamp  Which age group you belong to?  \\\n",
       "0 2020-06-19 13:39:55.750                               2   \n",
       "1 2020-06-19 13:40:56.063                               2   \n",
       "2 2020-06-19 13:42:22.938                               2   \n",
       "3 2020-06-19 13:51:35.532                               2   \n",
       "4 2020-06-19 13:51:44.612                               2   \n",
       "\n",
       "   Location(From which state you are?)  \\\n",
       "0                                    1   \n",
       "1                                    1   \n",
       "2                                    1   \n",
       "3                                    1   \n",
       "4                                    1   \n",
       "\n",
       "   Is it difficult to get essentials(food/medicine)?  What is your gender?  \\\n",
       "0                                                  0                     1   \n",
       "1                                                  0                     1   \n",
       "2                                                  0                     1   \n",
       "3                                                  0                     0   \n",
       "4                                                  0                     1   \n",
       "\n",
       "   How you ever felt symptoms of COVID?   \\\n",
       "0                                      0   \n",
       "1                                      0   \n",
       "2                                      0   \n",
       "3                                      0   \n",
       "4                                      0   \n",
       "\n",
       "   Do you have any of the following conditions?  \\\n",
       "0                                             0   \n",
       "1                                             0   \n",
       "2                                             0   \n",
       "3                                             0   \n",
       "4                                             0   \n",
       "\n",
       "   During the lockdown have you been doing more household work?  \\\n",
       "0                                                  1              \n",
       "1                                                  0              \n",
       "2                                                  1              \n",
       "3                                                  0              \n",
       "4                                                  0              \n",
       "\n",
       "   Have you or anyone you know have corona virus/recovered from COVID/been tested for COVID?   \\\n",
       "0                                                  1                                            \n",
       "1                                                  0                                            \n",
       "2                                                  0                                            \n",
       "3                                                  1                                            \n",
       "4                                                  1                                            \n",
       "\n",
       "   How often do you use masks/hand sanitizers(per day)?  ...  \\\n",
       "0                                                  0     ...   \n",
       "1                                                  0     ...   \n",
       "2                                                  0     ...   \n",
       "3                                                  1     ...   \n",
       "4                                                  1     ...   \n",
       "\n",
       "   Over the last 2 weeks, how often have you been bothered by being so restless that it is hard to sit still?  \\\n",
       "0                                                  0                                                            \n",
       "1                                                  1                                                            \n",
       "2                                                  0                                                            \n",
       "3                                                  0                                                            \n",
       "4                                                  0                                                            \n",
       "\n",
       "   Over the last 2 weeks, how often have you been bothered by trouble relaxing?  \\\n",
       "0                                                  0                              \n",
       "1                                                  1                              \n",
       "2                                                  1                              \n",
       "3                                                  0                              \n",
       "4                                                  0                              \n",
       "\n",
       "   Over the last 2 weeks, how often have you been bothered by becoming easily an0yed or irritable?  \\\n",
       "0                                                  1                                                 \n",
       "1                                                  0                                                 \n",
       "2                                                  2                                                 \n",
       "3                                                  0                                                 \n",
       "4                                                  0                                                 \n",
       "\n",
       "   Over the last 2 weeks, how often have you been bothered by feeling afraid as if something awful might happen?  \\\n",
       "0                                                  0                                                               \n",
       "1                                                  1                                                               \n",
       "2                                                  1                                                               \n",
       "3                                                  0                                                               \n",
       "4                                                  1                                                               \n",
       "\n",
       "   Anxiety Numerical   Level Of Anxiety   Unnamed: 35  Unnamed: 36  \\\n",
       "0                   2                  0          NaN          NaN   \n",
       "1                   5                  1          NaN          NaN   \n",
       "2                  10                  2          NaN          NaN   \n",
       "3                   0                  0          NaN          NaN   \n",
       "4                   1                  0          NaN          NaN   \n",
       "\n",
       "   Unnamed: 37  Unnamed: 38  \n",
       "0          NaN          NaN  \n",
       "1          NaN          NaN  \n",
       "2          NaN          NaN  \n",
       "3          NaN          NaN  \n",
       "4          NaN          NaN  \n",
       "\n",
       "[5 rows x 39 columns]"
      ]
     },
     "execution_count": 3,
     "metadata": {},
     "output_type": "execute_result"
    }
   ],
   "source": [
    "df=pd.read_excel('./../myproj/Survey.xlsx',nrows=830)\n",
    "df.head()"
   ]
  },
  {
   "cell_type": "code",
   "execution_count": 59,
   "metadata": {},
   "outputs": [],
   "source": [
    "X= df[['Location(From which state you are?)',\n",
    "      'Is it difficult to get essentials(food/medicine)?',\n",
    "      'Do you feel like you have wasted your time during the lock down or have you ever felt pressurized by your peer’s accomplishments during the lock down?',\n",
    "      'Has your sleep cycle changed drastically?',\n",
    "      'Have you ever felt afraid or anxious to go to hospital during this pandemic?',\n",
    "      'Are you stuck somewhere alone without support from friends or family? ',\n",
    "      'Do you miss hanging out with people outside of your house?',\n",
    "      'Have you been affected by not being able to visit religious places?',\n",
    "      'How often do you eat outside food? (per week) ',\n",
    "      'Are you in a containment zone? ',\n",
    "      'Which age group you belong to?',\n",
    "      'Have you felt frustrated by having your activities, major life events or opportunities affected by the virus? ']]"
   ]
  },
  {
   "cell_type": "code",
   "execution_count": 60,
   "metadata": {},
   "outputs": [],
   "source": [
    "y=df['Level Of Anxiety ']"
   ]
  },
  {
   "cell_type": "code",
   "execution_count": 97,
   "metadata": {},
   "outputs": [],
   "source": [
    "X_scaled = scale(X)\n",
    "pca = PCA(n_components=2)\n",
    "X_reduced = pca.fit_transform(X_scaled)\n",
    "\n",
    "X_train, X_test, y_train, y_test = train_test_split(X_reduced, y, test_size = 0.33, random_state=500)"
   ]
  },
  {
   "cell_type": "code",
   "execution_count": 98,
   "metadata": {},
   "outputs": [],
   "source": []
  },
  {
   "cell_type": "code",
   "execution_count": 99,
   "metadata": {},
   "outputs": [
    {
     "data": {
      "text/plain": [
       "array([0, 0, 1, 1, 1, 0, 1, 0, 0, 1, 0, 1, 1, 1, 0, 1, 0, 0, 1, 1, 0, 0,\n",
       "       1, 1, 1, 0, 0, 0, 0, 0, 0, 0, 0, 1, 1, 0, 0, 1, 0, 0, 0, 0, 1, 0,\n",
       "       0, 1, 1, 0, 0, 0, 0, 0, 0, 1, 0, 1, 0, 1, 1, 1, 1, 0, 1, 0, 1, 0,\n",
       "       1, 1, 1, 0, 1, 1, 0, 0, 0, 1, 1, 1, 1, 0, 0, 1, 1, 1, 0, 0, 1, 0,\n",
       "       0, 1, 1, 1, 1, 1, 1, 1, 1, 0, 0, 1, 0, 0, 1, 1, 1, 1, 0, 0, 0, 1,\n",
       "       1, 0, 0, 1, 0, 1, 0, 0, 0, 1, 1, 0, 0, 0, 1, 1, 0, 1, 0, 1, 0, 1,\n",
       "       0, 0, 0, 1, 0, 0, 0, 0, 1, 0, 0, 1, 1, 0, 1, 1, 1, 0, 1, 1, 0, 0,\n",
       "       0, 1, 0, 0, 0, 1, 0, 1, 0, 0, 1, 1, 1, 0, 1, 0, 0, 1, 1, 0, 0, 0,\n",
       "       1, 1, 0, 0, 0, 0, 0, 0, 1, 1, 1, 0, 0, 0, 0, 0, 1, 0, 0, 0, 1, 0,\n",
       "       0, 0, 1, 1, 1, 1, 1, 0, 0, 1, 0, 1, 0, 1, 0, 1, 0, 0, 0, 0, 1, 1,\n",
       "       1, 1, 0, 1, 1, 0, 0, 0, 0, 1, 1, 0, 0, 0, 1, 0, 1, 1, 0, 0, 0, 0,\n",
       "       1, 0, 0, 1, 1, 1, 1, 0, 1, 1, 1, 0, 1, 1, 0, 1, 1, 1, 0, 0, 1, 0,\n",
       "       1, 1, 0, 0, 1, 0, 1, 1, 1, 0, 0, 0, 0, 0, 1, 0, 0, 1, 0, 0, 1, 0,\n",
       "       1, 0, 1, 1, 1, 0, 1, 0, 1, 0, 1, 0, 0, 1, 0, 0, 0, 0, 1, 1, 0, 0,\n",
       "       0, 0, 0, 1, 0, 0, 1, 0, 0, 0, 1, 0, 0, 1, 1, 1, 0, 0, 1, 0, 0, 0,\n",
       "       0, 0, 0, 1, 0, 0, 1, 1, 1, 0, 0, 0, 0, 0, 0, 0, 0, 1, 1, 0, 0, 1,\n",
       "       0, 1, 0, 0, 0, 0, 1, 0, 0, 0, 0, 0, 1, 1, 0, 0, 0, 0, 0, 0, 1, 1,\n",
       "       0, 1, 1, 0, 0, 0, 0, 0, 0, 0, 1, 0, 1, 1, 0, 0, 0, 1, 0, 0, 0, 0,\n",
       "       1, 1, 1, 1, 0, 1, 1, 0, 0, 1, 1, 0, 0, 0, 1, 0, 0, 0, 1, 0, 1, 0,\n",
       "       0, 0, 0, 0, 0, 0, 0, 0, 1, 1, 0, 0, 1, 0, 1, 1, 0, 0, 0, 1, 0, 1,\n",
       "       1, 1, 1, 1, 1, 0, 1, 0, 0, 0, 1, 0, 0, 1, 0, 0, 0, 0, 0, 1, 0, 1,\n",
       "       0, 0, 0, 1, 0, 0, 0, 1, 1, 0, 1, 1, 0, 0, 0, 1, 0, 0, 0, 0, 0, 0,\n",
       "       1, 0, 1, 1, 0, 1, 1, 1, 0, 0, 1, 0, 0, 1, 0, 1, 0, 0, 0, 1, 0, 0,\n",
       "       0, 1, 1, 1, 0, 0, 1, 0, 0, 1, 0, 0, 1, 0, 1, 1, 0, 0, 1, 0, 0, 1,\n",
       "       0, 0, 0, 1, 1, 0, 1, 1, 1, 1, 1, 0, 0, 0, 0, 0, 0, 1, 0, 0, 0, 1,\n",
       "       1, 0, 0, 0, 0, 1])"
      ]
     },
     "execution_count": 99,
     "metadata": {},
     "output_type": "execute_result"
    }
   ],
   "source": [
    "y_kmeans"
   ]
  },
  {
   "cell_type": "code",
   "execution_count": 100,
   "metadata": {},
   "outputs": [
    {
     "data": {
      "image/png": "[encoded data removed]",
      "text/plain": [
       "<Figure size 432x288 with 1 Axes>"
      ]
     },
     "metadata": {},
     "output_type": "display_data"
    }
   ],
   "source": [
    "h = .01     # point in the mesh [x_min, x_max]x[y_min, y_max].\n",
    "\n",
    "# Plot the decision boundary. For that, we will assign a color to each\n",
    "x_min, x_max = X_reduced[:, 0].min() - 1, X_reduced[:, 0].max() + 1\n",
    "y_min, y_max = X_reduced[:, 1].min() - 1, X_reduced[:, 1].max() + 1\n",
    "xx, yy = np.meshgrid(np.arange(x_min, x_max, h), np.arange(y_min, y_max, h))\n",
    "# Obtain labels for each point in mesh. Use last trained model.\n",
    "Z = kmeans.predict(np.c_[xx.ravel(), yy.ravel()])\n",
    "\n",
    "# Put the result into a color plot\n",
    "Z = Z.reshape(xx.shape)\n",
    "plt.figure(1)\n",
    "plt.clf()\n",
    "plt.imshow(Z, interpolation='nearest',\n",
    "           extent=(xx.min(), xx.max(), yy.min(), yy.max()),\n",
    "           cmap=plt.cm.Paired,\n",
    "           aspect='auto', origin='lower')\n",
    "\n",
    "plt.plot(X_reduced[:, 0], X_reduced[:, 1], 'k.', markersize=2)\n",
    "# Plot the centroids as a white X\n",
    "centroids = kmeans.cluster_centers_\n",
    "plt.scatter(centroids[:, 0], centroids[:, 1],\n",
    "            marker='x', s=169, linewidths=3,\n",
    "            color='w', zorder=10)\n",
    "plt.title('K-means clustering on the credit card fraud dataset (PCA-reduced data)\\n'\n",
    "          'Centroids are marked with white cross')\n",
    "plt.xlim(x_min, x_max)\n",
    "plt.ylim(y_min, y_max)\n",
    "plt.xticks(())\n",
    "plt.yticks(())\n",
    "plt.show()"
   ]
  },
  {
   "cell_type": "code",
   "execution_count": 101,
   "metadata": {},
   "outputs": [
    {
     "data": {
      "text/plain": [
       "array([[ 1.0206043 ,  0.1683365 ],\n",
       "       [-1.33815023, -0.18202489]])"
      ]
     },
     "execution_count": 101,
     "metadata": {},
     "output_type": "execute_result"
    }
   ],
   "source": [
    "centroids = kmeans.cluster_centers_\n",
    "centroids"
   ]
  },
  {
   "cell_type": "code",
   "execution_count": 102,
   "metadata": {},
   "outputs": [
    {
     "name": "stdout",
     "output_type": "stream",
     "text": [
      "Accuracy: 0.572992700729927\n",
      "False negative rate (with respect to misclassifications):  0.7777777777777778\n",
      "False negative rate (with respect to all the data):  0.33211678832116787\n",
      "False negatives, false positives, mispredictions: 91 26 117\n",
      "Total test data points: 274\n"
     ]
    }
   ],
   "source": [
    "predictions = kmeans.predict(X_test)\n",
    "\n",
    "pred_fraud = np.where(predictions == 1)[0]\n",
    "real_fraud = np.where(y_test == 0)[0]\n",
    "false_pos = len(np.setdiff1d(pred_fraud, real_fraud))\n",
    "\n",
    "pred_good = np.where(predictions == 0)[0]\n",
    "real_good = np.where(y_test == 1)[0]\n",
    "false_neg = len(np.setdiff1d(pred_good, real_good))\n",
    "\n",
    "false_neg_rate = false_neg/(false_pos+false_neg)\n",
    "\n",
    "accuracy = (len(X_test) - (false_neg + false_pos)) / len(X_test)\n",
    "print(\"Accuracy:\", accuracy)\n",
    "print(\"False negative rate (with respect to misclassifications): \", false_neg_rate)\n",
    "print(\"False negative rate (with respect to all the data): \", false_neg / len(predictions))\n",
    "print(\"False negatives, false positives, mispredictions:\", false_neg, false_pos, false_neg + false_pos)\n",
    "print(\"Total test data points:\", len(X_test))"
   ]
  },
  {
   "cell_type": "code",
   "execution_count": 95,
   "metadata": {},
   "outputs": [
    {
     "data": {
      "text/plain": [
       "(array([  0,   1,   5,   7,   8,  10,  14,  16,  17,  20,  21,  25,  26,\n",
       "         27,  28,  29,  30,  31,  32,  35,  36,  38,  39,  40,  41,  43,\n",
       "         44,  47,  48,  49,  50,  51,  52,  54,  56,  61,  63,  65,  69,\n",
       "         72,  73,  74,  79,  80,  84,  85,  87,  88,  97,  98, 100, 101,\n",
       "        106, 107, 108, 111, 112, 114, 116, 117, 118, 121, 122, 123, 126,\n",
       "        128, 130, 132, 133, 134, 136, 137, 138, 139, 141, 142, 145, 149,\n",
       "        152, 153, 154, 156, 157, 158, 160, 162, 163, 167, 169, 170, 173,\n",
       "        174, 175, 178, 179, 180, 181, 182, 183, 187, 188, 189, 190, 191,\n",
       "        193, 194, 195, 197, 198, 199, 205, 206, 208, 210, 212, 214, 215,\n",
       "        216, 217, 222, 225, 226, 227, 228, 231, 232, 233, 235, 238, 239,\n",
       "        240, 241, 243, 244, 249, 253, 256, 260, 261, 263, 266, 267, 269,\n",
       "        273, 274, 275, 276, 277, 279, 280, 282, 283, 285, 287, 291, 293,\n",
       "        295, 297, 298, 300, 301, 302, 303, 306, 307, 308, 309, 310, 312,\n",
       "        313, 315, 316, 317, 319, 320, 324, 325, 327, 328, 329, 330, 331,\n",
       "        332, 334, 335, 339, 340, 341, 342, 343, 344, 345, 346, 349, 350,\n",
       "        352, 354, 355, 356, 357, 359, 360, 361, 362, 363, 366, 367, 368,\n",
       "        369, 370, 371, 374, 377, 378, 379, 380, 381, 382, 383, 385, 388,\n",
       "        389, 390, 392, 393, 394, 395, 400, 403, 404, 407, 408, 409, 411,\n",
       "        412, 413, 415, 417, 418, 419, 420, 421, 422, 423, 424, 425, 428,\n",
       "        429, 431, 434, 435, 436, 438, 445, 447, 448, 449, 451, 452, 454,\n",
       "        455, 456, 457, 458, 460, 462, 463, 464, 466, 467, 468, 471, 474,\n",
       "        475, 476, 478, 479, 480, 481, 482, 483, 485, 488, 492, 493, 495,\n",
       "        496, 498, 500, 501, 502, 504, 505, 506, 510, 511, 513, 514, 516,\n",
       "        517, 519, 522, 523, 525, 526, 528, 529, 530, 533, 539, 540, 541,\n",
       "        542, 543, 544, 546, 547, 548, 551, 552, 553, 554], dtype=int32),)"
      ]
     },
     "execution_count": 95,
     "metadata": {},
     "output_type": "execute_result"
    }
   ],
   "source": [
    "np.where(y_kmeans==0)"
   ]
  },
  {
   "cell_type": "code",
   "execution_count": 96,
   "metadata": {},
   "outputs": [
    {
     "data": {
      "text/plain": [
       "(array([  2,   3,   4,   6,   9,  11,  12,  13,  15,  18,  19,  22,  23,\n",
       "         24,  33,  34,  37,  42,  45,  46,  53,  55,  57,  58,  59,  60,\n",
       "         62,  64,  66,  67,  68,  70,  71,  75,  76,  77,  78,  81,  82,\n",
       "         83,  86,  89,  90,  91,  92,  93,  94,  95,  96,  99, 102, 103,\n",
       "        104, 105, 109, 110, 113, 115, 119, 120, 124, 125, 127, 129, 131,\n",
       "        135, 140, 143, 144, 146, 147, 148, 150, 151, 155, 159, 161, 164,\n",
       "        165, 166, 168, 171, 172, 176, 177, 184, 185, 186, 192, 196, 200,\n",
       "        201, 202, 203, 204, 207, 209, 211, 213, 218, 219, 220, 221, 223,\n",
       "        224, 229, 230, 234, 236, 237, 242, 245, 246, 247, 248, 250, 251,\n",
       "        252, 254, 255, 257, 258, 259, 262, 264, 265, 268, 270, 271, 272,\n",
       "        278, 281, 284, 286, 288, 289, 290, 292, 294, 296, 299, 304, 305,\n",
       "        311, 314, 318, 321, 322, 323, 326, 333, 336, 337, 338, 347, 348,\n",
       "        351, 353, 358, 364, 365, 372, 373, 375, 376, 384, 386, 387, 391,\n",
       "        396, 397, 398, 399, 401, 402, 405, 406, 410, 414, 416, 426, 427,\n",
       "        430, 432, 433, 437, 439, 440, 441, 442, 443, 444, 446, 450, 453,\n",
       "        459, 461, 465, 469, 470, 472, 473, 477, 484, 486, 487, 489, 490,\n",
       "        491, 494, 497, 499, 503, 507, 508, 509, 512, 515, 518, 520, 521,\n",
       "        524, 527, 531, 532, 534, 535, 536, 537, 538, 545, 549, 550, 555],\n",
       "       dtype=int32),)"
      ]
     },
     "execution_count": 96,
     "metadata": {},
     "output_type": "execute_result"
    }
   ],
   "source": [
    "np.where(y_kmeans==1)"
   ]
  },
  {
   "cell_type": "code",
   "execution_count": 86,
   "metadata": {},
   "outputs": [
    {
     "data": {
      "text/plain": [
       "(array([  3,   6,   9,  24,  33,  34,  37,  42,  46,  53,  57,  58,  59,\n",
       "         60,  62,  64,  70,  75,  77,  81,  82,  83,  86,  91,  92,  94,\n",
       "         99, 102, 103, 104, 113, 119, 125, 129, 131, 135, 143, 144, 148,\n",
       "        150, 155, 159, 165, 166, 168, 177, 184, 185, 186, 196, 200, 201,\n",
       "        204, 209, 211, 213, 219, 221, 224, 230, 236, 237, 245, 246, 247,\n",
       "        248, 252, 254, 255, 257, 258, 262, 265, 270, 278, 286, 289, 292,\n",
       "        296, 305, 311, 318, 321, 323, 338, 348, 351, 372, 373, 375, 376,\n",
       "        386, 397, 398, 399, 402, 406, 414, 416, 426, 430, 432, 439, 444,\n",
       "        446, 453, 461, 465, 473, 484, 486, 489, 491, 497, 503, 508, 512,\n",
       "        515, 518, 520, 521, 531, 532, 536, 537, 538, 545, 549, 555],\n",
       "       dtype=int32),)"
      ]
     },
     "execution_count": 86,
     "metadata": {},
     "output_type": "execute_result"
    }
   ],
   "source": [
    "np.where(y_kmeans==2)"
   ]
  },
  {
   "cell_type": "code",
   "execution_count": 87,
   "metadata": {},
   "outputs": [
    {
     "data": {
      "text/plain": [
       "(array([  1,   7,   8,  14,  16,  20,  27,  28,  30,  32,  36,  39,  40,\n",
       "         41,  47,  50,  51,  52,  61,  63,  69,  72,  74,  79,  84,  88,\n",
       "         97,  98, 106, 107, 111, 126, 130, 132, 133, 136, 145, 156, 160,\n",
       "        163, 167, 174, 179, 181, 190, 191, 193, 194, 197, 198, 212, 214,\n",
       "        215, 217, 225, 226, 228, 231, 235, 238, 239, 241, 256, 260, 261,\n",
       "        263, 266, 267, 269, 280, 282, 285, 293, 300, 301, 302, 308, 312,\n",
       "        313, 317, 320, 324, 328, 329, 331, 332, 334, 335, 339, 341, 344,\n",
       "        346, 350, 360, 362, 363, 374, 379, 380, 381, 382, 388, 389, 392,\n",
       "        393, 394, 400, 404, 407, 408, 411, 412, 415, 422, 423, 425, 436,\n",
       "        445, 451, 452, 454, 455, 462, 471, 475, 479, 481, 483, 485, 488,\n",
       "        493, 495, 498, 501, 504, 505, 510, 513, 516, 519, 523, 525, 530,\n",
       "        533, 544, 546], dtype=int32),)"
      ]
     },
     "execution_count": 87,
     "metadata": {},
     "output_type": "execute_result"
    }
   ],
   "source": [
    "np.where(y_kmeans==3)"
   ]
  },
  {
   "cell_type": "code",
   "execution_count": 88,
   "metadata": {},
   "outputs": [
    {
     "data": {
      "text/plain": [
       "(array([  0,   1,   2,   3,   4,   6,   9,  11,  12,  16,  17,  18,  19,\n",
       "         22,  23,  24,  26,  31,  33,  35,  37,  38,  42,  43,  46,  48,\n",
       "         50,  53,  54,  55,  56,  57,  58,  59,  62,  63,  66,  67,  68,\n",
       "         70,  71,  73,  75,  77,  78,  80,  81,  82,  83,  86,  89,  91,\n",
       "         92,  93,  95,  99, 101, 102, 103, 108, 112, 113, 115, 119, 120,\n",
       "        123, 124, 125, 126, 129, 131, 134, 135, 138, 139, 141, 142, 143,\n",
       "        144, 145, 146, 148, 149, 150, 153, 154, 155, 157, 159, 161, 163,\n",
       "        165, 166, 168, 172, 173, 175, 177, 178, 179, 184, 186, 193, 195,\n",
       "        196, 199, 200, 201, 202, 203, 204, 206, 207, 209, 211, 214, 216,\n",
       "        218, 219, 220, 221, 223, 224, 226, 227, 230, 234, 236, 237, 241,\n",
       "        242, 244, 245, 246, 247, 250, 252, 253, 254, 255, 257, 258, 259,\n",
       "        262, 266, 271, 277, 278, 279, 281, 283, 284, 286, 287, 289, 290,\n",
       "        291, 292, 295, 296, 299, 303, 304, 305, 306, 311, 315, 321, 324,\n",
       "        325, 326, 327, 328, 331, 332, 337, 338, 339, 344, 345, 347, 348,\n",
       "        349, 351, 353, 354, 355, 357, 358, 361, 365, 366, 368, 370, 372,\n",
       "        376, 378, 379, 384, 386, 387, 389, 396, 398, 399, 400, 404, 406,\n",
       "        410, 414, 415, 416, 418, 419, 422, 424, 426, 427, 429, 430, 432,\n",
       "        433, 435, 437, 440, 443, 444, 445, 446, 447, 448, 451, 453, 458,\n",
       "        459, 461, 464, 465, 469, 471, 472, 473, 474, 475, 476, 480, 481,\n",
       "        482, 484, 486, 487, 488, 489, 491, 492, 494, 496, 497, 512, 518,\n",
       "        520, 521, 522, 523, 524, 526, 527, 528, 529, 531, 532, 534, 535,\n",
       "        536, 537, 540, 543, 545, 547, 549, 550, 551, 552, 553, 555],\n",
       "       dtype=int32),)"
      ]
     },
     "execution_count": 88,
     "metadata": {},
     "output_type": "execute_result"
    }
   ],
   "source": [
    "np.where(y_train==0)"
   ]
  },
  {
   "cell_type": "code",
   "execution_count": 90,
   "metadata": {},
   "outputs": [
    {
     "data": {
      "text/plain": [
       "(array([  5,   7,  10,  13,  15,  20,  25,  27,  30,  34,  36,  39,  40,\n",
       "         41,  45,  47,  60,  64,  65,  69,  72,  74,  76,  79,  85,  90,\n",
       "         94, 104, 107, 109, 110, 111, 116, 118, 122, 127, 128, 133, 140,\n",
       "        147, 162, 164, 169, 170, 171, 176, 180, 182, 185, 187, 189, 191,\n",
       "        192, 194, 197, 210, 212, 213, 229, 231, 232, 233, 238, 239, 243,\n",
       "        248, 249, 251, 260, 261, 264, 265, 267, 268, 269, 270, 273, 275,\n",
       "        276, 280, 282, 288, 294, 297, 298, 301, 302, 307, 308, 309, 310,\n",
       "        312, 316, 318, 319, 320, 322, 323, 329, 333, 336, 340, 341, 342,\n",
       "        343, 346, 352, 356, 359, 364, 369, 371, 373, 374, 375, 377, 380,\n",
       "        383, 385, 390, 391, 392, 393, 397, 401, 402, 403, 405, 407, 409,\n",
       "        411, 412, 413, 417, 421, 425, 428, 431, 434, 438, 439, 441, 442,\n",
       "        450, 452, 454, 456, 457, 460, 462, 463, 466, 468, 470, 477, 478,\n",
       "        479, 483, 490, 493, 498, 499, 500, 501, 502, 503, 507, 508, 509,\n",
       "        511, 514, 515, 516, 517, 519, 530, 533, 538, 541, 542, 544, 546,\n",
       "        548, 554], dtype=int32),)"
      ]
     },
     "execution_count": 90,
     "metadata": {},
     "output_type": "execute_result"
    }
   ],
   "source": [
    "np.where(y_train==1)"
   ]
  },
  {
   "cell_type": "code",
   "execution_count": 54,
   "metadata": {},
   "outputs": [],
   "source": []
  },
  {
   "cell_type": "code",
   "execution_count": 57,
   "metadata": {},
   "outputs": [
    {
     "data": {
      "text/plain": [
       "(array([ 31,  56, 119, 142, 146, 198, 248, 277, 303, 306, 340, 391, 494,\n",
       "        498, 531], dtype=int32),)"
      ]
     },
     "execution_count": 57,
     "metadata": {},
     "output_type": "execute_result"
    }
   ],
   "source": []
  },
  {
   "cell_type": "code",
   "execution_count": 48,
   "metadata": {},
   "outputs": [
    {
     "data": {
      "text/plain": [
       "(array([  0,   1,   2,   3,   4,   6,   9,  11,  12,  16,  17,  18,  19,\n",
       "         22,  23,  24,  26,  31,  33,  35,  37,  38,  42,  43,  46,  48,\n",
       "         50,  53,  54,  55,  56,  57,  58,  59,  62,  63,  66,  67,  68,\n",
       "         70,  71,  73,  75,  77,  78,  80,  81,  82,  83,  86,  89,  91,\n",
       "         92,  93,  95,  99, 101, 102, 103, 108, 112, 113, 115, 119, 120,\n",
       "        123, 124, 125, 126, 129, 131, 134, 135, 138, 139, 141, 142, 143,\n",
       "        144, 145, 146, 148, 149, 150, 153, 154, 155, 157, 159, 161, 163,\n",
       "        165, 166, 168, 172, 173, 175, 177, 178, 179, 184, 186, 193, 195,\n",
       "        196, 199, 200, 201, 202, 203, 204, 206, 207, 209, 211, 214, 216,\n",
       "        218, 219, 220, 221, 223, 224, 226, 227, 230, 234, 236, 237, 241,\n",
       "        242, 244, 245, 246, 247, 250, 252, 253, 254, 255, 257, 258, 259,\n",
       "        262, 266, 271, 277, 278, 279, 281, 283, 284, 286, 287, 289, 290,\n",
       "        291, 292, 295, 296, 299, 303, 304, 305, 306, 311, 315, 321, 324,\n",
       "        325, 326, 327, 328, 331, 332, 337, 338, 339, 344, 345, 347, 348,\n",
       "        349, 351, 353, 354, 355, 357, 358, 361, 365, 366, 368, 370, 372,\n",
       "        376, 378, 379, 384, 386, 387, 389, 396, 398, 399, 400, 404, 406,\n",
       "        410, 414, 415, 416, 418, 419, 422, 424, 426, 427, 429, 430, 432,\n",
       "        433, 435, 437, 440, 443, 444, 445, 446, 447, 448, 451, 453, 458,\n",
       "        459, 461, 464, 465, 469, 471, 472, 473, 474, 475, 476, 480, 481,\n",
       "        482, 484, 486, 487, 488, 489, 491, 492, 494, 496, 497, 512, 518,\n",
       "        520, 521, 522, 523, 524, 526, 527, 528, 529, 531, 532, 534, 535,\n",
       "        536, 537, 540, 543, 545, 547, 549, 550, 551, 552, 553, 555],\n",
       "       dtype=int32),)"
      ]
     },
     "execution_count": 48,
     "metadata": {},
     "output_type": "execute_result"
    }
   ],
   "source": [
    "np.where(y_train==0)"
   ]
  },
  {
   "cell_type": "code",
   "execution_count": 56,
   "metadata": {},
   "outputs": [
    {
     "data": {
      "text/plain": [
       "(array([  1,   2,   3,   4,   5,   6,   7,   8,   9,  10,  11,  12,  13,\n",
       "         14,  15,  16,  17,  18,  19,  20,  21,  22,  23,  24,  25,  26,\n",
       "         27,  28,  29,  30,  32,  33,  34,  35,  36,  37,  38,  39,  40,\n",
       "         41,  42,  43,  44,  45,  46,  47,  48,  49,  50,  51,  52,  53,\n",
       "         54,  55,  57,  59,  60,  61,  62,  63,  64,  65,  67,  68,  69,\n",
       "         70,  71,  72,  73,  74,  76,  77,  78,  79,  80,  82,  83,  84,\n",
       "         85,  86,  87,  88,  89,  90,  91,  92,  93,  95,  96,  97,  98,\n",
       "         99, 101, 102, 104, 105, 107, 108, 110, 111, 112, 113, 114, 116,\n",
       "        117, 118, 120, 121, 122, 123, 124, 125, 126, 127, 128, 129, 131,\n",
       "        132, 133, 134, 135, 136, 137, 138, 139, 140, 141, 143, 145, 147,\n",
       "        148, 149, 150, 151, 152, 153, 154, 155, 156, 157, 158, 160, 161,\n",
       "        162, 163, 164, 165, 166, 167, 168, 169, 171, 172, 173, 174, 175,\n",
       "        176, 177, 178, 179, 180, 181, 182, 183, 185, 186, 187, 188, 189,\n",
       "        190, 191, 192, 193, 194, 196, 197, 199, 200, 202, 203, 205, 207,\n",
       "        208, 209, 212, 214, 215, 216, 217, 218, 219, 220, 221, 222, 223,\n",
       "        224, 225, 226, 228, 229, 230, 231, 233, 234, 235, 236, 237, 238,\n",
       "        239, 240, 241, 242, 243, 244, 245, 246, 247, 249, 250, 251, 252,\n",
       "        253, 254, 255, 256, 258, 259, 260, 261, 263, 264, 265, 266, 267,\n",
       "        268, 269, 270, 271, 272, 273, 274, 275, 276, 280, 281, 282, 283,\n",
       "        284, 285, 286, 287, 288, 289, 290, 291, 292, 293, 294, 295, 296,\n",
       "        297, 298, 299, 300, 301, 302, 304, 307, 308, 309, 310, 311, 312,\n",
       "        313, 314, 315, 317, 318, 319, 320, 321, 322, 323, 324, 325, 326,\n",
       "        327, 329, 330, 331, 332, 333, 334, 335, 336, 337, 338, 339, 341,\n",
       "        342, 343, 344, 345, 346, 347, 349, 350, 351, 352, 353, 354, 355,\n",
       "        356, 357, 358, 359, 360, 362, 363, 365, 366, 367, 368, 369, 370,\n",
       "        371, 372, 373, 374, 375, 376, 377, 379, 381, 382, 383, 384, 385,\n",
       "        386, 388, 389, 390, 392, 393, 394, 395, 396, 397, 398, 399, 400,\n",
       "        401, 402, 403, 404, 405, 406, 407, 408, 409, 410, 411, 412, 413,\n",
       "        415, 417, 418, 419, 420, 421, 422, 423, 424, 425, 426, 427, 429,\n",
       "        430, 431, 432, 433, 434, 436, 437, 439, 440, 441, 442, 443, 444,\n",
       "        445, 446, 447, 449, 451, 452, 453, 454, 455, 456, 457, 458, 459,\n",
       "        460, 461, 462, 463, 464, 465, 466, 467, 468, 469, 470, 471, 472,\n",
       "        473, 475, 476, 477, 478, 479, 480, 481, 482, 483, 485, 486, 487,\n",
       "        488, 489, 490, 491, 492, 493, 496, 497, 499, 500, 501, 502, 503,\n",
       "        504, 505, 506, 507, 508, 509, 510, 511, 512, 513, 514, 515, 516,\n",
       "        518, 519, 520, 522, 523, 524, 525, 526, 528, 529, 530, 532, 533,\n",
       "        534, 535, 536, 537, 538, 539, 540, 541, 542, 543, 544, 545, 546,\n",
       "        547, 549, 550, 551, 552, 553, 554, 555], dtype=int32),)"
      ]
     },
     "execution_count": 56,
     "metadata": {},
     "output_type": "execute_result"
    }
   ],
   "source": [
    "np.where(y_kmeans==1)"
   ]
  },
  {
   "cell_type": "code",
   "execution_count": 58,
   "metadata": {},
   "outputs": [
    {
     "data": {
      "text/plain": [
       "(array([  0,  58,  66,  75,  81, 100, 103, 106, 109, 115, 130, 159, 184,\n",
       "        195, 201, 204, 206, 210, 211, 213, 227, 232, 257, 278, 279, 316,\n",
       "        328, 361, 364, 378, 380, 416, 428, 435, 438, 484, 495, 517, 521,\n",
       "        527], dtype=int32),)"
      ]
     },
     "execution_count": 58,
     "metadata": {},
     "output_type": "execute_result"
    }
   ],
   "source": [
    "np.where(y_kmeans==2)"
   ]
  },
  {
   "cell_type": "code",
   "execution_count": 103,
   "metadata": {},
   "outputs": [
    {
     "data": {
      "text/plain": [
       "1088.927299084594"
      ]
     },
     "execution_count": 103,
     "metadata": {},
     "output_type": "execute_result"
    }
   ],
   "source": [
    "kmeans.inertia_"
   ]
  },
  {
   "cell_type": "code",
   "execution_count": 107,
   "metadata": {},
   "outputs": [
    {
     "name": "stdout",
     "output_type": "stream",
     "text": [
      "0\n"
     ]
    },
    {
     "data": {
      "image/png": "[encoded data removed]",
      "text/plain": [
       "<Figure size 432x288 with 1 Axes>"
      ]
     },
     "metadata": {
      "needs_background": "light"
     },
     "output_type": "display_data"
    }
   ],
   "source": [
    "from numpy import unique\n",
    "from numpy import where\n",
    "from sklearn.datasets import make_classification\n",
    "from sklearn.cluster import MeanShift\n",
    "from matplotlib import pyplot\n",
    "# define dataset\n",
    "# X, _ = make_classification(n_samples=1000, n_features=2, n_informative=2, n_redundant=0, n_clusters_per_class=1, random_state=4)\n",
    "# define the model\n",
    "model = MeanShift()\n",
    "# fit model and predict clusters\n",
    "yhat = model.fit_predict(X_train)\n",
    "# retrieve unique clusters\n",
    "clusters = unique(yhat)\n",
    "# create scatter plot for samples from each cluster\n",
    "print(cluster)\n",
    "for cluster in clusters:\n",
    "\t# get row indexes for samples with this cluster\n",
    "\trow_ix = where(yhat == cluster)\n",
    "\t# create scatter of these samples\n",
    "\tpyplot.scatter(X_train[row_ix, 0], X_train[row_ix, 1])\n",
    "# show the plot\n",
    "pyplot.show()"
   ]
  },
  {
   "cell_type": "code",
   "execution_count": 109,
   "metadata": {},
   "outputs": [
    {
     "data": {
      "text/plain": [
       "array([[ 0.51331481,  0.53806894],\n",
       "       [ 1.74486445, -1.38281875],\n",
       "       [-0.66655208,  1.82542269],\n",
       "       ...,\n",
       "       [ 0.81132086,  2.02751886],\n",
       "       [ 0.65609839,  0.57761195],\n",
       "       [-2.18247114,  0.2011168 ]])"
      ]
     },
     "execution_count": 109,
     "metadata": {},
     "output_type": "execute_result"
    }
   ],
   "source": [
    "X_train"
   ]
  },
  {
   "cell_type": "code",
   "execution_count": 8,
   "metadata": {},
   "outputs": [],
   "source": [
    "import numpy as np\n",
    "import sklearn as sk\n",
    "import pandas as pd\n",
    "from sklearn.cluster import KMeans\n",
    "from time import time\n",
    "import matplotlib.pyplot as plt\n",
    "from sklearn import metrics\n",
    "from sklearn.cluster import KMeans\n",
    "from sklearn.datasets import load_digits\n",
    "from sklearn.decomposition import PCA\n",
    "from sklearn.preprocessing import scale\n",
    "from sklearn.model_selection import train_test_split\n",
    "import seaborn as sns"
   ]
  },
  {
   "cell_type": "code",
   "execution_count": 2,
   "metadata": {},
   "outputs": [
    {
     "data": {
      "text/html": [
       "<div>\n",
       "<style scoped>\n",
       "    .dataframe tbody tr th:only-of-type {\n",
       "        vertical-align: middle;\n",
       "    }\n",
       "\n",
       "    .dataframe tbody tr th {\n",
       "        vertical-align: top;\n",
       "    }\n",
       "\n",
       "    .dataframe thead th {\n",
       "        text-align: right;\n",
       "    }\n",
       "</style>\n",
       "<table border=\"1\" class=\"dataframe\">\n",
       "  <thead>\n",
       "    <tr style=\"text-align: right;\">\n",
       "      <th></th>\n",
       "      <th>Timestamp</th>\n",
       "      <th>Which age group you belong to?</th>\n",
       "      <th>Location(From which state you are?)</th>\n",
       "      <th>Is it difficult to get essentials(food/medicine)?</th>\n",
       "      <th>What is your gender?</th>\n",
       "      <th>How you ever felt symptoms of COVID?</th>\n",
       "      <th>Do you have any of the following conditions?</th>\n",
       "      <th>During the lockdown have you been doing more household work?</th>\n",
       "      <th>Have you or anyone you know have corona virus/recovered from COVID/been tested for COVID?</th>\n",
       "      <th>How often do you use masks/hand sanitizers(per day)?</th>\n",
       "      <th>...</th>\n",
       "      <th>Over the last 2 weeks, how often have you been bothered by being so restless that it is hard to sit still?</th>\n",
       "      <th>Over the last 2 weeks, how often have you been bothered by trouble relaxing?</th>\n",
       "      <th>Over the last 2 weeks, how often have you been bothered by becoming easily an0yed or irritable?</th>\n",
       "      <th>Over the last 2 weeks, how often have you been bothered by feeling afraid as if something awful might happen?</th>\n",
       "      <th>Anxiety Numerical</th>\n",
       "      <th>Level Of Anxiety</th>\n",
       "      <th>Unnamed: 35</th>\n",
       "      <th>Unnamed: 36</th>\n",
       "      <th>Unnamed: 37</th>\n",
       "      <th>Unnamed: 38</th>\n",
       "    </tr>\n",
       "  </thead>\n",
       "  <tbody>\n",
       "    <tr>\n",
       "      <th>0</th>\n",
       "      <td>2020-06-19 13:39:55.750</td>\n",
       "      <td>2</td>\n",
       "      <td>1</td>\n",
       "      <td>0</td>\n",
       "      <td>1</td>\n",
       "      <td>0</td>\n",
       "      <td>0</td>\n",
       "      <td>1</td>\n",
       "      <td>1</td>\n",
       "      <td>0</td>\n",
       "      <td>...</td>\n",
       "      <td>0</td>\n",
       "      <td>0</td>\n",
       "      <td>1</td>\n",
       "      <td>0</td>\n",
       "      <td>2</td>\n",
       "      <td>0</td>\n",
       "      <td>NaN</td>\n",
       "      <td>NaN</td>\n",
       "      <td>NaN</td>\n",
       "      <td>NaN</td>\n",
       "    </tr>\n",
       "    <tr>\n",
       "      <th>1</th>\n",
       "      <td>2020-06-19 13:40:56.063</td>\n",
       "      <td>2</td>\n",
       "      <td>1</td>\n",
       "      <td>0</td>\n",
       "      <td>1</td>\n",
       "      <td>0</td>\n",
       "      <td>0</td>\n",
       "      <td>0</td>\n",
       "      <td>0</td>\n",
       "      <td>0</td>\n",
       "      <td>...</td>\n",
       "      <td>1</td>\n",
       "      <td>1</td>\n",
       "      <td>0</td>\n",
       "      <td>1</td>\n",
       "      <td>5</td>\n",
       "      <td>1</td>\n",
       "      <td>NaN</td>\n",
       "      <td>NaN</td>\n",
       "      <td>NaN</td>\n",
       "      <td>NaN</td>\n",
       "    </tr>\n",
       "    <tr>\n",
       "      <th>2</th>\n",
       "      <td>2020-06-19 13:42:22.938</td>\n",
       "      <td>2</td>\n",
       "      <td>1</td>\n",
       "      <td>0</td>\n",
       "      <td>1</td>\n",
       "      <td>0</td>\n",
       "      <td>0</td>\n",
       "      <td>1</td>\n",
       "      <td>0</td>\n",
       "      <td>0</td>\n",
       "      <td>...</td>\n",
       "      <td>0</td>\n",
       "      <td>1</td>\n",
       "      <td>2</td>\n",
       "      <td>1</td>\n",
       "      <td>10</td>\n",
       "      <td>2</td>\n",
       "      <td>NaN</td>\n",
       "      <td>NaN</td>\n",
       "      <td>NaN</td>\n",
       "      <td>NaN</td>\n",
       "    </tr>\n",
       "    <tr>\n",
       "      <th>3</th>\n",
       "      <td>2020-06-19 13:51:35.532</td>\n",
       "      <td>2</td>\n",
       "      <td>1</td>\n",
       "      <td>0</td>\n",
       "      <td>0</td>\n",
       "      <td>0</td>\n",
       "      <td>0</td>\n",
       "      <td>0</td>\n",
       "      <td>1</td>\n",
       "      <td>1</td>\n",
       "      <td>...</td>\n",
       "      <td>0</td>\n",
       "      <td>0</td>\n",
       "      <td>0</td>\n",
       "      <td>0</td>\n",
       "      <td>0</td>\n",
       "      <td>0</td>\n",
       "      <td>NaN</td>\n",
       "      <td>NaN</td>\n",
       "      <td>NaN</td>\n",
       "      <td>NaN</td>\n",
       "    </tr>\n",
       "    <tr>\n",
       "      <th>4</th>\n",
       "      <td>2020-06-19 13:51:44.612</td>\n",
       "      <td>2</td>\n",
       "      <td>1</td>\n",
       "      <td>0</td>\n",
       "      <td>1</td>\n",
       "      <td>0</td>\n",
       "      <td>0</td>\n",
       "      <td>0</td>\n",
       "      <td>1</td>\n",
       "      <td>1</td>\n",
       "      <td>...</td>\n",
       "      <td>0</td>\n",
       "      <td>0</td>\n",
       "      <td>0</td>\n",
       "      <td>1</td>\n",
       "      <td>1</td>\n",
       "      <td>0</td>\n",
       "      <td>NaN</td>\n",
       "      <td>NaN</td>\n",
       "      <td>NaN</td>\n",
       "      <td>NaN</td>\n",
       "    </tr>\n",
       "  </tbody>\n",
       "</table>\n",
       "<p>5 rows × 39 columns</p>\n",
       "</div>"
      ],
      "text/plain": [
       "                Timestamp  Which age group you belong to?  \\\n",
       "0 2020-06-19 13:39:55.750                               2   \n",
       "1 2020-06-19 13:40:56.063                               2   \n",
       "2 2020-06-19 13:42:22.938                               2   \n",
       "3 2020-06-19 13:51:35.532                               2   \n",
       "4 2020-06-19 13:51:44.612                               2   \n",
       "\n",
       "   Location(From which state you are?)  \\\n",
       "0                                    1   \n",
       "1                                    1   \n",
       "2                                    1   \n",
       "3                                    1   \n",
       "4                                    1   \n",
       "\n",
       "   Is it difficult to get essentials(food/medicine)?  What is your gender?  \\\n",
       "0                                                  0                     1   \n",
       "1                                                  0                     1   \n",
       "2                                                  0                     1   \n",
       "3                                                  0                     0   \n",
       "4                                                  0                     1   \n",
       "\n",
       "   How you ever felt symptoms of COVID?   \\\n",
       "0                                      0   \n",
       "1                                      0   \n",
       "2                                      0   \n",
       "3                                      0   \n",
       "4                                      0   \n",
       "\n",
       "   Do you have any of the following conditions?  \\\n",
       "0                                             0   \n",
       "1                                             0   \n",
       "2                                             0   \n",
       "3                                             0   \n",
       "4                                             0   \n",
       "\n",
       "   During the lockdown have you been doing more household work?  \\\n",
       "0                                                  1              \n",
       "1                                                  0              \n",
       "2                                                  1              \n",
       "3                                                  0              \n",
       "4                                                  0              \n",
       "\n",
       "   Have you or anyone you know have corona virus/recovered from COVID/been tested for COVID?   \\\n",
       "0                                                  1                                            \n",
       "1                                                  0                                            \n",
       "2                                                  0                                            \n",
       "3                                                  1                                            \n",
       "4                                                  1                                            \n",
       "\n",
       "   How often do you use masks/hand sanitizers(per day)?  ...  \\\n",
       "0                                                  0     ...   \n",
       "1                                                  0     ...   \n",
       "2                                                  0     ...   \n",
       "3                                                  1     ...   \n",
       "4                                                  1     ...   \n",
       "\n",
       "   Over the last 2 weeks, how often have you been bothered by being so restless that it is hard to sit still?  \\\n",
       "0                                                  0                                                            \n",
       "1                                                  1                                                            \n",
       "2                                                  0                                                            \n",
       "3                                                  0                                                            \n",
       "4                                                  0                                                            \n",
       "\n",
       "   Over the last 2 weeks, how often have you been bothered by trouble relaxing?  \\\n",
       "0                                                  0                              \n",
       "1                                                  1                              \n",
       "2                                                  1                              \n",
       "3                                                  0                              \n",
       "4                                                  0                              \n",
       "\n",
       "   Over the last 2 weeks, how often have you been bothered by becoming easily an0yed or irritable?  \\\n",
       "0                                                  1                                                 \n",
       "1                                                  0                                                 \n",
       "2                                                  2                                                 \n",
       "3                                                  0                                                 \n",
       "4                                                  0                                                 \n",
       "\n",
       "   Over the last 2 weeks, how often have you been bothered by feeling afraid as if something awful might happen?  \\\n",
       "0                                                  0                                                               \n",
       "1                                                  1                                                               \n",
       "2                                                  1                                                               \n",
       "3                                                  0                                                               \n",
       "4                                                  1                                                               \n",
       "\n",
       "   Anxiety Numerical   Level Of Anxiety   Unnamed: 35  Unnamed: 36  \\\n",
       "0                   2                  0          NaN          NaN   \n",
       "1                   5                  1          NaN          NaN   \n",
       "2                  10                  2          NaN          NaN   \n",
       "3                   0                  0          NaN          NaN   \n",
       "4                   1                  0          NaN          NaN   \n",
       "\n",
       "   Unnamed: 37  Unnamed: 38  \n",
       "0          NaN          NaN  \n",
       "1          NaN          NaN  \n",
       "2          NaN          NaN  \n",
       "3          NaN          NaN  \n",
       "4          NaN          NaN  \n",
       "\n",
       "[5 rows x 39 columns]"
      ]
     },
     "execution_count": 2,
     "metadata": {},
     "output_type": "execute_result"
    }
   ],
   "source": [
    "df=pd.read_excel('./../myproj/Survey.xlsx',nrows=830)\n",
    "df.head()"
   ]
  },
  {
   "cell_type": "code",
   "execution_count": 38,
   "metadata": {},
   "outputs": [],
   "source": [
    "X= df[['Location(From which state you are?)',\n",
    "      'Is it difficult to get essentials(food/medicine)?',\n",
    "      'Do you feel like you have wasted your time during the lock down or have you ever felt pressurized by your peer’s accomplishments during the lock down?',\n",
    "      'Has your sleep cycle changed drastically?',\n",
    "      'Have you ever felt afraid or anxious to go to hospital during this pandemic?',\n",
    "      'Are you stuck somewhere alone without support from friends or family? ',\n",
    "      'Do you miss hanging out with people outside of your house?',\n",
    "      'Have you been affected by not being able to visit religious places?',\n",
    "      'How often do you eat outside food? (per week) ',\n",
    "      'Are you in a containment zone? ',\n",
    "      'Do you have any of the following conditions?',\n",
    "      'Have you felt frustrated by having your activities, major life events or opportunities affected by the virus? ']]"
   ]
  },
  {
   "cell_type": "code",
   "execution_count": 57,
   "metadata": {},
   "outputs": [],
   "source": [
    "kmeans = KMeans(init='k-means++', n_clusters=4, n_init=10)\n",
    "y_kmeans=kmeans.fit_predict(X)"
   ]
  },
  {
   "cell_type": "code",
   "execution_count": 40,
   "metadata": {},
   "outputs": [
    {
     "data": {
      "text/plain": [
       "1790.02383215091"
      ]
     },
     "execution_count": 40,
     "metadata": {},
     "output_type": "execute_result"
    }
   ],
   "source": [
    "kmeans.inertia_"
   ]
  },
  {
   "cell_type": "code",
   "execution_count": 46,
   "metadata": {},
   "outputs": [
    {
     "data": {
      "image/png": "[encoded data removed]",
      "text/plain": [
       "<Figure size 432x288 with 1 Axes>"
      ]
     },
     "metadata": {
      "needs_background": "light"
     },
     "output_type": "display_data"
    }
   ],
   "source": [
    "sns.scatterplot(x=X[\"Location(From which state you are?)\"],y=X[\"Do you feel like you have wasted your time during the lock down or have you ever felt pressurized by your peer’s accomplishments during the lock down?\"],hue=y_kmeans,data=X)\n",
    "plt.xlabel('Location')\n",
    "plt.ylabel('Wated time')\n",
    "plt.title('Gaussian Mixture Models')\n",
    "plt.show()"
   ]
  },
  {
   "cell_type": "code",
   "execution_count": 51,
   "metadata": {},
   "outputs": [
    {
     "data": {
      "image/png": "[encoded data removed]",
      "text/plain": [
       "<Figure size 432x288 with 1 Axes>"
      ]
     },
     "metadata": {
      "needs_background": "light"
     },
     "output_type": "display_data"
    }
   ],
   "source": [
    "sns.scatterplot(x=X[\"Has your sleep cycle changed drastically?\"],y=X[\"Do you feel like you have wasted your time during the lock down or have you ever felt pressurized by your peer’s accomplishments during the lock down?\"],hue=y_kmeans,data=X)\n",
    "plt.xlabel('Location')\n",
    "plt.ylabel('Sleep cycle')\n",
    "plt.title('Gaussian Mixture Models')\n",
    "plt.show()"
   ]
  },
  {
   "cell_type": "code",
   "execution_count": 58,
   "metadata": {},
   "outputs": [
    {
     "data": {
      "image/png": "[encoded data removed]",
      "text/plain": [
       "<Figure size 432x288 with 1 Axes>"
      ]
     },
     "metadata": {
      "needs_background": "light"
     },
     "output_type": "display_data"
    }
   ],
   "source": [
    "reduced_data=reduced_data=PCA(n_components=3).fit_transform(X)\n",
    "results=pd.DataFrame(reduced_data,columns=['pca1','pca2','pca3'])\n",
    "sns.scatterplot(x='pca2',y='pca3',hue=y_kmeans,data=results)\n",
    "plt.xlabel('pca2')\n",
    "plt.ylabel('pca3')\n",
    "plt.title('K-means')\n",
    "plt.show()"
   ]
  },
  {
   "cell_type": "code",
   "execution_count": 60,
   "metadata": {},
   "outputs": [],
   "source": [
    "kmeans = KMeans(init='k-means++', n_clusters=2, n_init=10)\n",
    "y_kmeans=kmeans.fit_predict(X)"
   ]
  },
  {
   "cell_type": "code",
   "execution_count": 61,
   "metadata": {},
   "outputs": [
    {
     "data": {
      "image/png": "[encoded data removed]",
      "text/plain": [
       "<Figure size 432x288 with 1 Axes>"
      ]
     },
     "metadata": {
      "needs_background": "light"
     },
     "output_type": "display_data"
    }
   ],
   "source": [
    "reduced_data=reduced_data=PCA(n_components=3).fit_transform(X)\n",
    "results=pd.DataFrame(reduced_data,columns=['pca1','pca2','pca3'])\n",
    "sns.scatterplot(x='pca1',y='pca2',hue=y_kmeans,data=results)\n",
    "plt.xlabel('pca1')\n",
    "plt.ylabel('pca2')\n",
    "plt.title('K-means')\n",
    "plt.show()"
   ]
  },
  {
   "cell_type": "code",
   "execution_count": 1,
   "metadata": {},
   "outputs": [
    {
     "ename": "NameError",
     "evalue": "name 'KMeans' is not defined",
     "output_type": "error",
     "traceback": [
      "\u001b[1;31m---------------------------------------------------------------------------\u001b[0m",
      "\u001b[1;31mNameError\u001b[0m                                 Traceback (most recent call last)",
      "\u001b[1;32m<ipython-input-1-b6988606d6c6>\u001b[0m in \u001b[0;36m<module>\u001b[1;34m\u001b[0m\n\u001b[1;32m----> 1\u001b[1;33m \u001b[0mkmeans\u001b[0m \u001b[1;33m=\u001b[0m \u001b[0mKMeans\u001b[0m\u001b[1;33m(\u001b[0m\u001b[0minit\u001b[0m\u001b[1;33m=\u001b[0m\u001b[1;34m'k-means++'\u001b[0m\u001b[1;33m,\u001b[0m \u001b[0mn_clusters\u001b[0m\u001b[1;33m=\u001b[0m\u001b[1;36m2\u001b[0m\u001b[1;33m,\u001b[0m \u001b[0mn_init\u001b[0m\u001b[1;33m=\u001b[0m\u001b[1;36m10\u001b[0m\u001b[1;33m)\u001b[0m\u001b[1;33m\u001b[0m\u001b[1;33m\u001b[0m\u001b[0m\n\u001b[0m\u001b[0;32m      2\u001b[0m \u001b[0my_kmeans\u001b[0m\u001b[1;33m=\u001b[0m\u001b[0mkmeans\u001b[0m\u001b[1;33m.\u001b[0m\u001b[0mfit_predict\u001b[0m\u001b[1;33m(\u001b[0m\u001b[0mX\u001b[0m\u001b[1;33m)\u001b[0m\u001b[1;33m\u001b[0m\u001b[1;33m\u001b[0m\u001b[0m\n\u001b[0;32m      3\u001b[0m \u001b[0mreduced_data\u001b[0m\u001b[1;33m=\u001b[0m\u001b[0mreduced_data\u001b[0m\u001b[1;33m=\u001b[0m\u001b[0mPCA\u001b[0m\u001b[1;33m(\u001b[0m\u001b[0mn_components\u001b[0m\u001b[1;33m=\u001b[0m\u001b[1;36m3\u001b[0m\u001b[1;33m)\u001b[0m\u001b[1;33m.\u001b[0m\u001b[0mfit_transform\u001b[0m\u001b[1;33m(\u001b[0m\u001b[0mX\u001b[0m\u001b[1;33m)\u001b[0m\u001b[1;33m\u001b[0m\u001b[1;33m\u001b[0m\u001b[0m\n\u001b[0;32m      4\u001b[0m \u001b[0mresults\u001b[0m\u001b[1;33m=\u001b[0m\u001b[0mpd\u001b[0m\u001b[1;33m.\u001b[0m\u001b[0mDataFrame\u001b[0m\u001b[1;33m(\u001b[0m\u001b[0mreduced_data\u001b[0m\u001b[1;33m,\u001b[0m\u001b[0mcolumns\u001b[0m\u001b[1;33m=\u001b[0m\u001b[1;33m[\u001b[0m\u001b[1;34m'pca1'\u001b[0m\u001b[1;33m,\u001b[0m\u001b[1;34m'pca2'\u001b[0m\u001b[1;33m,\u001b[0m\u001b[1;34m'pca3'\u001b[0m\u001b[1;33m]\u001b[0m\u001b[1;33m)\u001b[0m\u001b[1;33m\u001b[0m\u001b[1;33m\u001b[0m\u001b[0m\n\u001b[0;32m      5\u001b[0m \u001b[0msns\u001b[0m\u001b[1;33m.\u001b[0m\u001b[0mscatterplot\u001b[0m\u001b[1;33m(\u001b[0m\u001b[0mx\u001b[0m\u001b[1;33m=\u001b[0m\u001b[1;34m'pca1'\u001b[0m\u001b[1;33m,\u001b[0m\u001b[0my\u001b[0m\u001b[1;33m=\u001b[0m\u001b[1;34m'pca2'\u001b[0m\u001b[1;33m,\u001b[0m\u001b[0mhue\u001b[0m\u001b[1;33m=\u001b[0m\u001b[0my_kmeans\u001b[0m\u001b[1;33m,\u001b[0m\u001b[0mdata\u001b[0m\u001b[1;33m=\u001b[0m\u001b[0mresults\u001b[0m\u001b[1;33m)\u001b[0m\u001b[1;33m\u001b[0m\u001b[1;33m\u001b[0m\u001b[0m\n",
      "\u001b[1;31mNameError\u001b[0m: name 'KMeans' is not defined"
     ]
    }
   ],
   "source": [
    "kmeans = KMeans(init='k-means++', n_clusters=2, n_init=10)\n",
    "y_kmeans=kmeans.fit_predict(X)\n",
    "reduced_data=reduced_data=PCA(n_components=3).fit_transform(X)\n",
    "results=pd.DataFrame(reduced_data,columns=['pca1','pca2','pca3'])\n",
    "sns.scatterplot(x='pca1',y='pca2',hue=y_kmeans,data=results)\n",
    "plt.xlabel('pca1')\n",
    "plt.ylabel('pca2')\n",
    "plt.title('K-means')\n",
    "plt.show()"
   ]
  },
  {
   "cell_type": "code",
   "execution_count": null,
   "metadata": {},
   "outputs": [],
   "source": []
  }
 ],
 "metadata": {
  "kernelspec": {
   "display_name": "Python 3",
   "language": "python",
   "name": "python3"
  },
  "language_info": {
   "codemirror_mode": {
    "name": "ipython",
    "version": 3
   },
   "file_extension": ".py",
   "mimetype": "text/x-python",
   "name": "python",
   "nbconvert_exporter": "python",
   "pygments_lexer": "ipython3",
   "version": "3.8.2"
  }
 },
 "nbformat": 4,
 "nbformat_minor": 4
}

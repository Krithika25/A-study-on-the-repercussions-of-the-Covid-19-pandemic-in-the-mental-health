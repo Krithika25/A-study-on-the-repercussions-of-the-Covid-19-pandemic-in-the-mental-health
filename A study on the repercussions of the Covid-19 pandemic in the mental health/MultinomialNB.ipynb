{
 "cells": [
  {
   "cell_type": "code",
   "execution_count": 5,
   "metadata": {},
   "outputs": [],
   "source": [
    "import numpy as np\n",
    "import pandas as pd\n",
    "from sklearn.naive_bayes import MultinomialNB\n",
    "from sklearn.model_selection import train_test_split"
   ]
  },
  {
   "cell_type": "code",
   "execution_count": 3,
   "metadata": {},
   "outputs": [],
   "source": [
    "df=pd.read_excel('./../myproj/Survey.xlsx',nrows=830)\n",
    "df=df.loc[df['Which age group you belong to?']==2]"
   ]
  },
  {
   "cell_type": "code",
   "execution_count": 4,
   "metadata": {},
   "outputs": [
    {
     "data": {
      "text/html": [
       "<div>\n",
       "<style scoped>\n",
       "    .dataframe tbody tr th:only-of-type {\n",
       "        vertical-align: middle;\n",
       "    }\n",
       "\n",
       "    .dataframe tbody tr th {\n",
       "        vertical-align: top;\n",
       "    }\n",
       "\n",
       "    .dataframe thead th {\n",
       "        text-align: right;\n",
       "    }\n",
       "</style>\n",
       "<table border=\"1\" class=\"dataframe\">\n",
       "  <thead>\n",
       "    <tr style=\"text-align: right;\">\n",
       "      <th></th>\n",
       "      <th>Timestamp</th>\n",
       "      <th>Which age group you belong to?</th>\n",
       "      <th>Location(From which state you are?)</th>\n",
       "      <th>Is it difficult to get essentials(food/medicine)?</th>\n",
       "      <th>What is your gender?</th>\n",
       "      <th>How you ever felt symptoms of COVID?</th>\n",
       "      <th>Do you have any of the following conditions?</th>\n",
       "      <th>During the lockdown have you been doing more household work?</th>\n",
       "      <th>Have you or anyone you know have corona virus/recovered from COVID/been tested for COVID?</th>\n",
       "      <th>How often do you use masks/hand sanitizers(per day)?</th>\n",
       "      <th>...</th>\n",
       "      <th>Over the last 2 weeks, how often have you been bothered by being so restless that it is hard to sit still?</th>\n",
       "      <th>Over the last 2 weeks, how often have you been bothered by trouble relaxing?</th>\n",
       "      <th>Over the last 2 weeks, how often have you been bothered by becoming easily an0yed or irritable?</th>\n",
       "      <th>Over the last 2 weeks, how often have you been bothered by feeling afraid as if something awful might happen?</th>\n",
       "      <th>Anxiety Numerical</th>\n",
       "      <th>Level Of Anxiety</th>\n",
       "      <th>Unnamed: 35</th>\n",
       "      <th>Unnamed: 36</th>\n",
       "      <th>Unnamed: 37</th>\n",
       "      <th>Unnamed: 38</th>\n",
       "    </tr>\n",
       "  </thead>\n",
       "  <tbody>\n",
       "    <tr>\n",
       "      <th>0</th>\n",
       "      <td>2020-06-19 13:39:55.750</td>\n",
       "      <td>2</td>\n",
       "      <td>1</td>\n",
       "      <td>0</td>\n",
       "      <td>1</td>\n",
       "      <td>0</td>\n",
       "      <td>0</td>\n",
       "      <td>1</td>\n",
       "      <td>1</td>\n",
       "      <td>0</td>\n",
       "      <td>...</td>\n",
       "      <td>0</td>\n",
       "      <td>0</td>\n",
       "      <td>1</td>\n",
       "      <td>0</td>\n",
       "      <td>2</td>\n",
       "      <td>0</td>\n",
       "      <td>NaN</td>\n",
       "      <td>NaN</td>\n",
       "      <td>NaN</td>\n",
       "      <td>NaN</td>\n",
       "    </tr>\n",
       "    <tr>\n",
       "      <th>1</th>\n",
       "      <td>2020-06-19 13:40:56.063</td>\n",
       "      <td>2</td>\n",
       "      <td>1</td>\n",
       "      <td>0</td>\n",
       "      <td>1</td>\n",
       "      <td>0</td>\n",
       "      <td>0</td>\n",
       "      <td>0</td>\n",
       "      <td>0</td>\n",
       "      <td>0</td>\n",
       "      <td>...</td>\n",
       "      <td>1</td>\n",
       "      <td>1</td>\n",
       "      <td>0</td>\n",
       "      <td>1</td>\n",
       "      <td>5</td>\n",
       "      <td>1</td>\n",
       "      <td>NaN</td>\n",
       "      <td>NaN</td>\n",
       "      <td>NaN</td>\n",
       "      <td>NaN</td>\n",
       "    </tr>\n",
       "    <tr>\n",
       "      <th>2</th>\n",
       "      <td>2020-06-19 13:42:22.938</td>\n",
       "      <td>2</td>\n",
       "      <td>1</td>\n",
       "      <td>0</td>\n",
       "      <td>1</td>\n",
       "      <td>0</td>\n",
       "      <td>0</td>\n",
       "      <td>1</td>\n",
       "      <td>0</td>\n",
       "      <td>0</td>\n",
       "      <td>...</td>\n",
       "      <td>0</td>\n",
       "      <td>1</td>\n",
       "      <td>2</td>\n",
       "      <td>1</td>\n",
       "      <td>10</td>\n",
       "      <td>2</td>\n",
       "      <td>NaN</td>\n",
       "      <td>NaN</td>\n",
       "      <td>NaN</td>\n",
       "      <td>NaN</td>\n",
       "    </tr>\n",
       "    <tr>\n",
       "      <th>3</th>\n",
       "      <td>2020-06-19 13:51:35.532</td>\n",
       "      <td>2</td>\n",
       "      <td>1</td>\n",
       "      <td>0</td>\n",
       "      <td>0</td>\n",
       "      <td>0</td>\n",
       "      <td>0</td>\n",
       "      <td>0</td>\n",
       "      <td>1</td>\n",
       "      <td>1</td>\n",
       "      <td>...</td>\n",
       "      <td>0</td>\n",
       "      <td>0</td>\n",
       "      <td>0</td>\n",
       "      <td>0</td>\n",
       "      <td>0</td>\n",
       "      <td>0</td>\n",
       "      <td>NaN</td>\n",
       "      <td>NaN</td>\n",
       "      <td>NaN</td>\n",
       "      <td>NaN</td>\n",
       "    </tr>\n",
       "    <tr>\n",
       "      <th>4</th>\n",
       "      <td>2020-06-19 13:51:44.612</td>\n",
       "      <td>2</td>\n",
       "      <td>1</td>\n",
       "      <td>0</td>\n",
       "      <td>1</td>\n",
       "      <td>0</td>\n",
       "      <td>0</td>\n",
       "      <td>0</td>\n",
       "      <td>1</td>\n",
       "      <td>1</td>\n",
       "      <td>...</td>\n",
       "      <td>0</td>\n",
       "      <td>0</td>\n",
       "      <td>0</td>\n",
       "      <td>1</td>\n",
       "      <td>1</td>\n",
       "      <td>0</td>\n",
       "      <td>NaN</td>\n",
       "      <td>NaN</td>\n",
       "      <td>NaN</td>\n",
       "      <td>NaN</td>\n",
       "    </tr>\n",
       "  </tbody>\n",
       "</table>\n",
       "<p>5 rows × 39 columns</p>\n",
       "</div>"
      ],
      "text/plain": [
       "                Timestamp  Which age group you belong to?  \\\n",
       "0 2020-06-19 13:39:55.750                               2   \n",
       "1 2020-06-19 13:40:56.063                               2   \n",
       "2 2020-06-19 13:42:22.938                               2   \n",
       "3 2020-06-19 13:51:35.532                               2   \n",
       "4 2020-06-19 13:51:44.612                               2   \n",
       "\n",
       "   Location(From which state you are?)  \\\n",
       "0                                    1   \n",
       "1                                    1   \n",
       "2                                    1   \n",
       "3                                    1   \n",
       "4                                    1   \n",
       "\n",
       "   Is it difficult to get essentials(food/medicine)?  What is your gender?  \\\n",
       "0                                                  0                     1   \n",
       "1                                                  0                     1   \n",
       "2                                                  0                     1   \n",
       "3                                                  0                     0   \n",
       "4                                                  0                     1   \n",
       "\n",
       "   How you ever felt symptoms of COVID?   \\\n",
       "0                                      0   \n",
       "1                                      0   \n",
       "2                                      0   \n",
       "3                                      0   \n",
       "4                                      0   \n",
       "\n",
       "   Do you have any of the following conditions?  \\\n",
       "0                                             0   \n",
       "1                                             0   \n",
       "2                                             0   \n",
       "3                                             0   \n",
       "4                                             0   \n",
       "\n",
       "   During the lockdown have you been doing more household work?  \\\n",
       "0                                                  1              \n",
       "1                                                  0              \n",
       "2                                                  1              \n",
       "3                                                  0              \n",
       "4                                                  0              \n",
       "\n",
       "   Have you or anyone you know have corona virus/recovered from COVID/been tested for COVID?   \\\n",
       "0                                                  1                                            \n",
       "1                                                  0                                            \n",
       "2                                                  0                                            \n",
       "3                                                  1                                            \n",
       "4                                                  1                                            \n",
       "\n",
       "   How often do you use masks/hand sanitizers(per day)?  ...  \\\n",
       "0                                                  0     ...   \n",
       "1                                                  0     ...   \n",
       "2                                                  0     ...   \n",
       "3                                                  1     ...   \n",
       "4                                                  1     ...   \n",
       "\n",
       "   Over the last 2 weeks, how often have you been bothered by being so restless that it is hard to sit still?  \\\n",
       "0                                                  0                                                            \n",
       "1                                                  1                                                            \n",
       "2                                                  0                                                            \n",
       "3                                                  0                                                            \n",
       "4                                                  0                                                            \n",
       "\n",
       "   Over the last 2 weeks, how often have you been bothered by trouble relaxing?  \\\n",
       "0                                                  0                              \n",
       "1                                                  1                              \n",
       "2                                                  1                              \n",
       "3                                                  0                              \n",
       "4                                                  0                              \n",
       "\n",
       "   Over the last 2 weeks, how often have you been bothered by becoming easily an0yed or irritable?  \\\n",
       "0                                                  1                                                 \n",
       "1                                                  0                                                 \n",
       "2                                                  2                                                 \n",
       "3                                                  0                                                 \n",
       "4                                                  0                                                 \n",
       "\n",
       "   Over the last 2 weeks, how often have you been bothered by feeling afraid as if something awful might happen?  \\\n",
       "0                                                  0                                                               \n",
       "1                                                  1                                                               \n",
       "2                                                  1                                                               \n",
       "3                                                  0                                                               \n",
       "4                                                  1                                                               \n",
       "\n",
       "   Anxiety Numerical   Level Of Anxiety   Unnamed: 35  Unnamed: 36  \\\n",
       "0                   2                  0          NaN          NaN   \n",
       "1                   5                  1          NaN          NaN   \n",
       "2                  10                  2          NaN          NaN   \n",
       "3                   0                  0          NaN          NaN   \n",
       "4                   1                  0          NaN          NaN   \n",
       "\n",
       "   Unnamed: 37  Unnamed: 38  \n",
       "0          NaN          NaN  \n",
       "1          NaN          NaN  \n",
       "2          NaN          NaN  \n",
       "3          NaN          NaN  \n",
       "4          NaN          NaN  \n",
       "\n",
       "[5 rows x 39 columns]"
      ]
     },
     "execution_count": 4,
     "metadata": {},
     "output_type": "execute_result"
    }
   ],
   "source": [
    "df.head()"
   ]
  },
  {
   "cell_type": "code",
   "execution_count": 82,
   "metadata": {},
   "outputs": [],
   "source": [
    "X=df[[ 'Location(From which state you are?)',\n",
    "       'Is it difficult to get essentials(food/medicine)?',\n",
    "       'What is your gender?', 'How you ever felt symptoms of COVID? ',\n",
    "       'Do you have any of the following conditions?',\n",
    "       'During the lockdown have you been doing more household work?',\n",
    "       'Have you or anyone you know have corona virus/recovered from COVID/been tested for COVID? ',\n",
    "       'How often do you use masks/hand sanitizers(per day)?',\n",
    "       'Do you feel like you have wasted your time during the lock down or have you ever felt pressurized by your peer’s accomplishments during the lock down?',\n",
    "       'How often do you eat outside food? (per week) ',\n",
    "       'Are you in a containment zone? ',\n",
    "       'Are you stuck somewhere alone without support from friends or family? ',\n",
    "       'Do you have children less than 3 yrs, or elders 65+ at your house?',\n",
    "       'Have you ever felt afraid or anxious to go to hospital during this pandemic?',\n",
    "       'Has your sleep cycle changed drastically?',\n",
    "       'Have you felt frustrated by having your activities, major life events or opportunities affected by the virus? ',\n",
    "       'Is someone from your family in the medical field everyday?',\n",
    "       'Do you have online classes/assignments/assessments/tests? ',\n",
    "       'Did you face a pay cut/job loss/take a0ther job to cover expenses?',\n",
    "       'How often do you leave your house?(per week) ',\n",
    "       'How often do you interact with people outside your house(friends,neighbors etc.,)?',\n",
    "       'Have you taken any medication to prevent corona(Chloroquine or kabasura kudineer) or any medication to increase your immunity?',\n",
    "       'Have you been affected by not being able to visit religious places?',\n",
    "       'Do you miss hanging out with people outside of your house?']]"
   ]
  },
  {
   "cell_type": "code",
   "execution_count": 83,
   "metadata": {},
   "outputs": [],
   "source": [
    "y=df['Over the last 2 weeks, how often have you been bothered by feeling nervous, anxious, or on edge?']"
   ]
  },
  {
   "cell_type": "code",
   "execution_count": 84,
   "metadata": {},
   "outputs": [],
   "source": [
    "X_train,X_test,y_train,y_test=train_test_split(X,y,test_size=0.09)"
   ]
  },
  {
   "cell_type": "code",
   "execution_count": 85,
   "metadata": {},
   "outputs": [
    {
     "data": {
      "text/plain": [
       "MultinomialNB(alpha=1.0, class_prior=None, fit_prior=True)"
      ]
     },
     "execution_count": 85,
     "metadata": {},
     "output_type": "execute_result"
    }
   ],
   "source": [
    "clf = MultinomialNB()\n",
    "clf.fit(X_train,y_train)"
   ]
  },
  {
   "cell_type": "code",
   "execution_count": 86,
   "metadata": {},
   "outputs": [
    {
     "data": {
      "text/plain": [
       "0.5128205128205128"
      ]
     },
     "execution_count": 86,
     "metadata": {},
     "output_type": "execute_result"
    }
   ],
   "source": [
    "clf.score(X_test,y_test,sample_weight=None)"
   ]
  },
  {
   "cell_type": "code",
   "execution_count": 12,
   "metadata": {},
   "outputs": [],
   "source": [
    "y_pred=clf.predict(X_test)"
   ]
  },
  {
   "cell_type": "code",
   "execution_count": 13,
   "metadata": {},
   "outputs": [
    {
     "data": {
      "text/plain": [
       "0.5"
      ]
     },
     "execution_count": 13,
     "metadata": {},
     "output_type": "execute_result"
    }
   ],
   "source": [
    "from sklearn.metrics import accuracy_score\n",
    "accuracy_score(y_test,y_pred)"
   ]
  },
  {
   "cell_type": "code",
   "execution_count": 87,
   "metadata": {},
   "outputs": [
    {
     "data": {
      "text/plain": [
       "array([[-1.77585077, -4.64374967, -2.89745257, -5.5600404 , -5.5600404 ,\n",
       "        -2.76683239, -3.40055615, -2.73667935, -3.45997957, -4.71274254,\n",
       "        -3.52315847, -5.5600404 , -3.16214513, -3.07513375, -2.77708889,\n",
       "        -2.87446305, -3.91781266, -2.55600932, -4.055963  , -4.30727743,\n",
       "        -3.29135686, -2.98235202, -3.79645181, -2.55600932],\n",
       "       [-1.87781032, -4.8598124 , -2.86325852, -5.0604831 , -5.87141332,\n",
       "        -2.66258783, -3.11457295, -2.83886707, -2.95364258, -4.61865035,\n",
       "        -3.54413561, -5.31179753, -3.56882822, -2.96724824, -2.66258783,\n",
       "        -2.69335949, -4.16666522, -2.65253749, -4.54965748, -4.36733592,\n",
       "        -3.82372047, -3.13057329, -3.49650756, -2.49553374],\n",
       "       [-1.84412745, -4.76728904, -2.85036642, -4.99043259, -4.99043259,\n",
       "        -2.63905733, -3.19867312, -3.15785112, -2.91099105, -4.58496748,\n",
       "        -3.66867675, -4.76728904, -3.11863041, -2.85036642, -2.76580904,\n",
       "        -2.54808555, -3.81177759, -2.76580904, -4.76728904, -4.29728541,\n",
       "        -3.97883168, -3.19867312, -3.73766962, -2.59253731],\n",
       "       [-2.30970256, -4.25561271, -3.07695771, -4.25561271, -4.25561271,\n",
       "        -2.80869373, -3.07695771, -3.33932198, -2.6461748 , -4.94875989,\n",
       "        -3.44468249, -4.25561271, -4.03246916, -2.93385687, -2.6461748 ,\n",
       "        -2.46385324, -3.8501476 , -2.93385687, -3.8501476 , -4.54329478,\n",
       "        -3.44468249, -2.86931835, -3.07695771, -2.55086462]])"
      ]
     },
     "execution_count": 87,
     "metadata": {},
     "output_type": "execute_result"
    }
   ],
   "source": [
    "clf.coef_"
   ]
  },
  {
   "cell_type": "code",
   "execution_count": null,
   "metadata": {},
   "outputs": [],
   "source": []
  }
 ],
 "metadata": {
  "kernelspec": {
   "display_name": "Python 3",
   "language": "python",
   "name": "python3"
  },
  "language_info": {
   "codemirror_mode": {
    "name": "ipython",
    "version": 3
   },
   "file_extension": ".py",
   "mimetype": "text/x-python",
   "name": "python",
   "nbconvert_exporter": "python",
   "pygments_lexer": "ipython3",
   "version": "3.8.2"
  }
 },
 "nbformat": 4,
 "nbformat_minor": 4
}
